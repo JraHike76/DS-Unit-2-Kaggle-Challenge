{
  "nbformat": 4,
  "nbformat_minor": 0,
  "metadata": {
    "kernelspec": {
      "display_name": "Python 3",
      "language": "python",
      "name": "python3"
    },
    "language_info": {
      "codemirror_mode": {
        "name": "ipython",
        "version": 3
      },
      "file_extension": ".py",
      "mimetype": "text/x-python",
      "name": "python",
      "nbconvert_exporter": "python",
      "pygments_lexer": "ipython3",
      "version": "3.7.6"
    },
    "colab": {
      "name": "Jay Adamo - Cross Validation_assignment.ipynb",
      "provenance": [],
      "collapsed_sections": [],
      "include_colab_link": true
    }
  },
  "cells": [
    {
      "cell_type": "markdown",
      "metadata": {
        "id": "view-in-github",
        "colab_type": "text"
      },
      "source": [
        "<a href=\"https://colab.research.google.com/github/JraHike76/DS-Unit-2-Kaggle-Challenge/blob/master/module3-cross-validation/Jay_Adamo_Cross_Validation_assignment.ipynb\" target=\"_parent\"><img src=\"https://colab.research.google.com/assets/colab-badge.svg\" alt=\"Open In Colab\"/></a>"
      ]
    },
    {
      "cell_type": "markdown",
      "metadata": {
        "id": "PO6XRyI7AKdC",
        "colab_type": "text"
      },
      "source": [
        "Lambda School Data Science\n",
        "\n",
        "*Unit 2, Sprint 2, Module 3*\n",
        "\n",
        "---"
      ]
    },
    {
      "cell_type": "markdown",
      "metadata": {
        "id": "SJzd8_VsAKdF",
        "colab_type": "text"
      },
      "source": [
        "# Cross-Validation\n",
        "\n",
        "\n",
        "## Assignment\n",
        "- [ ] [Review requirements for your portfolio project](https://lambdaschool.github.io/ds/unit2), then submit your dataset.\n",
        "- [ ] Continue to participate in our Kaggle challenge. \n",
        "- [ ] Use scikit-learn for hyperparameter optimization with RandomizedSearchCV.\n",
        "- [ ] Submit your predictions to our Kaggle competition. (Go to our Kaggle InClass competition webpage. Use the blue **Submit Predictions** button to upload your CSV file. Or you can use the Kaggle API to submit your predictions.)\n",
        "- [ ] Commit your notebook to your fork of the GitHub repo.\n",
        "\n",
        "\n",
        "**You can't just copy** from the lesson notebook to this assignment.\n",
        "\n",
        "- Because the lesson was **regression**, but the assignment is **classification.**\n",
        "- Because the lesson used [TargetEncoder](https://contrib.scikit-learn.org/categorical-encoding/targetencoder.html), which doesn't work as-is for _multi-class_ classification.\n",
        "\n",
        "So you will have to adapt the example, which is good real-world practice.\n",
        "\n",
        "1. Use a model for classification, such as [RandomForestClassifier](https://scikit-learn.org/stable/modules/generated/sklearn.ensemble.RandomForestClassifier.html)\n",
        "2. Use hyperparameters that match the classifier, such as `randomforestclassifier__ ...`\n",
        "3. Use a metric for classification, such as [`scoring='accuracy'`](https://scikit-learn.org/stable/modules/model_evaluation.html#common-cases-predefined-values)\n",
        "4. If you’re doing a multi-class classification problem — such as whether a waterpump is functional, functional needs repair, or nonfunctional — then use a categorical encoding that works for multi-class classification, such as [OrdinalEncoder](https://contrib.scikit-learn.org/categorical-encoding/ordinal.html) (not [TargetEncoder](https://contrib.scikit-learn.org/categorical-encoding/targetencoder.html))\n",
        "\n",
        "\n",
        "\n",
        "## Stretch Goals\n",
        "\n",
        "### Reading\n",
        "- Jake VanderPlas, [Python Data Science Handbook, Chapter 5.3](https://jakevdp.github.io/PythonDataScienceHandbook/05.03-hyperparameters-and-model-validation.html), Hyperparameters and Model Validation\n",
        "- Jake VanderPlas, [Statistics for Hackers](https://speakerdeck.com/jakevdp/statistics-for-hackers?slide=107)\n",
        "- Ron Zacharski, [A Programmer's Guide to Data Mining, Chapter 5](http://guidetodatamining.com/chapter5/), 10-fold cross validation\n",
        "- Sebastian Raschka, [A Basic Pipeline and Grid Search Setup](https://github.com/rasbt/python-machine-learning-book/blob/master/code/bonus/svm_iris_pipeline_and_gridsearch.ipynb)\n",
        "- Peter Worcester, [A Comparison of Grid Search and Randomized Search Using Scikit Learn](https://blog.usejournal.com/a-comparison-of-grid-search-and-randomized-search-using-scikit-learn-29823179bc85)\n",
        "\n",
        "### Doing\n",
        "- Add your own stretch goals!\n",
        "- Try other [categorical encodings](https://contrib.scikit-learn.org/categorical-encoding/). See the previous assignment notebook for details.\n",
        "- In additon to `RandomizedSearchCV`, scikit-learn has [`GridSearchCV`](https://scikit-learn.org/stable/modules/generated/sklearn.model_selection.GridSearchCV.html). Another library called scikit-optimize has [`BayesSearchCV`](https://scikit-optimize.github.io/notebooks/sklearn-gridsearchcv-replacement.html). Experiment with these alternatives.\n",
        "- _[Introduction to Machine Learning with Python](http://shop.oreilly.com/product/0636920030515.do)_ discusses options for \"Grid-Searching Which Model To Use\" in Chapter 6:\n",
        "\n",
        "> You can even go further in combining GridSearchCV and Pipeline: it is also possible to search over the actual steps being performed in the pipeline (say whether to use StandardScaler or MinMaxScaler). This leads to an even bigger search space and should be considered carefully. Trying all possible solutions is usually not a viable machine learning strategy. However, here is an example comparing a RandomForestClassifier and an SVC ...\n",
        "\n",
        "The example is shown in [the accompanying notebook](https://github.com/amueller/introduction_to_ml_with_python/blob/master/06-algorithm-chains-and-pipelines.ipynb), code cells 35-37. Could you apply this concept to your own pipelines?\n"
      ]
    },
    {
      "cell_type": "markdown",
      "metadata": {
        "id": "76R53Bi-AKdj",
        "colab_type": "text"
      },
      "source": [
        "### BONUS: Stacking!\n",
        "\n",
        "Here's some code you can use to \"stack\" multiple submissions, which is another form of ensembling:\n",
        "\n",
        "```python\n",
        "import pandas as pd\n",
        "\n",
        "# Filenames of your submissions you want to ensemble\n",
        "files = ['submission-01.csv', 'submission-02.csv', 'submission-03.csv']\n",
        "\n",
        "target = 'status_group'\n",
        "submissions = (pd.read_csv(file)[[target]] for file in files)\n",
        "ensemble = pd.concat(submissions, axis='columns')\n",
        "majority_vote = ensemble.mode(axis='columns')[0]\n",
        "\n",
        "sample_submission = pd.read_csv('sample_submission.csv')\n",
        "submission = sample_submission.copy()\n",
        "submission[target] = majority_vote\n",
        "submission.to_csv('my-ultimate-ensemble-submission.csv', index=False)\n",
        "```"
      ]
    },
    {
      "cell_type": "code",
      "metadata": {
        "id": "maloCd0OAKdl",
        "colab_type": "code",
        "colab": {}
      },
      "source": [
        "%%capture\n",
        "import sys\n",
        "\n",
        "# If you're on Colab:\n",
        "if 'google.colab' in sys.modules:\n",
        "    DATA_PATH = 'https://raw.githubusercontent.com/LambdaSchool/DS-Unit-2-Kaggle-Challenge/master/data/'\n",
        "    !pip install category_encoders==2.*\n",
        "\n",
        "# If you're working locally:\n",
        "else:\n",
        "    DATA_PATH = '../data/'"
      ],
      "execution_count": 0,
      "outputs": []
    },
    {
      "cell_type": "code",
      "metadata": {
        "id": "bpNIm1skAKeC",
        "colab_type": "code",
        "colab": {}
      },
      "source": [
        "import pandas as pd\n",
        "\n",
        "# Merge train_features.csv & train_labels.csv\n",
        "train = pd.merge(pd.read_csv(DATA_PATH+'waterpumps/train_features.csv'), \n",
        "                 pd.read_csv(DATA_PATH+'waterpumps/train_labels.csv'))\n",
        "\n",
        "# Read test_features.csv & sample_submission.csv\n",
        "test = pd.read_csv(DATA_PATH+'waterpumps/test_features.csv')\n",
        "sample_submission = pd.read_csv(DATA_PATH+'waterpumps/sample_submission.csv')"
      ],
      "execution_count": 0,
      "outputs": []
    },
    {
      "cell_type": "code",
      "metadata": {
        "id": "Xy4HseMJAKe5",
        "colab_type": "code",
        "outputId": "56bf9608-1ec9-4542-8f06-5c0fd753d08e",
        "colab": {
          "base_uri": "https://localhost:8080/",
          "height": 34
        }
      },
      "source": [
        "train.shape, test.shape"
      ],
      "execution_count": 0,
      "outputs": [
        {
          "output_type": "execute_result",
          "data": {
            "text/plain": [
              "((59400, 41), (14358, 40))"
            ]
          },
          "metadata": {
            "tags": []
          },
          "execution_count": 75
        }
      ]
    },
    {
      "cell_type": "code",
      "metadata": {
        "id": "2vvgqrJ4yRtN",
        "colab_type": "code",
        "colab": {}
      },
      "source": [
        "# Defining a function to wrangle train, validate, and test sets \n",
        "import numpy as np\n",
        "\n",
        "def wrangle(X):\n",
        "    \n",
        "    # Prevent SettingWithCopyWarning\n",
        "    X = X.copy()\n",
        "    \n",
        "    # Setting latitude values near zero equal to zero\n",
        "    X['latitude'] = X['latitude'].replace(-2e-08, 0)\n",
        "    \n",
        "    # replace zeros with nulls\n",
        "    cols_with_zeros = ['longitude', 'latitude','district_code','amount_tsh',\n",
        "                       'population','construction_year','num_private']\n",
        "    for col in cols_with_zeros:\n",
        "        X[col] = X[col].replace(0, np.nan)\n",
        "            \n",
        "    # Drop duplicate columns\n",
        "    duplicates = ['quantity_group', 'payment_type', 'waterpoint_type_group',\n",
        "                  'extraction_type_group','extraction_type_class','source_type']\n",
        "    X = X.drop(columns=duplicates)\n",
        "    \n",
        "    # Drop unusable columns\n",
        "    unusable_variance = ['recorded_by', 'id']\n",
        "    X = X.drop(columns=unusable_variance)\n",
        "    \n",
        "    # Convert date_recorded to datetime\n",
        "    X['date_recorded'] = pd.to_datetime(X['date_recorded'], infer_datetime_format=True)\n",
        "    \n",
        "    # Extract components from date_recorded, then drop the original column\n",
        "    # This will give us just the year for the next feature\n",
        "    X['year_recorded'] = X['date_recorded'].dt.year\n",
        "    X['month_recorded'] = X['date_recorded'].dt.month\n",
        "    X['day_recorded'] = X['date_recorded'].dt.day\n",
        "    X = X.drop(columns='date_recorded')\n",
        "     \n",
        "    # creating columns 'years' and 'years_MISSING' \n",
        "    # to represent years from construction_year to date_recorded\n",
        "    X['years'] = X['year_recorded'] - X['construction_year']\n",
        "    X['years_MISSING'] = X['years'].isnull()\n",
        "    \n",
        "    # return the wrangled dataframe\n",
        "    return X\n",
        "\n",
        "train = wrangle(train)\n",
        "test = wrangle(test)"
      ],
      "execution_count": 0,
      "outputs": []
    },
    {
      "cell_type": "code",
      "metadata": {
        "id": "6QC-cqOa5e15",
        "colab_type": "code",
        "outputId": "a0326a6b-2635-4e35-9bdf-a2ce66c94e60",
        "colab": {
          "base_uri": "https://localhost:8080/",
          "height": 54
        }
      },
      "source": [
        "# setting target\n",
        "target = 'status_group'\n",
        "\n",
        "# train features, dropping target\n",
        "train_features = train.drop(columns=[target])\n",
        "\n",
        "# list of the numeric features\n",
        "numeric_features = train_features.select_dtypes(include='number').columns.tolist()\n",
        "\n",
        "# series with the cardinality of the nonnumeric features\n",
        "cardinality = train_features.select_dtypes(exclude='number').nunique()\n",
        "\n",
        "# list of all categorical features with cardinality <= 50\n",
        "categorical_features = cardinality[cardinality <= 50].index.tolist()\n",
        "\n",
        "# Combine the lists \n",
        "features = numeric_features + categorical_features\n",
        "\n",
        "print(features)"
      ],
      "execution_count": 0,
      "outputs": [
        {
          "output_type": "stream",
          "text": [
            "['amount_tsh', 'gps_height', 'longitude', 'latitude', 'num_private', 'region_code', 'district_code', 'population', 'construction_year', 'year_recorded', 'month_recorded', 'day_recorded', 'years', 'basin', 'region', 'public_meeting', 'scheme_management', 'permit', 'extraction_type', 'management', 'management_group', 'payment', 'water_quality', 'quality_group', 'quantity', 'source', 'source_class', 'waterpoint_type', 'years_MISSING']\n"
          ],
          "name": "stdout"
        }
      ]
    },
    {
      "cell_type": "code",
      "metadata": {
        "id": "xrROyn-6yRq3",
        "colab_type": "code",
        "outputId": "2cba2201-20ca-48d0-f196-bcb8f02832ea",
        "colab": {
          "base_uri": "https://localhost:8080/",
          "height": 34
        }
      },
      "source": [
        "X_train = train[features]\n",
        "y_train = train[target]\n",
        "X_test = test\n",
        "\n",
        "X_train.shape, y_train.shape, X_test.shape"
      ],
      "execution_count": 0,
      "outputs": [
        {
          "output_type": "execute_result",
          "data": {
            "text/plain": [
              "((59400, 29), (59400,), (14358, 36))"
            ]
          },
          "metadata": {
            "tags": []
          },
          "execution_count": 78
        }
      ]
    },
    {
      "cell_type": "code",
      "metadata": {
        "id": "CzBdGjzzyRkx",
        "colab_type": "code",
        "colab": {}
      },
      "source": [
        "# importing all libraries\n",
        "import category_encoders as ce\n",
        "from sklearn.ensemble import RandomForestClassifier\n",
        "from sklearn.impute import SimpleImputer\n",
        "from sklearn.pipeline import make_pipeline\n",
        "from sklearn.model_selection import cross_val_score"
      ],
      "execution_count": 0,
      "outputs": []
    },
    {
      "cell_type": "code",
      "metadata": {
        "id": "CZBFkd7E6CJ5",
        "colab_type": "code",
        "outputId": "5185d555-a323-4aa6-f33f-d5c0e5dbba4d",
        "colab": {
          "base_uri": "https://localhost:8080/",
          "height": 51
        }
      },
      "source": [
        "# Making pipeline, Ordinal Encoding with a RandomForestClassifier\n",
        "\n",
        "target = 'status_group'\n",
        "features = numeric_features + categorical_features\n",
        "\n",
        "X_train = train[features]\n",
        "y_train = train[target]\n",
        "\n",
        "\n",
        "pipeline = make_pipeline(\n",
        "    ce.OrdinalEncoder(),\n",
        "    SimpleImputer(strategy='mean'), \n",
        "    RandomForestClassifier(n_estimators=100, random_state=42, n_jobs=-1, max_depth=18) \n",
        ")\n",
        "\n",
        "k = 10\n",
        "scores = cross_val_score(pipeline, X_train, y_train, cv=k, \n",
        "                         scoring='accuracy')\n",
        "print(f'Accuracy Scores for {k} folds:', scores)"
      ],
      "execution_count": 0,
      "outputs": [
        {
          "output_type": "stream",
          "text": [
            "Accuracy Scores for 10 folds: [0.81632997 0.81969697 0.81127946 0.803367   0.82037037 0.8037037\n",
            " 0.81548822 0.8016835  0.8040404  0.81801347]\n"
          ],
          "name": "stdout"
        }
      ]
    },
    {
      "cell_type": "code",
      "metadata": {
        "id": "JT2vQIZbBDp_",
        "colab_type": "code",
        "outputId": "1c5d2929-9347-4e38-de97-562da4d3ea53",
        "colab": {
          "base_uri": "https://localhost:8080/",
          "height": 34
        }
      },
      "source": [
        "scores.mean()"
      ],
      "execution_count": 0,
      "outputs": [
        {
          "output_type": "execute_result",
          "data": {
            "text/plain": [
              "0.8113973063973065"
            ]
          },
          "metadata": {
            "tags": []
          },
          "execution_count": 81
        }
      ]
    },
    {
      "cell_type": "code",
      "metadata": {
        "id": "XaOPwTx2_42q",
        "colab_type": "code",
        "outputId": "937d3a2f-63fc-45bf-f40b-f735a677f7de",
        "colab": {
          "base_uri": "https://localhost:8080/",
          "height": 170
        }
      },
      "source": [
        "#Looking at hyperparameters \n",
        "\n",
        "print('Model Hyperparameters:')\n",
        "print(pipeline.named_steps['randomforestclassifier'])"
      ],
      "execution_count": 0,
      "outputs": [
        {
          "output_type": "stream",
          "text": [
            "Model Hyperparameters:\n",
            "RandomForestClassifier(bootstrap=True, ccp_alpha=0.0, class_weight=None,\n",
            "                       criterion='gini', max_depth=18, max_features='auto',\n",
            "                       max_leaf_nodes=None, max_samples=None,\n",
            "                       min_impurity_decrease=0.0, min_impurity_split=None,\n",
            "                       min_samples_leaf=1, min_samples_split=2,\n",
            "                       min_weight_fraction_leaf=0.0, n_estimators=100,\n",
            "                       n_jobs=-1, oob_score=False, random_state=42, verbose=0,\n",
            "                       warm_start=False)\n"
          ],
          "name": "stdout"
        }
      ]
    },
    {
      "cell_type": "code",
      "metadata": {
        "id": "-0Nslp0d_4nM",
        "colab_type": "code",
        "outputId": "b7fe15e8-ecfe-4394-baaf-9e68c3bba045",
        "colab": {
          "base_uri": "https://localhost:8080/",
          "height": 595
        }
      },
      "source": [
        "# plotting validation curve\n",
        "%matplotlib inline\n",
        "import matplotlib.pyplot as plt\n",
        "from sklearn.model_selection import validation_curve\n",
        "from sklearn.tree import DecisionTreeClassifier\n",
        "\n",
        "pipeline = make_pipeline(\n",
        "    ce.OrdinalEncoder(), \n",
        "    SimpleImputer(), \n",
        "    DecisionTreeClassifier()\n",
        ")\n",
        "\n",
        "depth = range(1, 30, 3)\n",
        "train_scores, val_scores = validation_curve(\n",
        "    pipeline, X_train, y_train,\n",
        "    param_name='decisiontreeclassifier__max_depth', \n",
        "    param_range=depth, scoring='accuracy', \n",
        "    cv=3,\n",
        "    n_jobs=-1\n",
        ")\n",
        "\n",
        "plt.figure(dpi=150)\n",
        "plt.plot(depth, np.mean(-train_scores, axis=1), color='blue', label='training error')\n",
        "plt.plot(depth, np.mean(-val_scores, axis=1), color='red', label='validation error')\n",
        "plt.title('Validation Curve')\n",
        "plt.xlabel('model complexity: RandomForestClassifier max_depth')\n",
        "plt.ylabel('model score: Accuracy')\n",
        "plt.legend();"
      ],
      "execution_count": 0,
      "outputs": [
        {
          "output_type": "display_data",
          "data": {
            "image/png": "[encoded data removed]",
            "text/plain": [
              "<Figure size 900x600 with 1 Axes>"
            ]
          },
          "metadata": {
            "tags": [],
            "needs_background": "light"
          }
        }
      ]
    },
    {
      "cell_type": "code",
      "metadata": {
        "id": "LLvDH8DbFylL",
        "colab_type": "code",
        "colab": {}
      },
      "source": [
        "# addition setting for y limit to zoom in\n",
        "\n",
        "plt.figure(dpi=150)\n",
        "plt.plot(depth, np.mean(-train_scores, axis=1), color='blue', label='training error')\n",
        "plt.plot(depth, np.mean(-val_scores, axis=1), color='red', label='validation error')\n",
        "plt.title('Validation Curve, Zoomed In')\n",
        "plt.xlabel('model complexity: DecisionTreeClassifier max_depth')\n",
        "plt.ylabel('model score: Accuracy')\n",
        "plt.ylim((-.80, -.70))  \n",
        "plt.legend();"
      ],
      "execution_count": 0,
      "outputs": []
    },
    {
      "cell_type": "code",
      "metadata": {
        "id": "5gRzhe-nFyeJ",
        "colab_type": "code",
        "outputId": "21d3de3c-116f-4f48-eeb0-385dcf0d3cf7",
        "colab": {
          "base_uri": "https://localhost:8080/",
          "height": 207
        }
      },
      "source": [
        "# Using RandomizedSearchCV to find optimal values for hyperparameters\n",
        "from sklearn.model_selection import GridSearchCV, RandomizedSearchCV\n",
        "from scipy.stats import randint, uniform\n",
        "\n",
        "features = numeric_features + categorical_features\n",
        "X_train = train[features]\n",
        "y_train = train[target]\n",
        "\n",
        "# making pipeline for random search\n",
        "pipeline = make_pipeline(\n",
        "    ce.OrdinalEncoder(), \n",
        "    SimpleImputer(), \n",
        "    RandomForestClassifier(random_state=42)\n",
        ")\n",
        "\n",
        "# setting parameter distributions\n",
        "param_distributions = {\n",
        "    'simpleimputer__strategy': ['mean', 'median'], \n",
        "    'randomforestclassifier__n_estimators': randint(50, 500), \n",
        "    'randomforestclassifier__max_depth': [5, 10, 15, 20, None], \n",
        "    'randomforestclassifier__max_features': uniform(0, 1), \n",
        "}\n",
        "\n",
        "# Using colab I will set n_iter = 10 and cv = 3 (for a quicker run)\n",
        "search = RandomizedSearchCV(     \n",
        "    pipeline, \n",
        "    param_distributions=param_distributions, \n",
        "    n_iter=10, \n",
        "    cv=3, \n",
        "    scoring='accuracy', \n",
        "    verbose=10, \n",
        "    return_train_score=True, \n",
        "    n_jobs=-1\n",
        ")\n",
        "\n",
        "search.fit(X_train, y_train);"
      ],
      "execution_count": 0,
      "outputs": [
        {
          "output_type": "stream",
          "text": [
            "Fitting 3 folds for each of 10 candidates, totalling 30 fits\n"
          ],
          "name": "stdout"
        },
        {
          "output_type": "stream",
          "text": [
            "[Parallel(n_jobs=-1)]: Using backend LokyBackend with 2 concurrent workers.\n",
            "[Parallel(n_jobs=-1)]: Done   1 tasks      | elapsed:   58.3s\n",
            "[Parallel(n_jobs=-1)]: Done   4 tasks      | elapsed:  1.8min\n",
            "/usr/local/lib/python3.6/dist-packages/joblib/externals/loky/process_executor.py:691: UserWarning: A worker stopped while some jobs were given to the executor. This can be caused by a too short worker timeout or by a memory leak.\n",
            "  \"timeout or by a memory leak.\", UserWarning\n",
            "[Parallel(n_jobs=-1)]: Done   9 tasks      | elapsed:  4.9min\n",
            "[Parallel(n_jobs=-1)]: Done  14 tasks      | elapsed:  6.8min\n",
            "[Parallel(n_jobs=-1)]: Done  21 tasks      | elapsed: 12.9min\n",
            "[Parallel(n_jobs=-1)]: Done  30 out of  30 | elapsed: 17.6min finished\n"
          ],
          "name": "stderr"
        }
      ]
    },
    {
      "cell_type": "code",
      "metadata": {
        "id": "b8sjTDKJFyJE",
        "colab_type": "code",
        "outputId": "f4d3c915-b410-4258-d744-e99831bd5469",
        "colab": {
          "base_uri": "https://localhost:8080/",
          "height": 71
        }
      },
      "source": [
        "print('Best hyperparameters', search.best_params_)\n",
        "print('Accuracy', search.best_score_)"
      ],
      "execution_count": 0,
      "outputs": [
        {
          "output_type": "stream",
          "text": [
            "Best hyperparameters {'randomforestclassifier__max_depth': 20, 'randomforestclassifier__max_features': 0.30326248264690703, 'randomforestclassifier__n_estimators': 478, 'simpleimputer__strategy': 'mean'}\n",
            "Accuracy 0.8064478114478114\n"
          ],
          "name": "stdout"
        }
      ]
    },
    {
      "cell_type": "code",
      "metadata": {
        "id": "-ks4k1VoayzD",
        "colab_type": "code",
        "outputId": "7e2e092a-00c5-4610-a1c1-01c129834026",
        "colab": {
          "base_uri": "https://localhost:8080/",
          "height": 706
        }
      },
      "source": [
        "pd.DataFrame(search.cv_results_).sort_values(by='rank_test_score').T"
      ],
      "execution_count": 0,
      "outputs": [
        {
          "output_type": "execute_result",
          "data": {
            "text/html": [
              "<div>\n",
              "<style scoped>\n",
              "    .dataframe tbody tr th:only-of-type {\n",
              "        vertical-align: middle;\n",
              "    }\n",
              "\n",
              "    .dataframe tbody tr th {\n",
              "        vertical-align: top;\n",
              "    }\n",
              "\n",
              "    .dataframe thead th {\n",
              "        text-align: right;\n",
              "    }\n",
              "</style>\n",
              "<table border=\"1\" class=\"dataframe\">\n",
              "  <thead>\n",
              "    <tr style=\"text-align: right;\">\n",
              "      <th></th>\n",
              "      <th>6</th>\n",
              "      <th>8</th>\n",
              "      <th>9</th>\n",
              "      <th>2</th>\n",
              "      <th>7</th>\n",
              "      <th>3</th>\n",
              "      <th>5</th>\n",
              "      <th>1</th>\n",
              "      <th>4</th>\n",
              "      <th>0</th>\n",
              "    </tr>\n",
              "  </thead>\n",
              "  <tbody>\n",
              "    <tr>\n",
              "      <th>mean_fit_time</th>\n",
              "      <td>73.9508</td>\n",
              "      <td>119.103</td>\n",
              "      <td>16.005</td>\n",
              "      <td>84.1203</td>\n",
              "      <td>28.5225</td>\n",
              "      <td>66.5438</td>\n",
              "      <td>133.443</td>\n",
              "      <td>21.9625</td>\n",
              "      <td>37.5115</td>\n",
              "      <td>55.1095</td>\n",
              "    </tr>\n",
              "    <tr>\n",
              "      <th>std_fit_time</th>\n",
              "      <td>0.396014</td>\n",
              "      <td>7.82834</td>\n",
              "      <td>0.516217</td>\n",
              "      <td>0.838513</td>\n",
              "      <td>0.243627</td>\n",
              "      <td>0.553805</td>\n",
              "      <td>0.504698</td>\n",
              "      <td>0.0173314</td>\n",
              "      <td>0.142884</td>\n",
              "      <td>0.200062</td>\n",
              "    </tr>\n",
              "    <tr>\n",
              "      <th>mean_score_time</th>\n",
              "      <td>3.21</td>\n",
              "      <td>2.67967</td>\n",
              "      <td>1.44004</td>\n",
              "      <td>2.16121</td>\n",
              "      <td>0.843538</td>\n",
              "      <td>1.17091</td>\n",
              "      <td>1.98306</td>\n",
              "      <td>0.606521</td>\n",
              "      <td>0.911823</td>\n",
              "      <td>1.06509</td>\n",
              "    </tr>\n",
              "    <tr>\n",
              "      <th>std_score_time</th>\n",
              "      <td>0.125043</td>\n",
              "      <td>0.370796</td>\n",
              "      <td>0.0110704</td>\n",
              "      <td>0.0574811</td>\n",
              "      <td>0.00735819</td>\n",
              "      <td>0.0143748</td>\n",
              "      <td>0.0598452</td>\n",
              "      <td>0.0107373</td>\n",
              "      <td>0.0114373</td>\n",
              "      <td>0.0116009</td>\n",
              "    </tr>\n",
              "    <tr>\n",
              "      <th>param_randomforestclassifier__max_depth</th>\n",
              "      <td>20</td>\n",
              "      <td>20</td>\n",
              "      <td>20</td>\n",
              "      <td>20</td>\n",
              "      <td>20</td>\n",
              "      <td>None</td>\n",
              "      <td>15</td>\n",
              "      <td>5</td>\n",
              "      <td>5</td>\n",
              "      <td>5</td>\n",
              "    </tr>\n",
              "    <tr>\n",
              "      <th>param_randomforestclassifier__max_features</th>\n",
              "      <td>0.303262</td>\n",
              "      <td>0.527241</td>\n",
              "      <td>0.103729</td>\n",
              "      <td>0.500135</td>\n",
              "      <td>0.503618</td>\n",
              "      <td>0.837858</td>\n",
              "      <td>0.818255</td>\n",
              "      <td>0.598184</td>\n",
              "      <td>0.594533</td>\n",
              "      <td>0.726388</td>\n",
              "    </tr>\n",
              "    <tr>\n",
              "      <th>param_randomforestclassifier__n_estimators</th>\n",
              "      <td>478</td>\n",
              "      <td>460</td>\n",
              "      <td>195</td>\n",
              "      <td>332</td>\n",
              "      <td>110</td>\n",
              "      <td>148</td>\n",
              "      <td>381</td>\n",
              "      <td>200</td>\n",
              "      <td>343</td>\n",
              "      <td>421</td>\n",
              "    </tr>\n",
              "    <tr>\n",
              "      <th>param_simpleimputer__strategy</th>\n",
              "      <td>mean</td>\n",
              "      <td>mean</td>\n",
              "      <td>median</td>\n",
              "      <td>median</td>\n",
              "      <td>mean</td>\n",
              "      <td>median</td>\n",
              "      <td>mean</td>\n",
              "      <td>mean</td>\n",
              "      <td>mean</td>\n",
              "      <td>mean</td>\n",
              "    </tr>\n",
              "    <tr>\n",
              "      <th>params</th>\n",
              "      <td>{'randomforestclassifier__max_depth': 20, 'ran...</td>\n",
              "      <td>{'randomforestclassifier__max_depth': 20, 'ran...</td>\n",
              "      <td>{'randomforestclassifier__max_depth': 20, 'ran...</td>\n",
              "      <td>{'randomforestclassifier__max_depth': 20, 'ran...</td>\n",
              "      <td>{'randomforestclassifier__max_depth': 20, 'ran...</td>\n",
              "      <td>{'randomforestclassifier__max_depth': None, 'r...</td>\n",
              "      <td>{'randomforestclassifier__max_depth': 15, 'ran...</td>\n",
              "      <td>{'randomforestclassifier__max_depth': 5, 'rand...</td>\n",
              "      <td>{'randomforestclassifier__max_depth': 5, 'rand...</td>\n",
              "      <td>{'randomforestclassifier__max_depth': 5, 'rand...</td>\n",
              "    </tr>\n",
              "    <tr>\n",
              "      <th>split0_test_score</th>\n",
              "      <td>0.805657</td>\n",
              "      <td>0.804343</td>\n",
              "      <td>0.806717</td>\n",
              "      <td>0.804495</td>\n",
              "      <td>0.804747</td>\n",
              "      <td>0.798182</td>\n",
              "      <td>0.797273</td>\n",
              "      <td>0.717323</td>\n",
              "      <td>0.717323</td>\n",
              "      <td>0.718939</td>\n",
              "    </tr>\n",
              "    <tr>\n",
              "      <th>split1_test_score</th>\n",
              "      <td>0.80803</td>\n",
              "      <td>0.809242</td>\n",
              "      <td>0.80601</td>\n",
              "      <td>0.807828</td>\n",
              "      <td>0.806263</td>\n",
              "      <td>0.800354</td>\n",
              "      <td>0.794747</td>\n",
              "      <td>0.713838</td>\n",
              "      <td>0.713939</td>\n",
              "      <td>0.712374</td>\n",
              "    </tr>\n",
              "    <tr>\n",
              "      <th>split2_test_score</th>\n",
              "      <td>0.805657</td>\n",
              "      <td>0.804343</td>\n",
              "      <td>0.805051</td>\n",
              "      <td>0.803182</td>\n",
              "      <td>0.803485</td>\n",
              "      <td>0.796869</td>\n",
              "      <td>0.797677</td>\n",
              "      <td>0.721364</td>\n",
              "      <td>0.719899</td>\n",
              "      <td>0.718535</td>\n",
              "    </tr>\n",
              "    <tr>\n",
              "      <th>mean_test_score</th>\n",
              "      <td>0.806448</td>\n",
              "      <td>0.805976</td>\n",
              "      <td>0.805926</td>\n",
              "      <td>0.805168</td>\n",
              "      <td>0.804832</td>\n",
              "      <td>0.798468</td>\n",
              "      <td>0.796566</td>\n",
              "      <td>0.717508</td>\n",
              "      <td>0.717054</td>\n",
              "      <td>0.716616</td>\n",
              "    </tr>\n",
              "    <tr>\n",
              "      <th>std_test_score</th>\n",
              "      <td>0.00111899</td>\n",
              "      <td>0.00230941</td>\n",
              "      <td>0.000683012</td>\n",
              "      <td>0.00195576</td>\n",
              "      <td>0.00113558</td>\n",
              "      <td>0.001437</td>\n",
              "      <td>0.00129619</td>\n",
              "      <td>0.00307496</td>\n",
              "      <td>0.00244044</td>\n",
              "      <td>0.00300438</td>\n",
              "    </tr>\n",
              "    <tr>\n",
              "      <th>rank_test_score</th>\n",
              "      <td>1</td>\n",
              "      <td>2</td>\n",
              "      <td>3</td>\n",
              "      <td>4</td>\n",
              "      <td>5</td>\n",
              "      <td>6</td>\n",
              "      <td>7</td>\n",
              "      <td>8</td>\n",
              "      <td>9</td>\n",
              "      <td>10</td>\n",
              "    </tr>\n",
              "    <tr>\n",
              "      <th>split0_train_score</th>\n",
              "      <td>0.953359</td>\n",
              "      <td>0.956263</td>\n",
              "      <td>0.939899</td>\n",
              "      <td>0.953662</td>\n",
              "      <td>0.954899</td>\n",
              "      <td>0.99798</td>\n",
              "      <td>0.87399</td>\n",
              "      <td>0.722298</td>\n",
              "      <td>0.722626</td>\n",
              "      <td>0.723384</td>\n",
              "    </tr>\n",
              "    <tr>\n",
              "      <th>split1_train_score</th>\n",
              "      <td>0.961515</td>\n",
              "      <td>0.962955</td>\n",
              "      <td>0.946389</td>\n",
              "      <td>0.960076</td>\n",
              "      <td>0.960833</td>\n",
              "      <td>0.998308</td>\n",
              "      <td>0.88351</td>\n",
              "      <td>0.717247</td>\n",
              "      <td>0.717374</td>\n",
              "      <td>0.715934</td>\n",
              "    </tr>\n",
              "    <tr>\n",
              "      <th>split2_train_score</th>\n",
              "      <td>0.965455</td>\n",
              "      <td>0.967348</td>\n",
              "      <td>0.950631</td>\n",
              "      <td>0.965606</td>\n",
              "      <td>0.96601</td>\n",
              "      <td>0.997854</td>\n",
              "      <td>0.88846</td>\n",
              "      <td>0.719015</td>\n",
              "      <td>0.717222</td>\n",
              "      <td>0.715909</td>\n",
              "    </tr>\n",
              "    <tr>\n",
              "      <th>mean_train_score</th>\n",
              "      <td>0.960109</td>\n",
              "      <td>0.962189</td>\n",
              "      <td>0.94564</td>\n",
              "      <td>0.959781</td>\n",
              "      <td>0.960581</td>\n",
              "      <td>0.998047</td>\n",
              "      <td>0.881987</td>\n",
              "      <td>0.71952</td>\n",
              "      <td>0.719074</td>\n",
              "      <td>0.718409</td>\n",
              "    </tr>\n",
              "    <tr>\n",
              "      <th>std_train_score</th>\n",
              "      <td>0.0050372</td>\n",
              "      <td>0.00455808</td>\n",
              "      <td>0.00441336</td>\n",
              "      <td>0.00488075</td>\n",
              "      <td>0.00453961</td>\n",
              "      <td>0.000191579</td>\n",
              "      <td>0.00600466</td>\n",
              "      <td>0.00209256</td>\n",
              "      <td>0.00251254</td>\n",
              "      <td>0.00351769</td>\n",
              "    </tr>\n",
              "  </tbody>\n",
              "</table>\n",
              "</div>"
            ],
            "text/plain": [
              "                                                                                            6  ...                                                  0\n",
              "mean_fit_time                                                                         73.9508  ...                                            55.1095\n",
              "std_fit_time                                                                         0.396014  ...                                           0.200062\n",
              "mean_score_time                                                                          3.21  ...                                            1.06509\n",
              "std_score_time                                                                       0.125043  ...                                          0.0116009\n",
              "param_randomforestclassifier__max_depth                                                    20  ...                                                  5\n",
              "param_randomforestclassifier__max_features                                           0.303262  ...                                           0.726388\n",
              "param_randomforestclassifier__n_estimators                                                478  ...                                                421\n",
              "param_simpleimputer__strategy                                                            mean  ...                                               mean\n",
              "params                                      {'randomforestclassifier__max_depth': 20, 'ran...  ...  {'randomforestclassifier__max_depth': 5, 'rand...\n",
              "split0_test_score                                                                    0.805657  ...                                           0.718939\n",
              "split1_test_score                                                                     0.80803  ...                                           0.712374\n",
              "split2_test_score                                                                    0.805657  ...                                           0.718535\n",
              "mean_test_score                                                                      0.806448  ...                                           0.716616\n",
              "std_test_score                                                                     0.00111899  ...                                         0.00300438\n",
              "rank_test_score                                                                             1  ...                                                 10\n",
              "split0_train_score                                                                   0.953359  ...                                           0.723384\n",
              "split1_train_score                                                                   0.961515  ...                                           0.715934\n",
              "split2_train_score                                                                   0.965455  ...                                           0.715909\n",
              "mean_train_score                                                                     0.960109  ...                                           0.718409\n",
              "std_train_score                                                                     0.0050372  ...                                         0.00351769\n",
              "\n",
              "[20 rows x 10 columns]"
            ]
          },
          "metadata": {
            "tags": []
          },
          "execution_count": 87
        }
      ]
    },
    {
      "cell_type": "code",
      "metadata": {
        "id": "R2u6lSJ2hsWx",
        "colab_type": "code",
        "colab": {}
      },
      "source": [
        "X_test = test[features]\n",
        "assert all(X_train.columns == X_test.columns)"
      ],
      "execution_count": 0,
      "outputs": []
    },
    {
      "cell_type": "code",
      "metadata": {
        "id": "0npO_ZkJpkYT",
        "colab_type": "code",
        "colab": {}
      },
      "source": [
        "y_pred = pipeline.predict(X_test)"
      ],
      "execution_count": 0,
      "outputs": []
    },
    {
      "cell_type": "code",
      "metadata": {
        "id": "whpoUYjbhwAk",
        "colab_type": "code",
        "colab": {}
      },
      "source": [
        "submission = sample_submission.copy()\n",
        "submission['status_group'] = y_pred\n",
        "submission.to_csv('JAdamosubmission3.csv', index=False)"
      ],
      "execution_count": 0,
      "outputs": []
    }
  ]
}