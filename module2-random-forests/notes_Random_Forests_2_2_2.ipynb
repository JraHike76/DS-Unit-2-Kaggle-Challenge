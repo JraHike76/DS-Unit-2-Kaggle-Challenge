{
  "nbformat": 4,
  "nbformat_minor": 0,
  "metadata": {
    "kernelspec": {
      "display_name": "Python 3",
      "language": "python",
      "name": "python3"
    },
    "language_info": {
      "codemirror_mode": {
        "name": "ipython",
        "version": 3
      },
      "file_extension": ".py",
      "mimetype": "text/x-python",
      "name": "python",
      "nbconvert_exporter": "python",
      "pygments_lexer": "ipython3",
      "version": "3.7.3"
    },
    "colab": {
      "name": "notes - Random Forests - 2-2-2.ipynb",
      "provenance": [],
      "include_colab_link": true
    },
    "widgets": {
      "application/vnd.jupyter.widget-state+json": {
        "bc10ade5cf0f4896aaa4c73d80b7071f": {
          "model_module": "@jupyter-widgets/controls",
          "model_name": "VBoxModel",
          "state": {
            "_view_name": "VBoxView",
            "_dom_classes": [
              "widget-interact"
            ],
            "_model_name": "VBoxModel",
            "_view_module": "@jupyter-widgets/controls",
            "_model_module_version": "1.5.0",
            "_view_count": null,
            "_view_module_version": "1.5.0",
            "box_style": "",
            "layout": "IPY_MODEL_f4425246338d42619a61e48c7a311763",
            "_model_module": "@jupyter-widgets/controls",
            "children": [
              "IPY_MODEL_94ee6b68436245bf8ae8b75a744b5185",
              "IPY_MODEL_a2d2356352474a8291b0ef92e9a1bf37",
              "IPY_MODEL_d34cbdd537b54ec6b928daca3bf7f172"
            ]
          }
        },
        "f4425246338d42619a61e48c7a311763": {
          "model_module": "@jupyter-widgets/base",
          "model_name": "LayoutModel",
          "state": {
            "_view_name": "LayoutView",
            "grid_template_rows": null,
            "right": null,
            "justify_content": null,
            "_view_module": "@jupyter-widgets/base",
            "overflow": null,
            "_model_module_version": "1.2.0",
            "_view_count": null,
            "flex_flow": null,
            "width": null,
            "min_width": null,
            "border": null,
            "align_items": null,
            "bottom": null,
            "_model_module": "@jupyter-widgets/base",
            "top": null,
            "grid_column": null,
            "overflow_y": null,
            "overflow_x": null,
            "grid_auto_flow": null,
            "grid_area": null,
            "grid_template_columns": null,
            "flex": null,
            "_model_name": "LayoutModel",
            "justify_items": null,
            "grid_row": null,
            "max_height": null,
            "align_content": null,
            "visibility": null,
            "align_self": null,
            "height": null,
            "min_height": null,
            "padding": null,
            "grid_auto_rows": null,
            "grid_gap": null,
            "max_width": null,
            "order": null,
            "_view_module_version": "1.2.0",
            "grid_template_areas": null,
            "object_position": null,
            "object_fit": null,
            "grid_auto_columns": null,
            "margin": null,
            "display": null,
            "left": null
          }
        },
        "94ee6b68436245bf8ae8b75a744b5185": {
          "model_module": "@jupyter-widgets/controls",
          "model_name": "IntSliderModel",
          "state": {
            "_view_name": "IntSliderView",
            "style": "IPY_MODEL_b3c1606face3432585e14de84b218c29",
            "_dom_classes": [],
            "description": "max_depth",
            "step": 1,
            "_model_name": "IntSliderModel",
            "orientation": "horizontal",
            "max": 6,
            "_view_module": "@jupyter-widgets/controls",
            "_model_module_version": "1.5.0",
            "value": 1,
            "_view_count": null,
            "disabled": false,
            "_view_module_version": "1.5.0",
            "min": 1,
            "continuous_update": true,
            "readout_format": "d",
            "description_tooltip": null,
            "readout": true,
            "_model_module": "@jupyter-widgets/controls",
            "layout": "IPY_MODEL_5faa1da1c1d8423b9c5fe79baa443b7c"
          }
        },
        "a2d2356352474a8291b0ef92e9a1bf37": {
          "model_module": "@jupyter-widgets/controls",
          "model_name": "IntSliderModel",
          "state": {
            "_view_name": "IntSliderView",
            "style": "IPY_MODEL_5703f2bdf8264233a7d8340fded819c0",
            "_dom_classes": [],
            "description": "n_estimators",
            "step": 10,
            "_model_name": "IntSliderModel",
            "orientation": "horizontal",
            "max": 40,
            "_view_module": "@jupyter-widgets/controls",
            "_model_module_version": "1.5.0",
            "value": 10,
            "_view_count": null,
            "disabled": false,
            "_view_module_version": "1.5.0",
            "min": 10,
            "continuous_update": true,
            "readout_format": "d",
            "description_tooltip": null,
            "readout": true,
            "_model_module": "@jupyter-widgets/controls",
            "layout": "IPY_MODEL_d624233b2cfc468e8750e13cfa018608"
          }
        },
        "d34cbdd537b54ec6b928daca3bf7f172": {
          "model_module": "@jupyter-widgets/output",
          "model_name": "OutputModel",
          "state": {
            "_view_name": "OutputView",
            "msg_id": "",
            "_dom_classes": [],
            "_model_name": "OutputModel",
            "outputs": [
              {
                "output_type": "display_data",
                "metadata": {
                  "tags": [],
                  "needs_background": "light"
                },
                "image/png": "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\n",
                "text/plain": "<Figure size 432x288 with 1 Axes>"
              },
              {
                "output_type": "display_data",
                "metadata": {
                  "tags": [],
                  "needs_background": "light"
                },
                "image/png": "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\n",
                "text/plain": "<Figure size 432x288 with 1 Axes>"
              }
            ],
            "_view_module": "@jupyter-widgets/output",
            "_model_module_version": "1.0.0",
            "_view_count": null,
            "_view_module_version": "1.0.0",
            "layout": "IPY_MODEL_7af02813e40246949af9bbc01b3eb14c",
            "_model_module": "@jupyter-widgets/output"
          }
        },
        "b3c1606face3432585e14de84b218c29": {
          "model_module": "@jupyter-widgets/controls",
          "model_name": "SliderStyleModel",
          "state": {
            "_view_name": "StyleView",
            "handle_color": null,
            "_model_name": "SliderStyleModel",
            "description_width": "",
            "_view_module": "@jupyter-widgets/base",
            "_model_module_version": "1.5.0",
            "_view_count": null,
            "_view_module_version": "1.2.0",
            "_model_module": "@jupyter-widgets/controls"
          }
        },
        "5faa1da1c1d8423b9c5fe79baa443b7c": {
          "model_module": "@jupyter-widgets/base",
          "model_name": "LayoutModel",
          "state": {
            "_view_name": "LayoutView",
            "grid_template_rows": null,
            "right": null,
            "justify_content": null,
            "_view_module": "@jupyter-widgets/base",
            "overflow": null,
            "_model_module_version": "1.2.0",
            "_view_count": null,
            "flex_flow": null,
            "width": null,
            "min_width": null,
            "border": null,
            "align_items": null,
            "bottom": null,
            "_model_module": "@jupyter-widgets/base",
            "top": null,
            "grid_column": null,
            "overflow_y": null,
            "overflow_x": null,
            "grid_auto_flow": null,
            "grid_area": null,
            "grid_template_columns": null,
            "flex": null,
            "_model_name": "LayoutModel",
            "justify_items": null,
            "grid_row": null,
            "max_height": null,
            "align_content": null,
            "visibility": null,
            "align_self": null,
            "height": null,
            "min_height": null,
            "padding": null,
            "grid_auto_rows": null,
            "grid_gap": null,
            "max_width": null,
            "order": null,
            "_view_module_version": "1.2.0",
            "grid_template_areas": null,
            "object_position": null,
            "object_fit": null,
            "grid_auto_columns": null,
            "margin": null,
            "display": null,
            "left": null
          }
        },
        "5703f2bdf8264233a7d8340fded819c0": {
          "model_module": "@jupyter-widgets/controls",
          "model_name": "SliderStyleModel",
          "state": {
            "_view_name": "StyleView",
            "handle_color": null,
            "_model_name": "SliderStyleModel",
            "description_width": "",
            "_view_module": "@jupyter-widgets/base",
            "_model_module_version": "1.5.0",
            "_view_count": null,
            "_view_module_version": "1.2.0",
            "_model_module": "@jupyter-widgets/controls"
          }
        },
        "d624233b2cfc468e8750e13cfa018608": {
          "model_module": "@jupyter-widgets/base",
          "model_name": "LayoutModel",
          "state": {
            "_view_name": "LayoutView",
            "grid_template_rows": null,
            "right": null,
            "justify_content": null,
            "_view_module": "@jupyter-widgets/base",
            "overflow": null,
            "_model_module_version": "1.2.0",
            "_view_count": null,
            "flex_flow": null,
            "width": null,
            "min_width": null,
            "border": null,
            "align_items": null,
            "bottom": null,
            "_model_module": "@jupyter-widgets/base",
            "top": null,
            "grid_column": null,
            "overflow_y": null,
            "overflow_x": null,
            "grid_auto_flow": null,
            "grid_area": null,
            "grid_template_columns": null,
            "flex": null,
            "_model_name": "LayoutModel",
            "justify_items": null,
            "grid_row": null,
            "max_height": null,
            "align_content": null,
            "visibility": null,
            "align_self": null,
            "height": null,
            "min_height": null,
            "padding": null,
            "grid_auto_rows": null,
            "grid_gap": null,
            "max_width": null,
            "order": null,
            "_view_module_version": "1.2.0",
            "grid_template_areas": null,
            "object_position": null,
            "object_fit": null,
            "grid_auto_columns": null,
            "margin": null,
            "display": null,
            "left": null
          }
        },
        "7af02813e40246949af9bbc01b3eb14c": {
          "model_module": "@jupyter-widgets/base",
          "model_name": "LayoutModel",
          "state": {
            "_view_name": "LayoutView",
            "grid_template_rows": null,
            "right": null,
            "justify_content": null,
            "_view_module": "@jupyter-widgets/base",
            "overflow": null,
            "_model_module_version": "1.2.0",
            "_view_count": null,
            "flex_flow": null,
            "width": null,
            "min_width": null,
            "border": null,
            "align_items": null,
            "bottom": null,
            "_model_module": "@jupyter-widgets/base",
            "top": null,
            "grid_column": null,
            "overflow_y": null,
            "overflow_x": null,
            "grid_auto_flow": null,
            "grid_area": null,
            "grid_template_columns": null,
            "flex": null,
            "_model_name": "LayoutModel",
            "justify_items": null,
            "grid_row": null,
            "max_height": null,
            "align_content": null,
            "visibility": null,
            "align_self": null,
            "height": null,
            "min_height": null,
            "padding": null,
            "grid_auto_rows": null,
            "grid_gap": null,
            "max_width": null,
            "order": null,
            "_view_module_version": "1.2.0",
            "grid_template_areas": null,
            "object_position": null,
            "object_fit": null,
            "grid_auto_columns": null,
            "margin": null,
            "display": null,
            "left": null
          }
        },
        "41f6bcfed6fc43668e141a7a52d6cb4a": {
          "model_module": "@jupyter-widgets/controls",
          "model_name": "VBoxModel",
          "state": {
            "_view_name": "VBoxView",
            "_dom_classes": [
              "widget-interact"
            ],
            "_model_name": "VBoxModel",
            "_view_module": "@jupyter-widgets/controls",
            "_model_module_version": "1.5.0",
            "_view_count": null,
            "_view_module_version": "1.5.0",
            "box_style": "",
            "layout": "IPY_MODEL_8f6ccdb80faf4633afa46b224aa4425a",
            "_model_module": "@jupyter-widgets/controls",
            "children": [
              "IPY_MODEL_6c1cfe52a3854c348abebfa7d2aa70b3",
              "IPY_MODEL_d88dab70f97f4ad799342152c76ac7e8",
              "IPY_MODEL_977e6c0e81ed4f248d3e9ab5a225c8ca"
            ]
          }
        },
        "8f6ccdb80faf4633afa46b224aa4425a": {
          "model_module": "@jupyter-widgets/base",
          "model_name": "LayoutModel",
          "state": {
            "_view_name": "LayoutView",
            "grid_template_rows": null,
            "right": null,
            "justify_content": null,
            "_view_module": "@jupyter-widgets/base",
            "overflow": null,
            "_model_module_version": "1.2.0",
            "_view_count": null,
            "flex_flow": null,
            "width": null,
            "min_width": null,
            "border": null,
            "align_items": null,
            "bottom": null,
            "_model_module": "@jupyter-widgets/base",
            "top": null,
            "grid_column": null,
            "overflow_y": null,
            "overflow_x": null,
            "grid_auto_flow": null,
            "grid_area": null,
            "grid_template_columns": null,
            "flex": null,
            "_model_name": "LayoutModel",
            "justify_items": null,
            "grid_row": null,
            "max_height": null,
            "align_content": null,
            "visibility": null,
            "align_self": null,
            "height": null,
            "min_height": null,
            "padding": null,
            "grid_auto_rows": null,
            "grid_gap": null,
            "max_width": null,
            "order": null,
            "_view_module_version": "1.2.0",
            "grid_template_areas": null,
            "object_position": null,
            "object_fit": null,
            "grid_auto_columns": null,
            "margin": null,
            "display": null,
            "left": null
          }
        },
        "6c1cfe52a3854c348abebfa7d2aa70b3": {
          "model_module": "@jupyter-widgets/controls",
          "model_name": "IntSliderModel",
          "state": {
            "_view_name": "IntSliderView",
            "style": "IPY_MODEL_8c95e6adfdc8438789563c21692abb62",
            "_dom_classes": [],
            "description": "max_depth",
            "step": 1,
            "_model_name": "IntSliderModel",
            "orientation": "horizontal",
            "max": 6,
            "_view_module": "@jupyter-widgets/controls",
            "_model_module_version": "1.5.0",
            "value": 1,
            "_view_count": null,
            "disabled": false,
            "_view_module_version": "1.5.0",
            "min": 1,
            "continuous_update": true,
            "readout_format": "d",
            "description_tooltip": null,
            "readout": true,
            "_model_module": "@jupyter-widgets/controls",
            "layout": "IPY_MODEL_a0401ff8cf584912aba887e3bf0033ea"
          }
        },
        "d88dab70f97f4ad799342152c76ac7e8": {
          "model_module": "@jupyter-widgets/controls",
          "model_name": "IntSliderModel",
          "state": {
            "_view_name": "IntSliderView",
            "style": "IPY_MODEL_41e0ec13e114495dbf60cb4dc04b72b2",
            "_dom_classes": [],
            "description": "n_estimators",
            "step": 10,
            "_model_name": "IntSliderModel",
            "orientation": "horizontal",
            "max": 40,
            "_view_module": "@jupyter-widgets/controls",
            "_model_module_version": "1.5.0",
            "value": 10,
            "_view_count": null,
            "disabled": false,
            "_view_module_version": "1.5.0",
            "min": 10,
            "continuous_update": true,
            "readout_format": "d",
            "description_tooltip": null,
            "readout": true,
            "_model_module": "@jupyter-widgets/controls",
            "layout": "IPY_MODEL_adfb0eade3f74359818691e3bdb63c73"
          }
        },
        "977e6c0e81ed4f248d3e9ab5a225c8ca": {
          "model_module": "@jupyter-widgets/output",
          "model_name": "OutputModel",
          "state": {
            "_view_name": "OutputView",
            "msg_id": "",
            "_dom_classes": [],
            "_model_name": "OutputModel",
            "outputs": [
              {
                "output_type": "display_data",
                "metadata": {
                  "tags": [],
                  "needs_background": "light"
                },
                "image/png": "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\n",
                "text/plain": "<Figure size 432x288 with 2 Axes>"
              },
              {
                "output_type": "display_data",
                "metadata": {
                  "tags": [],
                  "needs_background": "light"
                },
                "image/png": "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\n",
                "text/plain": "<Figure size 432x288 with 2 Axes>"
              },
              {
                "output_type": "display_data",
                "metadata": {
                  "tags": [],
                  "needs_background": "light"
                },
                "image/png": "iVBORw0KGgoAAAANSUhEUgAAAVoAAAEFCAYAAACiiS9UAAAABHNCSVQICAgIfAhkiAAAAAlwSFlzAAALEgAACxIB0t1+/AAAADh0RVh0U29mdHdhcmUAbWF0cGxvdGxpYiB2ZXJzaW9uMy4yLjEsIGh0dHA6Ly9tYXRwbG90bGliLm9yZy+j8jraAAAeEklEQVR4nO3de7QlZX3m8e/TrYgIiKRJIjQ3AROQGG+A0VnKiuggC2iSGAFvg6O2kuCK4g1HZQjRESUGQTHaGiCQCFGycDraBifeMA5KN+Cg3WrsNI10g0G5Yxugz/nNH1WH3n3Yl9r7VO16q+r5sM5id1Xtt2rf3nrqrfetUkRgZmbVWVT3BpiZtZ0rWjOzirmiNTOrmCtaM7OKuaI1M6uYK1ozs4q5om05SZ+U9L4JnrePpAckLa5iu1Ix6ftjNg65H21aJG0EXh8R/9KE9Uo6EvgasAUI4DbgnIi4uOxtNGsqJ1orw20RsTOwK/BW4NOSfqvslUh6TNllmk2DK9oGkPQ4SR+VdFv+91FJj+uZ/05Jt+fzXi8pJB2Yz7tE0vvzx0skfVHSPZLukvQtSYskXQbsA/xT3lzwTkn75eU8Jn/u7pIuztdxt6QvzN/OyKwC7gKenj9vkaQzJP27pDslfU7S7j3b/hpJt+Tz3idpo6Sj8nlnSbpS0t9Jug84RdITJf1N/no3S3r/XPOGpAMlfVPSvZJ+Iekf8umSdJ6kOyTdJ+n7kg6d//7k/36DpPX5+7NS0p4980LSmyT9JH8PL5Skkj5mazFXtM3wHuC5wDOA3wUOB94LIOlo4HTgKOBA4Mgh5bwN2ATsAfwG8D/I6sdXAz8FjouInSPiw32eexmwE/A04NeB8+YvkFeqxwNLgPX55DcDJwAvBPYE7gYuzJc/BPgE8ErgycATgb3mFbsMuBLYDfh74BJga/5anwm8BHh9vuxfAF8BngQsBT6WT38J8ALgqfk6Xg7c2Wf7fx/4YD7/ycAtwBXzFjsWOIxsR/Jy4L/OL8dsPle0zfBK4OyIuCMifg78OfDqfN7LgYsjYm1EbAHOGlLOw2QVyL4R8XBEfCsKNNJLejLwUuBNEXF3/txv9iyyp6R7gF8BVwGnR8SN+bw3Ae+JiE0R8WC+fS/Lk/LLgH+KiH+NiIeAM8naeXtdGxFfiIhZsqaJY4C3RMQvI+IOsgr/pJ7Xty+wZ0T8Z0T8a8/0XYDfJjsv8cOIuL3PS30lcFFE3JBv67uB35O0X88y50TEPRHxU+DrZDs/s6Fc0TbDnmTpas4t+bS5ebf2zOt9PN+5ZEnzK5I2SDqj4Pr3Bu6KiLsHzL8tInYjqwgvAH6/Z96+wFX5ofY9wA+BGbJEvd225zuK+Umz9/XsCzwWuL2nvE+RJWyAdwICrpO0VtJ/z8v9GvBxsiR9h6QVknbt8zq2e58j4oF8e3pT9s96Hm8Bdu7/lpht44q2GW4jq2Tm7JNPA7id7DB5zt6DComI+yPibRHxFOB44HRJL5qbPWT9twK7S9pt2EbmKfBdwO9IOqHnuS+NiN16/naMiM3zt13S44Ffm1/svO14EFjSU9auEfG0fP0/i4g3RMSewBuBT8y1VUfEBRHxbOAQsiaEd/R5Cdu9z5KekG/P5mGv22wUV7RpeqykHef+gMuB90raQ9ISskPsv8uX/RzwWkkHS9oJGNgnVNKx+QkjAfeSJcvZfPZ/AE/p97z8MPvLZBXXkyQ9VtILBiz7EPCRfBsBPgl8QNK++TbsIWlZPu9K4DhJz5O0A1mzwsCTS/l2fAX4iKRd8zbhAyS9MC/7jyXNVdx3k1XSs5IOk3SEpMcCvwT+s+d197qc7L18hrKTjf8L+G5EbBy0TWZFuKJN0yqy9s65vx2BNcBNwPeBG4D3A0TEl8kO179O1izwnbyMB/uUexDwL8ADwLXAJyLi6/m8D5JV5vdIenuf576arK3zR8AdwFuGbP9FwD6SjgPOB1aSNVfcn2/fEfm2ryU7WXYFWbp9IC+737bPeQ2wA7COrDK9kqzdGbKTVN+V9EC+zj+LiA1kTRqfzpe/haw54Nz5Bed9iN8H/GO+PQewrf3XbGIesNAykg4GfgA8LiK21r0945C0M3APcFBE3Fz39piVxYm2BST9gbK+tk8CPkR2Jr8Rlayk4yTtlLeH/iVZYt9Y71aZlcsVbTu8keyQ+9/J2l1PrXdzxrKM7CTUbWRNGycV6XJmVhVJF+WDW34wYL4kXZAPbLlJ0rNGlunvtJnZNvmJ3geASyPi0D7zjyE7t3AM2fmG8yPiiGFlOtGamfWIiGvIhpEPsoysEo6I+A6wWz6oZ6BKLtJx9r6vdEyuUb9+S20y24KrC8wO7bacjmls5Qc2fnbBn+jDv9hQeFN32OOANwLLeyatiIgVY6xuL7YfSLMpn9ZvtCFQUUVrZpaqvFIdp2JdsEoq2hYEjqkrMzk0qT1okvS9KNEwOE7SXlTzr6Room7Mb3l2Zppr28z2IzCXMmL0YJN+k2Zm/c1sLf63cCuB1+S9D54L3DvgIkWPqCTRdqn2Lqs9tDHJYYhJgmbq35VxPt+6k3YbE3VR2cXdyiHpcrLLjS6RtAn4n2QXMyIiPkk2cvMYspGYW4DXjirTbbRm1nyz5VW0EXHyiPkB/Ok4ZVaUaKe/t6zrLG7qiWwSk35lU0/lTU/coz6XuhN1r1HpuvQ6osREWwUnWjNrvumeDBubK1ozaz4n2umou3E/JQttRknpcHmUcX5eKX5Dxvmk6v5cUj4xGOX0JqhMaypaM+uwEk+GVcEDFhK00DDQ9HQ/TiKvO+UNUvRnn9InNepdT/W9Btx0YGZWuS6eDEt6z1eCqvedKaWchZqsS1X678Co1J3Kb6DpbdiFOdGamVWsiyfDqjjjmNKl8VJJK9M2SWZI6GMbabweAGm8sqYka6j4SLCLJ8PMzKYpooNttFVIaXhhE5VxRJBSOhqmDUOIi37d607WyfQQcRutmVnFuth0kFIyaLqygnwbjgiKpvImJO9R1UIqv6HRfWsT2VInWjOzis08XPcWDOWK1syar4tNB004dCuLBy+Mb9JWjNSbP8a7w0EamtKEMZKbDszMKtbFRNslqSSTurR9EEOvkSeGEkzco+900BKuaM3MqhVdPBnWmr1kx0ySCZr+WTf9oitNStmVDqN3G62ZWcW62HSQ0l607cpMCV1Kp3NSfc2tvHB4lfWCE62ZWcW6mGhT2svWrepw3/ajhyb2TS1iVLWQ4mtJus+tE62ZWcW2dvDC37aN0/02E93WpkGJvenpu4kp+xFOtGZmFetiG62Z2VR1MdEmfYhhC9aGOxhMokmDA/pp9XBcJ1ozs4o50VoKyvwatunzbfsQ3F4pJe7Sh+O614GZWcUiob1IH9UMWEj7NScpKo5LbUqhg7RpCO6cpAcJDDH19my30ZqZVcwVrRXho4D+xkn6qafTfpo6SCC5pF3iyTBJRwPnA4uBz0TEOfPm7wP8LbBbvswZEbFqWJmuaM2s+WZmSilG0mLgQuDFwCZgtaSVEbGuZ7H3Ap+LiL+WdAiwCthvWLnudWBTM9Ftbxqa9Ism8VR/K41L2uU1HRwOrI+IDQCSrgCWAb0VbQC75o+fCNw2qlAnWjNrvjEqWknLgeU9k1ZExIr88V7ArT3zNgFHzCviLOArkt4MPAE4atQ6XdGaWfON0UabV6orRi442MnAJRHxEUm/B1wm6dCIwRvhpgMrbKEHZ236Xow8GZR4k8eopo2mfVYxW9obvhnYu+ffS/NpvV4HHA0QEddK2hFYAtwxqNCmvZ9mZo82O1v8b7jVwEGS9pe0A3ASsHLeMj8FXgQg6WBgR+Dnwwr1PcNaotI7jObavlceJ7Gn/l40PXGPraReBxGxVdJpwNVkXbcuioi1ks4G1kTESuBtwKclvZXsxNgpEcOHprmN1syar8QBC3mf2FXzpp3Z83gd8PxxynRF2xI+ithm0nSfekrt1bjuV5R7YaNHF+6RYWZm1erkRWWqKNQ6r+hPqQ3pvokX6a41ZTvRmplVrLzuXZVwP1qbmoVmjqYfKTX1It399Evctf7uS+p1UBUnWjNrvHDTwaOlvre2bcrsn9v2I53kLh24AI27EWUXmw7MzKaqizdnNDObqi4m2uQOKwqo+7Au1besiZ9lmcZpOmlS00ibmjkA2OqTYWZm1epi00Hj9oYJ8HtWvUnCeVMTfRMHPCxIF5sOzMymqZPduxYl2+JobTA7Yf5v01FD47pfzVP6ZT2daM3MKuaKtpjU98BWnoWmmbYeMY2T1FNP51NP3B6Ca2ZWrRLvGVaJTvajbd0Z15JVfVoh9e9HVUb3BGjOGzMqfU89cXexojUzm6pu9jqwJvPnV9xYN3RMO3Rtp3Hp24nWzKxirmjNzKoVMx1sOpiTehcUs14TDdEtfSuma1D11KRmDsCJ1sysap3s3lVWkl2U+C2ELU2z8hDdwncMrnQrpqiLFa2Z2VSl3URb1YCFtPcurdmLt0xZv5XUv39lGJXa25TOi4itade0TrRm1nxp17MesJCiaaaRlLKfvzfbjKo3mpjaJ207L6KTJ8PMzKaqi4l2lK61H6XMn8X0jJO5mpju60zhTrRmZlXrYqKtOiUld0EL65xJbqfT9KOHkRfznspW9Bdba1x5AU60ZtZ4id9tvJFNQWZm25sd428ESUdL+rGk9ZLOGLDMyyWtk7RW0mdHldn5u+A27uIZVqpJ71/WpO94UcndNWEMZSVaSYuBC4EXA5uA1ZJWRsS6nmUOAt4NPD8i7pb066PKdaI1s8aL2eJ/IxwOrI+IDRHxEHAFsGzeMm8ALoyIuwEi4o5RhVbaRuu0CGph8qlLVJCpuvQdbdxdE8YQM2PcQVhaDizvmbQiIlbkj/cCbu2Ztwk4Yl4RT83L+TawGDgrIv552Dp9MszMGm+cpoO8Ul0xcsHBHgMcBBwJLAWukfQ7EXHPsCeUbqEpwSnQ+vH34tHGSfltTu8xaWP7o20G9u7599J8Wq9NwHcj4mHgZkn/Rlbxrh5UqNtozazxSmyjXQ0cJGl/STsAJwEr5y3zBbI0i6QlZE0JG4YVWijRSjoO+FJEsYBeR/LwHsPapOiRsFN+JqKcRBsRWyWdBlxN1v56UUSslXQ2sCYiVubzXiJpHTADvCMi7hxWbtGmgxOBj0r6x3zFP5r4lZiZlazMAQsRsQpYNW/amT2PAzg9/yukUEUbEa+StCtwMnCJpAAuBi6PiPvnL9/EdNnEbbZmGacuaNP3cRqDtmbH6HVQh8KfZ0TcB1xJ1q/sycAfADdIenNF22ZmVkjMqvBfHYq20S4DTgEOBC4FDo+IOyTtBKwDPlbZFpqZjVBXBVpU0TbaPwTOi4hreidGxBZJr5t05W06POrlExTttNABE238vhdpFpjG6079hhNF34Ofza9kJX0IICK+WvpWmZmNoRVNB2QXWHjXvGkv7TMNqGYP5pS4TRuTUZmqOvnSxe/gqBSfynexrO5dVRla0Uo6FfgT4ABJN/XM2gX4dpUbZmZW1EzivQ5GJdrPAl8GPgj0Xpfx/oi4a9CTUtrzp7LHtenxZz5a2wZENDrRkvXN3SjpT+fPkLT7sMrWzGxamt7r4LPAscD1ZLcM6n01ATyl6IqalDKashc36zXWBWYq3I46pN7rYGhFGxHH5v/ffzqbY2Y2vqYnWgAkfTUiXjRq2pyF7i2bniibfAFlS8s4d9tt+u9mIWZm087oo3od7AjsBCyR9CS2NR3sSnYlcjOz2jW66QB4I/AWYE+ydtq5ivY+4OODnjTNPWvb0+OitI+IbITZBX492/79Lstsk3sdRMT5wPmS3hwRyV3PwF9CM4Pmd+8CICI+Jul5wH69z4mISyvaLjOzwpredACApMuAA4DvkV1RHLLuXYUr2pTSpw/H++viyZQq7qzby9+1hTefFFtH2m900WsdPAc4JL+yuJlZUhrd66DHD4DfBG4vsvAk6TX1PX8X014X+HOdzFiDI6bw2079Uyxa0S4B1km6DnhwbmJEHF/JVpmZjaEtTQdnjVNo1XuwJqWQtA9ozLYZ5/KSqf0G29Lr4JtVb4iZ2aSmcQPIhSja6+C5ZPcFOxjYgex+57+MiF2HPi+BvV7TE2V2w2GzyYyT9Jr8W6m698hCFW06+DhwEvB5sh4IrwGeWtVGmZmNY2sbmg4AImK9pMURMQNcLOlG4N39lp0kyda9N217clzU8tfXVgs9ydP27/WctiTaLZJ2AL4n6cNk3bzqrhvNzICWtNECryZrlz0NeCuwN/BHgxau5OaMCe2ZnQ6HSztblGNa3wB/14ppRaKNiFvyh78C/ry6zTEzG18rEq2km+mzE4+IwreyMTOrykwbEi1ZT4M5OwJ/DOw+zoqmeeif4uFW2l8DG5c/z4Up+xea+J1sCjcd3Dlv0kclXQ+cWf4mmZmNZ5xb/tShaNPBs3r+uYgs4Q587iTpta4UmvbHk2Y6N+tnnK5oZf/uUv+VFG06+AjbXstWYCNZ84GZWe1acTIM+CJZRTu3IwrgWCn7Z0T8Ve/CVaSwupJn0xNlSt3irDkmuUhLnb+VWaV9bFq0on02cBjwv8nqvOOA64CfVLRdZmaFzYxepFZFK9qlwLMi4n4ASWcBX4qIVxVdUdX7m5SSZ9tTZErvtQ036RDepn2Hy+x1IOlo4HyyQVqfiYhzBiz3R8CVwGERsWZYmUUr2t8AHur590P5NDOz2pXV60DSYuBC4MXAJmC1pJURsW7ecrsAfwZ8t0i5RSvaS4HrJF2V//sE4JKBG1uw0F7TTEkp7a2dDotLvBluLNO6+15Xvl8lvsrDgfURsQFA0hXAMmDdvOX+AvgQ8I4ihRa6LEFEfAB4LXB3/vfaiPhgse02M6vWrIr/SVouaU3P3/KeovYCbu3596Z82iPy7q57R8SXim7fOJdJvAG4oejyZmbTMk73rohYAayYZD2SFgF/BZwyzvMKV7TjqKR7V8eH8PZq0yF0V/kzLNdMee/nZrKrE85Zmk+bswtwKPCNvHvrbwIrJR0/7IRYJRWtmdk0lThgYTVwkKT9ySrYk4BXzM2MiHvJ7goOgKRvAG8vq9fBglWdSGsbwtuQZJLSCUCzspVV0UbEVkmnAVeTde+6KCLWSjobWBMRKycp14nWzBqvzFuGRcQqYNW8aX0voBURRxYps5KKNsWLytSdPNuQKFNvu7Z0LPReZ2Ovb6prG58TrZk1XluG4I6lml4HpRc5ZF31Jre2J8e6jy5stIUOqJj2d7gVF/42M0uZmw76qCLRdL2frVNicXUfsUxqkksXTqpp3ydXtGZmFUt911lRr4OFPr/8t839bLdpaqLrOn9ug7mN1sysYp3sdWBmNk2ziTceNHIIbhsHNzTpsDDFk4HWbT4ZZmZWsdR3/bUOwa0qGVWdSOtOn01PlFrU7O239DjRmplVbGvi4SPpIbhVJdO2XrKxny6lxxS70nXVtO6J9sj6pru6sTnRmlnjuemgj7KSR1XJdKp35E0ocToRlqeOzzUS6rU/7e+Su3eZmVUs7Wo2oSG4TUqn00wrqafMlBJ513X5s3DTgZlZxWYSz7SVVrSpjgares9fy8iyhqaZuvskWzs40ZqZVSy6nGjNzKahk4m2jiG4ZR46Vz6Et+bD/DYdrqc0OMTq4+5dZmYVS7uaTX0IbgnJr5L7k021e1c6X6EupkctqnsLrIitiVe1TrRm1ng+GdbHQhNhmSm1inTa+TvyOgXalHXyZJiZ2TR1MtFOkhJTTaltuaRiE1JmSu3R1ixOtGZmFZuZ9gVwxzTFmzMu8PmJptTKbxRZQxJtarKsu3+y1cf9aM3MKtbNNtpJLpO44J4IC3t+ZTeKrDiR1p0+25oiU788pW3PbbRmDeNKtnlSbzpowLloM7PhYoz/RpF0tKQfS1ov6Yw+80+XtE7STZK+KmnfUWVWez3ampsDoMzhwKUU8+hyp9a9K509vhPjNil9Lk1WVq8DSYuBC4EXA5uA1ZJWRsS6nsVuBJ4TEVsknQp8GDhxWLlOtGbWeLNE4b8RDgfWR8SGiHgIuAJY1rtARHw9Irbk//wOsHRUobUOWJg0zZV7ecWSyqnsZNr0E0+qidPpzwYZ52SYpOXA8p5JKyJiRf54L+DWnnmbgCOGFPc64Muj1umTYWbWeON078or1RUjFxxB0quA5wAvHLVskvcMW2hiXWhKrSKdVpXGfH+y4Zq0rTa5EnsdbAb27vn30nzadiQdBbwHeGFEPDiqUCdaM2u8KG8I7mrgIEn7k1WwJwGv6F1A0jOBTwFHR8QdRQqt5VY2TU+s1VxasfQity+/pmTXpkSZatu1lXe78YjYKuk04GpgMXBRRKyVdDawJiJWAucCOwOfV/al+GlEHD+sXCdaM2u8MgcsRMQqYNW8aWf2PD5q3DIrrWgnTa6TJNaUUmpTb5+TSvrsUnJM5T1vuhKbDirhRGtmjZf6EFxXtGbWeJ28eteoJoMmNg2kegeIKsscuK5ED+19GF6eJtyRo5cv/G1mVrFONh1MK7GWkWDKSmelnkxrYPexgetNPGU2LblZf52saM3Mpsm9DvqYZnqt+15lTUyn9Q1uqGW1C1L3HS4s40RrZlaxTvY6mFZinTTZpZRSmzi4oe7k2dYUWff72mQzkfZdw5xozazx3EbbR/ELg1dbfmXPT77PbelFDl5XQunTifHRUu8VUpTbaM3MKtbNNtrE21unuX1lrX9wWaUVta3MmlJoiomzLYmv7WbddFAd/wjMDDqaaM3Mpsm9DnKTHHpPPEihhqaBVJsDqm4GqONwv0lHMik2h7SRmw7MzCrWyaaDqtNrExNr3fc5G1huxYmr7vTZqkSZUFe51DjRmplVrJOJdpTCAxameCGZyduDJ3ratueXlFKqSm5TvaB4KunTyTGdz6KgmZipexOGcqI1s8br9BDcqtpdu5RYy0oW07mLbuWryFeU5o+qaSmwTTwE18ysYp1MtKPSU0oXlakjsZbaTzbR/rv9VzD9H0OTUmaTtjU17nVgZlaxTvc6qKrddbILyYz9lOx5NSTW5FNqC0ebpbgNC9H07R+Xh+CaNUzXKqk26GQbrZnZNHWyjXbkybCCzQTTOKnVxKaBUhNXBc0AU72DQ933L+tq+k3sdTvRmplVrNP9aKs6wTVJiph04MBE65riybr+haV9Mq1LiXek1LevIZxozcwq1sleB6OSbPGLyky6/orTcR2JNdGUWv1lFqstv68GpczkE/uUdPJkmJnZNLnpIDd6WO4YZVXcU6CJiTXVlFp54nKvg/I0+LWUOTJM0tHA+cBi4DMRcc68+Y8DLgWeDdwJnBgRG4eV2eC31swsExGF/4aRtBi4EHgpcAhwsqRD5i32OuDuiDgQOA/40Kjtc0VrZo03G1H4b4TDgfURsSEiHgKuAJbNW2YZ8Lf54yuBF0nDz0xV0nSw9+qvLvAOXWZmxW19aHPhOkfScmB5z6QVEbEif7wXcGvPvE3AEfOKeGSZiNgq6V7g14BfDFqnT4aZWafkleqKkQuWyE0HZmbbbAb27vn30nxa32UkPQZ4ItlJsYFc0ZqZbbMaOEjS/pJ2AE4CVs5bZiXw3/LHLwO+FiPOsrnpwMwsl7e5ngZcTda966KIWCvpbGBNRKwE/ga4TNJ64C6yyngopd7R16ZL0gMRsXPJZR4PHBIR50g6Afi3iFg3ZhnfAN4eEWvK3DazaXDTgVUuIlb2dPo+gax/ollnuKK1vpQ5V9IPJH1f0on59CMlfUPSlZJ+JOnv5/oQSjomn3a9pAskfTGffoqkj0t6HnA8cK6k70k6IC/rOflySyRtzB8/XtIVkn4o6Srg8T3b9hJJ10q6QdLnJZWawM3K5jZaG+QPgWcAvwssAVZLuiaf90zgacBtwLeB50taA3wKeEFE3Czp8vkFRsT/lbQS+GJEXAkwpJ/3qcCWiDhY0tOBG/LllwDvBY6KiF9KehdwOnB2GS/arAquaG2Q/wJcHhEzwH9I+iZwGHAfcF1EbAKQ9D1gP+ABYENE3Jw//3K27xQ+rhcAFwBExE2SbsqnP5es6eHbeSW9A3DtAtZjVjlXtDaJB3sez7Cw79FWtjVh7VhgeQH/JyJOXsA6zabKbbQ2yLeAEyUtlrQHWcK8bsjyPwaeImm//N8nDljufmCXnn9vJLsKEmR9EudcA7wCQNKhwNPz6d8ha6o4MJ/3BElPLfB6zGrjitYGuQq4Cfh/wNeAd0bEzwYtHBG/Av4E+GdJ15NVqPf2WfQK4B2SbpR0APCXwKmSbiRrC57z18DOkn5I1v56fb6enwOnAJfnzQnXAr+9kBdqVjX3o7XSSNo5Ih7IeyFcCPwkIs6re7vM6uZEa2V6Q35ybC3Z+O9P1bw9ZklwojUzq5gTrZlZxVzRmplVzBWtmVnFXNGamVXMFa2ZWcX+P26bI/d07XVXAAAAAElFTkSuQmCC\n",
                "text/plain": "<Figure size 432x288 with 2 Axes>"
              }
            ],
            "_view_module": "@jupyter-widgets/output",
            "_model_module_version": "1.0.0",
            "_view_count": null,
            "_view_module_version": "1.0.0",
            "layout": "IPY_MODEL_c7164df19733448790749146cecfa908",
            "_model_module": "@jupyter-widgets/output"
          }
        },
        "8c95e6adfdc8438789563c21692abb62": {
          "model_module": "@jupyter-widgets/controls",
          "model_name": "SliderStyleModel",
          "state": {
            "_view_name": "StyleView",
            "handle_color": null,
            "_model_name": "SliderStyleModel",
            "description_width": "",
            "_view_module": "@jupyter-widgets/base",
            "_model_module_version": "1.5.0",
            "_view_count": null,
            "_view_module_version": "1.2.0",
            "_model_module": "@jupyter-widgets/controls"
          }
        },
        "a0401ff8cf584912aba887e3bf0033ea": {
          "model_module": "@jupyter-widgets/base",
          "model_name": "LayoutModel",
          "state": {
            "_view_name": "LayoutView",
            "grid_template_rows": null,
            "right": null,
            "justify_content": null,
            "_view_module": "@jupyter-widgets/base",
            "overflow": null,
            "_model_module_version": "1.2.0",
            "_view_count": null,
            "flex_flow": null,
            "width": null,
            "min_width": null,
            "border": null,
            "align_items": null,
            "bottom": null,
            "_model_module": "@jupyter-widgets/base",
            "top": null,
            "grid_column": null,
            "overflow_y": null,
            "overflow_x": null,
            "grid_auto_flow": null,
            "grid_area": null,
            "grid_template_columns": null,
            "flex": null,
            "_model_name": "LayoutModel",
            "justify_items": null,
            "grid_row": null,
            "max_height": null,
            "align_content": null,
            "visibility": null,
            "align_self": null,
            "height": null,
            "min_height": null,
            "padding": null,
            "grid_auto_rows": null,
            "grid_gap": null,
            "max_width": null,
            "order": null,
            "_view_module_version": "1.2.0",
            "grid_template_areas": null,
            "object_position": null,
            "object_fit": null,
            "grid_auto_columns": null,
            "margin": null,
            "display": null,
            "left": null
          }
        },
        "41e0ec13e114495dbf60cb4dc04b72b2": {
          "model_module": "@jupyter-widgets/controls",
          "model_name": "SliderStyleModel",
          "state": {
            "_view_name": "StyleView",
            "handle_color": null,
            "_model_name": "SliderStyleModel",
            "description_width": "",
            "_view_module": "@jupyter-widgets/base",
            "_model_module_version": "1.5.0",
            "_view_count": null,
            "_view_module_version": "1.2.0",
            "_model_module": "@jupyter-widgets/controls"
          }
        },
        "adfb0eade3f74359818691e3bdb63c73": {
          "model_module": "@jupyter-widgets/base",
          "model_name": "LayoutModel",
          "state": {
            "_view_name": "LayoutView",
            "grid_template_rows": null,
            "right": null,
            "justify_content": null,
            "_view_module": "@jupyter-widgets/base",
            "overflow": null,
            "_model_module_version": "1.2.0",
            "_view_count": null,
            "flex_flow": null,
            "width": null,
            "min_width": null,
            "border": null,
            "align_items": null,
            "bottom": null,
            "_model_module": "@jupyter-widgets/base",
            "top": null,
            "grid_column": null,
            "overflow_y": null,
            "overflow_x": null,
            "grid_auto_flow": null,
            "grid_area": null,
            "grid_template_columns": null,
            "flex": null,
            "_model_name": "LayoutModel",
            "justify_items": null,
            "grid_row": null,
            "max_height": null,
            "align_content": null,
            "visibility": null,
            "align_self": null,
            "height": null,
            "min_height": null,
            "padding": null,
            "grid_auto_rows": null,
            "grid_gap": null,
            "max_width": null,
            "order": null,
            "_view_module_version": "1.2.0",
            "grid_template_areas": null,
            "object_position": null,
            "object_fit": null,
            "grid_auto_columns": null,
            "margin": null,
            "display": null,
            "left": null
          }
        },
        "c7164df19733448790749146cecfa908": {
          "model_module": "@jupyter-widgets/base",
          "model_name": "LayoutModel",
          "state": {
            "_view_name": "LayoutView",
            "grid_template_rows": null,
            "right": null,
            "justify_content": null,
            "_view_module": "@jupyter-widgets/base",
            "overflow": null,
            "_model_module_version": "1.2.0",
            "_view_count": null,
            "flex_flow": null,
            "width": null,
            "min_width": null,
            "border": null,
            "align_items": null,
            "bottom": null,
            "_model_module": "@jupyter-widgets/base",
            "top": null,
            "grid_column": null,
            "overflow_y": null,
            "overflow_x": null,
            "grid_auto_flow": null,
            "grid_area": null,
            "grid_template_columns": null,
            "flex": null,
            "_model_name": "LayoutModel",
            "justify_items": null,
            "grid_row": null,
            "max_height": null,
            "align_content": null,
            "visibility": null,
            "align_self": null,
            "height": null,
            "min_height": null,
            "padding": null,
            "grid_auto_rows": null,
            "grid_gap": null,
            "max_width": null,
            "order": null,
            "_view_module_version": "1.2.0",
            "grid_template_areas": null,
            "object_position": null,
            "object_fit": null,
            "grid_auto_columns": null,
            "margin": null,
            "display": null,
            "left": null
          }
        },
        "044b91cbadfb48bf84a55a5159257434": {
          "model_module": "@jupyter-widgets/controls",
          "model_name": "VBoxModel",
          "state": {
            "_view_name": "VBoxView",
            "_dom_classes": [
              "widget-interact"
            ],
            "_model_name": "VBoxModel",
            "_view_module": "@jupyter-widgets/controls",
            "_model_module_version": "1.5.0",
            "_view_count": null,
            "_view_module_version": "1.5.0",
            "box_style": "",
            "layout": "IPY_MODEL_7af0bc1314b04750aae3dd3c4fce3209",
            "_model_module": "@jupyter-widgets/controls",
            "children": [
              "IPY_MODEL_3bfbf43b67814ad1aa4ce73040d31bbe",
              "IPY_MODEL_0b5313ab98214e3bab76f1c7a62093f5",
              "IPY_MODEL_1d1541102b5f483b97720492930a4e5f"
            ]
          }
        },
        "7af0bc1314b04750aae3dd3c4fce3209": {
          "model_module": "@jupyter-widgets/base",
          "model_name": "LayoutModel",
          "state": {
            "_view_name": "LayoutView",
            "grid_template_rows": null,
            "right": null,
            "justify_content": null,
            "_view_module": "@jupyter-widgets/base",
            "overflow": null,
            "_model_module_version": "1.2.0",
            "_view_count": null,
            "flex_flow": null,
            "width": null,
            "min_width": null,
            "border": null,
            "align_items": null,
            "bottom": null,
            "_model_module": "@jupyter-widgets/base",
            "top": null,
            "grid_column": null,
            "overflow_y": null,
            "overflow_x": null,
            "grid_auto_flow": null,
            "grid_area": null,
            "grid_template_columns": null,
            "flex": null,
            "_model_name": "LayoutModel",
            "justify_items": null,
            "grid_row": null,
            "max_height": null,
            "align_content": null,
            "visibility": null,
            "align_self": null,
            "height": null,
            "min_height": null,
            "padding": null,
            "grid_auto_rows": null,
            "grid_gap": null,
            "max_width": null,
            "order": null,
            "_view_module_version": "1.2.0",
            "grid_template_areas": null,
            "object_position": null,
            "object_fit": null,
            "grid_auto_columns": null,
            "margin": null,
            "display": null,
            "left": null
          }
        },
        "3bfbf43b67814ad1aa4ce73040d31bbe": {
          "model_module": "@jupyter-widgets/controls",
          "model_name": "IntSliderModel",
          "state": {
            "_view_name": "IntSliderView",
            "style": "IPY_MODEL_af9087621eb5409d8884e3f30cb0d741",
            "_dom_classes": [],
            "description": "max_depth",
            "step": 1,
            "_model_name": "IntSliderModel",
            "orientation": "horizontal",
            "max": 6,
            "_view_module": "@jupyter-widgets/controls",
            "_model_module_version": "1.5.0",
            "value": 1,
            "_view_count": null,
            "disabled": false,
            "_view_module_version": "1.5.0",
            "min": 1,
            "continuous_update": true,
            "readout_format": "d",
            "description_tooltip": null,
            "readout": true,
            "_model_module": "@jupyter-widgets/controls",
            "layout": "IPY_MODEL_1524435f685d443e9d381751d8968f7e"
          }
        },
        "0b5313ab98214e3bab76f1c7a62093f5": {
          "model_module": "@jupyter-widgets/controls",
          "model_name": "IntSliderModel",
          "state": {
            "_view_name": "IntSliderView",
            "style": "IPY_MODEL_6d6bb240fbe84ce2bd514a3db271b456",
            "_dom_classes": [],
            "description": "n_estimators",
            "step": 1,
            "_model_name": "IntSliderModel",
            "orientation": "horizontal",
            "max": 5,
            "_view_module": "@jupyter-widgets/controls",
            "_model_module_version": "1.5.0",
            "value": 2,
            "_view_count": null,
            "disabled": false,
            "_view_module_version": "1.5.0",
            "min": 2,
            "continuous_update": true,
            "readout_format": "d",
            "description_tooltip": null,
            "readout": true,
            "_model_module": "@jupyter-widgets/controls",
            "layout": "IPY_MODEL_9822fef67ee440eb98f54ba13b5d72d7"
          }
        },
        "1d1541102b5f483b97720492930a4e5f": {
          "model_module": "@jupyter-widgets/output",
          "model_name": "OutputModel",
          "state": {
            "_view_name": "OutputView",
            "msg_id": "",
            "_dom_classes": [],
            "_model_name": "OutputModel",
            "outputs": [
              {
                "output_type": "display_data",
                "metadata": {
                  "tags": [],
                  "needs_background": "light"
                },
                "image/png": "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\n",
                "text/plain": "<Figure size 432x288 with 2 Axes>"
              },
              {
                "output_type": "display_data",
                "metadata": {
                  "tags": [],
                  "needs_background": "light"
                },
                "image/png": "iVBORw0KGgoAAAANSUhEUgAAAVoAAAEFCAYAAACiiS9UAAAABHNCSVQICAgIfAhkiAAAAAlwSFlzAAALEgAACxIB0t1+/AAAADh0RVh0U29mdHdhcmUAbWF0cGxvdGxpYiB2ZXJzaW9uMy4yLjEsIGh0dHA6Ly9tYXRwbG90bGliLm9yZy+j8jraAAASFElEQVR4nO3dfaxlVXnH8e9vBhEraEPxpWVQEaGKShUVaG2VRNSBFIa0voA1rdY6VsU0Wq1YjVqqaa2tpqREHSNVKUJRQzORUbS+0aDIjCIURtFxQGdQy5tSfIW59+kf54wcbufecw73rDlnj9/PZOWevfa6a6+bTJ48efba+6SqkCS1s2LaC5CkPZ2BVpIaM9BKUmMGWklqzEArSY0ZaCWpMQOtJDVmoNVQSX400OaT/HTg+I8aXfPeSd6X5NtJbk/y1STHt7iW1Npe016AZl9V7bvzc5LrgT+rqv9cOC7JXlW1Y0KX3QvYBjwV+A5wAnBBksdW1fUTuoa0W5jR6h5LcmyS7Ulem+T7wL8mWZHk9CTfSnJLkguS7D/wO8ck+UKSHya5Msmxu5q7qn5cVW+uquurar6qPgZcBzxh9/x10uQYaLVcDwb2Bx4KrAVeAZxMLxP9DeAHwFkASQ4ELgLe0v+dVwMfTfKAYRdJ8iDgMOCayf8JUlsGWi3XPPCmqvp5Vf0U+HPg9VW1vap+DrwZeFaSvYDnAxuqakM/S/0UsIleWWBRSe4FnAt8oKq+3vKPkVqwRqvluqmqfjZw/FDgwiTzA31zwIP6556d5MSBc/cCPrvY5ElWAOcAdwCnTWzV0m5koNVyLXz92zbgT6vq0oUDk2wDzqmqF48ycZIA76MXpE+oqjuXu1hpGiwdaNLeDbw1yUMBkjwgyZr+uX8DTkzyzCQrk+zTv6G2apG53gU8CjixX5aQOslAq0n7Z2A98MkktwOXAUcDVNU2YA3w18BN9LLf17CL/4f9QP0S4HHA91vv25Vaii/+lqS2zGglqTEDrSQNSHJ2khuTXL3I+SQ5M8mWJFclOXLYnAZaSbq79wOrlzh/PHBov62ld9N2SQZaSRpQVZcAty4xZA3wweq5DPjVJL++1JxN9tF+6zHP9A6btBtsvnn/4YNm3InfPy/LnePOm7eOHHP2fsAhL6GXie60rqrWjXG5A+ntmNlpe7/ve4v9gg8sSPql0g+q4wTWZTPQSuq++bndebUbgIMGjlf1+xZljVZS983tGL0t33rgj/u7D44BbquqRcsGYEYraQ9QNT980IiSnAccCxyQZDvwJnovP6Kq3g1soPfGuS3AT4AXDpvTQCup++YnF2ir6tQh5wt4+ThzGmgldd8EM9oWDLSSum/33gwbm4FWUveZ0UpSWzWZ3QTNGGgldd8Eb4a1YKCV1H2WDiSpMW+GSVJjZrSS1Jg3wySpMW+GSVJbVdZoJakta7SS1JilA0lqzIxWkhqbu3PaK1iSgVZS91k6kKTGLB1IUmNmtJLUmIFWktoqb4ZJUmPWaCWpMUsHktSYGa0kNWZGK0mNmdFKUmM7fPG3JLVlRitJjVmjlaTGzGglqTEzWklqzIxWkhpz14EkNVY17RUsyUArqfus0UpSYzMeaFdMewGStGw1P3obIsnqJNcm2ZLk9F2cf0iSzya5IslVSU4YNqcZraTum5ubyDRJVgJnAU8HtgMbk6yvqs0Dw94AXFBV70pyOLABeNhS8xpoJXXf5EoHRwFbqmorQJLzgTXAYKAt4H79z/cHvjtsUgOtpO4bI9AmWQusHehaV1Xr+p8PBLYNnNsOHL1gijcDn0zyCuC+wHHDrmmgldR9Yzyw0A+q64YOXNypwPur6p+S/DZwTpLHVC2+CAOtpM6r+Ynto70BOGjgeFW/b9CLgNUAVfXFJPsABwA3Ljapuw4kdd/8/OhtaRuBQ5McnGRv4BRg/YIx3wGeBpDkUcA+wE1LTWpGK6n7JrTroKp2JDkNuBhYCZxdVdckOQPYVFXrgb8E3pvklfRujL2gaulH0wy0krpvgg8sVNUGelu2BvveOPB5M/DkceY00Erqvhl/MsxAK6n7fKmMJDVmRitJjU1ue1cTBlpJ3TehXQetGGgldV5ZOpCkxiwdSFJjfjmjJDVmRitJje3wZpgktWXpQJIas3QgSW25vUuSWjOjlaTGDLSS1JiP4EpSWxP8zrAmDLSSus9AK0mNuetAkhozo5Wkxgy0ktRWzVk6kKS2zGglqS23d0lSawZaSWpstku0BlpJ3Vc7ZjvSGmgldd9sx1kDraTu82aYJLVmRitJbZnRSlJrM57Rrpj2AiTdc4cfcOu0lzATasfobRrMaKUO23zz/tNewkyY8W8bN6OVtAeYH6MNkWR1kmuTbEly+iJjnpNkc5Jrknxo2JxmtJI6b1IZbZKVwFnA04HtwMYk66tq88CYQ4HXAU+uqh8keeCwec1oJXVezY/ehjgK2FJVW6vqDuB8YM2CMS8GzqqqHwBU1Y3DJjXQSuq8msvILcnaJJsG2tqBqQ4Etg0cb+/3DToMOCzJpUkuS7J62PosHUjqvHFKB1W1Dli3jMvtBRwKHAusAi5J8tiq+uFSvyBJnVbzmdRUNwAHDRyv6vcN2g58qaruBK5L8g16gXfjYpNaOpDUeROs0W4EDk1ycJK9gVOA9QvG/Ae9bJYkB9ArJWxdalIzWkmdVzWZjLaqdiQ5DbgYWAmcXVXXJDkD2FRV6/vnnpFkMzAHvKaqbllqXgOtpM6b5AMLVbUB2LCg740Dnwt4Vb+NZKTSQZLDknw6ydX94yOSvGHUi0hSS/NzGblNw6g12vfS26B7J0BVXUWvdiFJU1fzGblNw6ilg1+pqsuTuy1ySq9nkKS7m1YAHdWogfbmJIcABZDkWcD3mq1KksZQs/062pED7cvpbfB9ZJIbgOuA5zdblSSNYY/IaKtqK3BckvsCK6rq9rbLkqTRTWp7VytLBtoku9y+sLNWW1XvaLAmSRrL3JR2E4xqWEa7X//nbwJP4q4nJE4ELm+1KEkaR6cz2qr6G4AklwBH7iwZJHkzcFHz1UnSCPaIGi3wIOCOgeM7+n2SNHV7yq6DDwKXJ7mwf3wy8IE2S5Kk8ewRGW1VvTXJx4Hf63e9sKquaLcsSRrd3Pxsv4hwpECb5CHAzcCFg31V9Z1WC5OkUe0ppYOL6D8VBtwHOBi4Fnh0i0VJ0jjmu7zrYKeqeuzgcZIjgZc1WZEkjanT27sWU1VfSXL0pBcjSffEHlE6WPCE2ArgSOC7TVYkSWPaI0oH3PWEGPRej3gR8NHJL0eSxrdH7DoANlfVhwc7kjwb+PAi4yVpt5nxysHI37DwuhH7JGm3m6+M3KZh2Nu7jgdOAA5McubAqfvhNyxImhFd33XwXWATcBLw5YH+24FXtlqUJI1jgl+C28Swt3ddCVyZ5NyqMoOVNJOKDme0SS6oqucAVyT5f/Xmqjqi2cokaUQ7Ol46+Iv+z99vvRBJuqdmPaNdctdBVe38ptuXVdW3Bxs+gitpRsyP0aZh1O1dT99F3/GTXIgk3VNFRm7TMKxG+1J6mevDk1w1cGo/4NKWC5OkUXV61wHwIeDjwN8Bpw/0315VtzZblSSNYW7Ga7TDtnfdBtwGnAqQ5IHAPsC+Sfb1xd+SZsGMf5PNaDXaJCcm+SZwHfB54Hp6ma4kTd08GblNw6g3w94CHAN8o6oOBp4GXNZsVZI0hhqjTcOogfbOqroFWJFkRVV9Fnhiw3VJ0shmfXvXqK9J/GGSfYFLgHOT3Aj8uN2yJGl085ntIu2oGe0a4Kf0XiTzCeBbwImtFiVJ45gbo03DSIG2qn5cVXNVtaOqPlBVZ/ZLCZI0dfMZvQ2TZHWSa5NsSXL6EuP+MEklGVpGHfbAwu3sun4coKrqfkNXLUmNTWo3QZKVwFn0nobdDmxMsr6qNi8Ytx+9d8F8aZR5h73rYL+qut8u2n4GWUmzYoK7Do4CtlTV1qq6AzifXul0ob8F3gb8bJT1zfY3mknSCMYpHSRZm2TTQFs7MNWBwLaB4+39vl9IciRwUFVdNOr6Rt11IEkza5xtW1W1Dlh3T66TZAXwDuAF4/yegVZS581NbnfXDcBBA8er+n077Qc8BvhcelvKHgysT3JSVW1abFIDraTOm+CDCBuBQ5McTC/AngI8b+fJ/vtfDth5nORzwKuXCrJgjVbSHmBST4b1vxvxNOBi4GvABVV1TZIzkpx0T9dnRiup8yb5lWFVtQHYsKDvjYuMPXaUOQ20kjqv6y/+lqSZN61Ha0dloJXUebP+4m8DraTOs3QgSY0ZaCWpsWl9c8KoDLSSOs8arSQ15q4DSWpsfsaLBwZaSZ3nzTBJamy281kDraQ9gBmtJDW2I7Od0xpoJXXebIdZA62kPYClA0lqzO1dktTYbIdZA62kPYClA0lqbG7Gc1oDraTOM6OVpMbKjFaS2jKjlaTG3N4lSY3Ndpg10EraA+yY8VBroJXUed4Mk6TGvBkmSY2Z0UpSY2a0ktTYXJnRSlJT7qOVpMas0UpSY9ZoJamxWS8drJj2AiRpuWqMf8MkWZ3k2iRbkpy+i/OvSrI5yVVJPp3kocPmNNBK6ry5qpHbUpKsBM4CjgcOB05NcviCYVcAT6yqI4CPAP8wbH0GWkmdN0+N3IY4CthSVVur6g7gfGDN4ICq+mxV/aR/eBmwatikBlpJnTc/RkuyNsmmgbZ2YKoDgW0Dx9v7fYt5EfDxYevzZpikzhtne1dVrQPWLfeaSZ4PPBF46rCxBlpJnTfBXQc3AAcNHK/q991NkuOA1wNPraqfD5vUQCup82pyj+BuBA5NcjC9AHsK8LzBAUkeD7wHWF1VN44yqYFWUudN6uvGq2pHktOAi4GVwNlVdU2SM4BNVbUeeDuwL/DhJADfqaqTlprXQCup8yb5wEJVbQA2LOh748Dn48ad00ArqfMmWDpowkArqfNm/RFcA62kzvPtXZLUmC/+lqTGLB1IUmMGWklqzF0HktSYGa0kNeauA0lqbK5m+1vDDLSSOs8arSQ1Zo1WkhqzRitJjc1bOpCktsxoJakxdx1IUmOWDiSpMUsHktSYGa0kNWZGK0mNzdXctJewJAOtpM7zEVxJasxHcCWpMTNaSWrMXQeS1Ji7DiSpMR/BlaTGrNFKUmPWaCWpMTNaSWrMfbSS1JgZrSQ15q4DSWrMm2GS1Nislw5WTHsBkrRcNca/YZKsTnJtki1JTt/F+Xsn+ff++S8lediwOQ20kjqvqkZuS0myEjgLOB44HDg1yeELhr0I+EFVPQJ4J/C2Yesz0ErqvPmqkdsQRwFbqmprVd0BnA+sWTBmDfCB/uePAE9LkqUmbVKjPeTqi5e8qKTJOGTaC5gRO+64YeSYk2QtsHaga11Vret/PhDYNnBuO3D0gil+MaaqdiS5Dfg14ObFrunNMEm/VPpBdd3QgRNk6UCS7nIDcNDA8ap+3y7HJNkLuD9wy1KTGmgl6S4bgUOTHJxkb+AUYP2CMeuBP+l/fhbwmRpyl83SgST19WuupwEXAyuBs6vqmiRnAJuqaj3wPuCcJFuAW+kF4yVl1jf6avdK8qOq2nfCc54EHF5Vf5/kZOAbVbV5zDk+B7y6qjZNcm3S7mDpQM1V1fqq+vv+4cn09idKvzQMtNql9Lw9ydVJ/jvJc/v9xyb5XJKPJPl6knN37iFMckK/78tJzkzysX7/C5L8S5LfAU4C3p7kq0kO6c/1xP64A5Jc3/98nyTnJ/lakguB+wys7RlJvpjkK0k+nGSiGbg0adZotZg/AB4H/BZwALAxySX9c48HHg18F7gUeHKSTcB7gKdU1XVJzls4YVV9Icl64GNV9RGAJfZ5vxT4SVU9KskRwFf64w8A3gAcV1U/TvJa4FXAGZP4o6UWDLRazO8C51XVHPA/ST4PPAn4X+DyqtoOkOSrwMOAHwFbq+q6/u+fx903hY/rKcCZAFV1VZKr+v3H0Cs9XNoP0nsDX1zGdaTmDLS6J34+8HmO5f0/2sFdJax9Rhgf4FNVdeoyrintVtZotZj/Ap6bZGWSB9DLMC9fYvy1wMMH3mT03EXG3Q7sN3B8PfCE/udnDfRfAjwPIMljgCP6/ZfRK1U8on/uvkkOG+HvkabGQKvFXAhcBVwJfAb4q6r6/mKDq+qnwMuATyT5Mr2Aetsuhp4PvCbJFUkOAf4ReGmSK+jVgnd6F7Bvkq/Rq79+uX+dm4AXAOf1ywlfBB65nD9Uas19tJqYJPtW1Y/6uxDOAr5ZVe+c9rqkaTOj1SS9uH9z7Bp6z3+/Z8rrkWaCGa0kNWZGK0mNGWglqTEDrSQ1ZqCVpMYMtJLU2P8BODCqq9F8CDAAAAAASUVORK5CYII=\n",
                "text/plain": "<Figure size 432x288 with 2 Axes>"
              },
              {
                "output_type": "display_data",
                "metadata": {
                  "tags": [],
                  "needs_background": "light"
                },
                "image/png": "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\n",
                "text/plain": "<Figure size 432x288 with 2 Axes>"
              }
            ],
            "_view_module": "@jupyter-widgets/output",
            "_model_module_version": "1.0.0",
            "_view_count": null,
            "_view_module_version": "1.0.0",
            "layout": "IPY_MODEL_d1fa3b02825a4c22a0bfbfe20dd123f9",
            "_model_module": "@jupyter-widgets/output"
          }
        },
        "af9087621eb5409d8884e3f30cb0d741": {
          "model_module": "@jupyter-widgets/controls",
          "model_name": "SliderStyleModel",
          "state": {
            "_view_name": "StyleView",
            "handle_color": null,
            "_model_name": "SliderStyleModel",
            "description_width": "",
            "_view_module": "@jupyter-widgets/base",
            "_model_module_version": "1.5.0",
            "_view_count": null,
            "_view_module_version": "1.2.0",
            "_model_module": "@jupyter-widgets/controls"
          }
        },
        "1524435f685d443e9d381751d8968f7e": {
          "model_module": "@jupyter-widgets/base",
          "model_name": "LayoutModel",
          "state": {
            "_view_name": "LayoutView",
            "grid_template_rows": null,
            "right": null,
            "justify_content": null,
            "_view_module": "@jupyter-widgets/base",
            "overflow": null,
            "_model_module_version": "1.2.0",
            "_view_count": null,
            "flex_flow": null,
            "width": null,
            "min_width": null,
            "border": null,
            "align_items": null,
            "bottom": null,
            "_model_module": "@jupyter-widgets/base",
            "top": null,
            "grid_column": null,
            "overflow_y": null,
            "overflow_x": null,
            "grid_auto_flow": null,
            "grid_area": null,
            "grid_template_columns": null,
            "flex": null,
            "_model_name": "LayoutModel",
            "justify_items": null,
            "grid_row": null,
            "max_height": null,
            "align_content": null,
            "visibility": null,
            "align_self": null,
            "height": null,
            "min_height": null,
            "padding": null,
            "grid_auto_rows": null,
            "grid_gap": null,
            "max_width": null,
            "order": null,
            "_view_module_version": "1.2.0",
            "grid_template_areas": null,
            "object_position": null,
            "object_fit": null,
            "grid_auto_columns": null,
            "margin": null,
            "display": null,
            "left": null
          }
        },
        "6d6bb240fbe84ce2bd514a3db271b456": {
          "model_module": "@jupyter-widgets/controls",
          "model_name": "SliderStyleModel",
          "state": {
            "_view_name": "StyleView",
            "handle_color": null,
            "_model_name": "SliderStyleModel",
            "description_width": "",
            "_view_module": "@jupyter-widgets/base",
            "_model_module_version": "1.5.0",
            "_view_count": null,
            "_view_module_version": "1.2.0",
            "_model_module": "@jupyter-widgets/controls"
          }
        },
        "9822fef67ee440eb98f54ba13b5d72d7": {
          "model_module": "@jupyter-widgets/base",
          "model_name": "LayoutModel",
          "state": {
            "_view_name": "LayoutView",
            "grid_template_rows": null,
            "right": null,
            "justify_content": null,
            "_view_module": "@jupyter-widgets/base",
            "overflow": null,
            "_model_module_version": "1.2.0",
            "_view_count": null,
            "flex_flow": null,
            "width": null,
            "min_width": null,
            "border": null,
            "align_items": null,
            "bottom": null,
            "_model_module": "@jupyter-widgets/base",
            "top": null,
            "grid_column": null,
            "overflow_y": null,
            "overflow_x": null,
            "grid_auto_flow": null,
            "grid_area": null,
            "grid_template_columns": null,
            "flex": null,
            "_model_name": "LayoutModel",
            "justify_items": null,
            "grid_row": null,
            "max_height": null,
            "align_content": null,
            "visibility": null,
            "align_self": null,
            "height": null,
            "min_height": null,
            "padding": null,
            "grid_auto_rows": null,
            "grid_gap": null,
            "max_width": null,
            "order": null,
            "_view_module_version": "1.2.0",
            "grid_template_areas": null,
            "object_position": null,
            "object_fit": null,
            "grid_auto_columns": null,
            "margin": null,
            "display": null,
            "left": null
          }
        },
        "d1fa3b02825a4c22a0bfbfe20dd123f9": {
          "model_module": "@jupyter-widgets/base",
          "model_name": "LayoutModel",
          "state": {
            "_view_name": "LayoutView",
            "grid_template_rows": null,
            "right": null,
            "justify_content": null,
            "_view_module": "@jupyter-widgets/base",
            "overflow": null,
            "_model_module_version": "1.2.0",
            "_view_count": null,
            "flex_flow": null,
            "width": null,
            "min_width": null,
            "border": null,
            "align_items": null,
            "bottom": null,
            "_model_module": "@jupyter-widgets/base",
            "top": null,
            "grid_column": null,
            "overflow_y": null,
            "overflow_x": null,
            "grid_auto_flow": null,
            "grid_area": null,
            "grid_template_columns": null,
            "flex": null,
            "_model_name": "LayoutModel",
            "justify_items": null,
            "grid_row": null,
            "max_height": null,
            "align_content": null,
            "visibility": null,
            "align_self": null,
            "height": null,
            "min_height": null,
            "padding": null,
            "grid_auto_rows": null,
            "grid_gap": null,
            "max_width": null,
            "order": null,
            "_view_module_version": "1.2.0",
            "grid_template_areas": null,
            "object_position": null,
            "object_fit": null,
            "grid_auto_columns": null,
            "margin": null,
            "display": null,
            "left": null
          }
        }
      }
    }
  },
  "cells": [
    {
      "cell_type": "markdown",
      "metadata": {
        "id": "view-in-github",
        "colab_type": "text"
      },
      "source": [
        "<a href=\"https://colab.research.google.com/github/JraHike76/DS-Unit-2-Kaggle-Challenge/blob/master/module2-random-forests/notes_Random_Forests_2_2_2.ipynb\" target=\"_parent\"><img src=\"https://colab.research.google.com/assets/colab-badge.svg\" alt=\"Open In Colab\"/></a>"
      ]
    },
    {
      "cell_type": "markdown",
      "metadata": {
        "colab_type": "text",
        "id": "UEHyIgGaaSEJ"
      },
      "source": [
        "Lambda School Data Science\n",
        "\n",
        "*Unit 2, Sprint 2, Module 2*\n",
        "\n",
        "---"
      ]
    },
    {
      "cell_type": "markdown",
      "metadata": {
        "colab_type": "text",
        "id": "mRfPLX4WgLVJ"
      },
      "source": [
        "# Random Forests"
      ]
    },
    {
      "cell_type": "markdown",
      "metadata": {
        "colab_type": "text",
        "id": "jRRNhkxcgLVK"
      },
      "source": [
        "- use scikit-learn for **random forests**\n",
        "- do **ordinal encoding** with high-cardinality categoricals\n",
        "- understand how categorical encodings affect trees differently compared to linear models\n",
        "- understand how tree ensembles reduce overfitting compared to a single decision tree with unlimited depth"
      ]
    },
    {
      "cell_type": "markdown",
      "metadata": {
        "colab_type": "text",
        "id": "-3TH11e1gLVL"
      },
      "source": [
        "Today's lesson has two take-away messages:\n",
        "\n",
        "#### Try Tree Ensembles when you do machine learning with labeled, tabular data\n",
        "- \"Tree Ensembles\" means Random Forest or Gradient Boosting models. \n",
        "- [Tree Ensembles often have the best predictive accuracy](https://arxiv.org/abs/1708.05070) with labeled, tabular data.\n",
        "- Why? Because trees can fit non-linear, non-[monotonic](https://en.wikipedia.org/wiki/Monotonic_function) relationships, and [interactions](https://christophm.github.io/interpretable-ml-book/interaction.html) between features.\n",
        "- A single decision tree, grown to unlimited depth, will [overfit](http://www.r2d3.us/visual-intro-to-machine-learning-part-1/). We solve this problem by ensembling trees, with bagging (Random Forest) or boosting (Gradient Boosting).\n",
        "- Random Forest's advantage: may be less sensitive to hyperparameters. Gradient Boosting's advantage: may get better predictive accuracy.\n",
        "\n",
        "#### One-hot encoding isn’t the only way, and may not be the best way, of categorical encoding for tree ensembles.\n",
        "- For example, tree ensembles can work with arbitrary \"ordinal\" encoding! (Randomly assigning an integer to each category.) Compared to one-hot encoding, the dimensionality will be lower, and the predictive accuracy may be just as good or even better.\n"
      ]
    },
    {
      "cell_type": "markdown",
      "metadata": {
        "colab_type": "text",
        "id": "r5PbOFEuFfGF"
      },
      "source": [
        "### Setup\n",
        "\n",
        "Run the code cell below. You can work locally (follow the [local setup instructions](https://lambdaschool.github.io/ds/unit2/local/)) or on Colab.\n",
        "\n",
        "Libraries\n",
        "\n",
        "- **category_encoders** \n",
        "- **graphviz**\n",
        "- ipywidgets\n",
        "- matplotlib\n",
        "- numpy\n",
        "- pandas\n",
        "- seaborn\n",
        "- scikit-learn"
      ]
    },
    {
      "cell_type": "code",
      "metadata": {
        "colab_type": "code",
        "id": "FStAplyRFoEu",
        "colab": {}
      },
      "source": [
        "%%capture\n",
        "import sys\n",
        "\n",
        "# If you're on Colab:\n",
        "if 'google.colab' in sys.modules:\n",
        "    DATA_PATH = 'https://raw.githubusercontent.com/LambdaSchool/DS-Unit-2-Kaggle-Challenge/master/data/'\n",
        "    !pip install category_encoders==2.*\n",
        "\n",
        "# If you're working locally:\n",
        "else:\n",
        "    DATA_PATH = '../data/'"
      ],
      "execution_count": 0,
      "outputs": []
    },
    {
      "cell_type": "markdown",
      "metadata": {
        "colab_type": "text",
        "id": "ZL-yK8B7gLVW"
      },
      "source": [
        "# Use scikit-learn for random forests"
      ]
    },
    {
      "cell_type": "markdown",
      "metadata": {
        "id": "2wr8GKeg_mTf",
        "colab_type": "text"
      },
      "source": [
        "## Overview\n",
        "\n",
        "Let's fit a Random Forest!\n",
        "\n",
        "![](https://pbs.twimg.com/media/EGSvKA0UUAEzUZi?format=png)\n",
        "\n",
        "[Chris Albon, MachineLearningFlashcards.com](https://twitter.com/chrisalbon/status/1181261589887909889)"
      ]
    },
    {
      "cell_type": "markdown",
      "metadata": {
        "colab_type": "text",
        "id": "gHFxMCPSgLVM"
      },
      "source": [
        "### Solution example\n",
        "\n",
        "First, read & wrangle the data.\n",
        "\n",
        "> Define a function to wrangle train, validate, and test sets in the same way. Clean outliers and engineer features. (For example, [what other columns have zeros and shouldn't?](https://github.com/Quartz/bad-data-guide#zeros-replace-missing-values) What other columns are duplicates, or nearly duplicates? Can you extract the year from date_recorded? Can you engineer new features, such as the number of years from waterpump construction to waterpump inspection?)"
      ]
    },
    {
      "cell_type": "code",
      "metadata": {
        "colab_type": "code",
        "id": "YTLm-rDagLVM",
        "colab": {}
      },
      "source": [
        "import numpy as np\n",
        "import pandas as pd\n",
        "from sklearn.model_selection import train_test_split\n",
        "\n",
        "# Merge train_features.csv & train_labels.csv\n",
        "train = pd.merge(pd.read_csv(DATA_PATH+'waterpumps/train_features.csv'), \n",
        "                 pd.read_csv(DATA_PATH+'waterpumps/train_labels.csv'))\n",
        "\n",
        "# Read test_features.csv & sample_submission.csv\n",
        "test = pd.read_csv(DATA_PATH+'waterpumps/test_features.csv')\n",
        "sample_submission = pd.read_csv(DATA_PATH+'waterpumps/sample_submission.csv')\n",
        "\n",
        "# Split train into train & val\n",
        "train, val = train_test_split(train, train_size=0.80, test_size=0.20, \n",
        "                              stratify=train['status_group'], random_state=42)\n",
        "\n",
        "\n",
        "def wrangle(X):\n",
        "    \"\"\"Wrangle train, validate, and test sets in the same way\"\"\"\n",
        "    \n",
        "    # Prevent SettingWithCopyWarning\n",
        "    X = X.copy()\n",
        "    \n",
        "    # About 3% of the time, latitude has small values near zero,\n",
        "    # outside Tanzania, so we'll treat these values like zero.\n",
        "    X['latitude'] = X['latitude'].replace(-2e-08, 0)\n",
        "    \n",
        "    # When columns have zeros and shouldn't, they are like null values.\n",
        "    # So we will replace the zeros with nulls, and impute missing values later.\n",
        "    # Also create a \"missing indicator\" column, because the fact that\n",
        "    # values are missing may be a predictive signal.\n",
        "    cols_with_zeros = ['longitude', 'latitude', 'construction_year', \n",
        "                       'gps_height', 'population']\n",
        "    for col in cols_with_zeros:\n",
        "        X[col] = X[col].replace(0, np.nan)\n",
        "        X[col+'_MISSING'] = X[col].isnull()\n",
        "            \n",
        "    # Drop duplicate columns\n",
        "    duplicates = ['quantity_group', 'payment_type']\n",
        "    X = X.drop(columns=duplicates)\n",
        "    \n",
        "    # Drop recorded_by (never varies) and id (always varies, random)\n",
        "    unusable_variance = ['recorded_by', 'id']\n",
        "    X = X.drop(columns=unusable_variance)\n",
        "    \n",
        "    # Convert date_recorded to datetime\n",
        "    X['date_recorded'] = pd.to_datetime(X['date_recorded'], infer_datetime_format=True)\n",
        "    \n",
        "    # Extract components from date_recorded, then drop the original column\n",
        "    X['year_recorded'] = X['date_recorded'].dt.year\n",
        "    X['month_recorded'] = X['date_recorded'].dt.month\n",
        "    X['day_recorded'] = X['date_recorded'].dt.day\n",
        "    X = X.drop(columns='date_recorded')\n",
        "    \n",
        "    # Engineer feature: how many years from construction_year to date_recorded\n",
        "    X['years'] = X['year_recorded'] - X['construction_year']\n",
        "    X['years_MISSING'] = X['years'].isnull()\n",
        "    \n",
        "    # return the wrangled dataframe\n",
        "    return X\n",
        "\n",
        "train = wrangle(train)\n",
        "val = wrangle(val)\n",
        "test = wrangle(test)"
      ],
      "execution_count": 0,
      "outputs": []
    },
    {
      "cell_type": "code",
      "metadata": {
        "colab_type": "code",
        "id": "m2HppBvZgLVP",
        "colab": {}
      },
      "source": [
        "# The status_group column is the target\n",
        "target = 'status_group'\n",
        "\n",
        "# Get a dataframe with all train columns except the target\n",
        "train_features = train.drop(columns=[target])\n",
        "\n",
        "# Get a list of the numeric features\n",
        "numeric_features = train_features.select_dtypes(include='number').columns.tolist()\n",
        "\n",
        "# Get a series with the cardinality of the nonnumeric features\n",
        "cardinality = train_features.select_dtypes(exclude='number').nunique()\n",
        "\n",
        "# Get a list of all categorical features with cardinality <= 50\n",
        "categorical_features = cardinality[cardinality <= 50].index.tolist()\n",
        "\n",
        "# Combine the lists \n",
        "features = numeric_features + categorical_features"
      ],
      "execution_count": 0,
      "outputs": []
    },
    {
      "cell_type": "code",
      "metadata": {
        "colab_type": "code",
        "id": "aXmK2brXgLVR",
        "colab": {}
      },
      "source": [
        "# Arrange data into X features matrix and y target vector \n",
        "X_train = train[features]\n",
        "y_train = train[target]\n",
        "X_val = val[features]\n",
        "y_val = val[target]\n",
        "X_test = test[features]"
      ],
      "execution_count": 0,
      "outputs": []
    },
    {
      "cell_type": "markdown",
      "metadata": {
        "id": "1Krr4yNo_mYE",
        "colab_type": "text"
      },
      "source": [
        "## Follow Along\n",
        "\n",
        "[Scikit-Learn User Guide: Random Forests](https://scikit-learn.org/stable/modules/ensemble.html#random-forests) "
      ]
    },
    {
      "cell_type": "code",
      "metadata": {
        "colab_type": "code",
        "id": "57yyygsdgLVW",
        "colab": {
          "base_uri": "https://localhost:8080/",
          "height": 68
        },
        "outputId": "4efe61be-b7ea-43cb-8bb5-257037f679bb"
      },
      "source": [
        "%%time\n",
        "# Warning: the %%time command sometimes has quirks\n",
        "\n",
        "import category_encoders as ce\n",
        "# from sklearn.tree import DecisionTreeClassifier\n",
        "from sklearn.ensemble import RandomForestClassifier\n",
        "from sklearn.impute import SimpleImputer\n",
        "from sklearn.pipeline import make_pipeline\n",
        "\n",
        "pipeline = make_pipeline(\n",
        "    ce.OneHotEncoder(use_cat_names=True),\n",
        "    SimpleImputer(strategy='median'),\n",
        "    RandomForestClassifier(random_state=0, n_jobs=-1)\n",
        ")\n",
        "\n",
        "# fit on train, score on val\n",
        "pipeline.fit(X_train, y_train)\n",
        "print('Validation Accuracy', pipeline.score(X_val, y_val))"
      ],
      "execution_count": 34,
      "outputs": [
        {
          "output_type": "stream",
          "text": [
            "Validation Accuracy 0.8088383838383838\n",
            "CPU times: user 24.7 s, sys: 311 ms, total: 25 s\n",
            "Wall time: 15.3 s\n"
          ],
          "name": "stdout"
        }
      ]
    },
    {
      "cell_type": "code",
      "metadata": {
        "id": "wd3IHWNgJ0Ri",
        "colab_type": "code",
        "colab": {
          "base_uri": "https://localhost:8080/",
          "height": 34
        },
        "outputId": "653ef0a7-0651-4ccb-c9f9-0b9f2f65cd3a"
      },
      "source": [
        "train.shape"
      ],
      "execution_count": 35,
      "outputs": [
        {
          "output_type": "execute_result",
          "data": {
            "text/plain": [
              "(47520, 46)"
            ]
          },
          "metadata": {
            "tags": []
          },
          "execution_count": 35
        }
      ]
    },
    {
      "cell_type": "code",
      "metadata": {
        "id": "z6oH0HRmH7Oq",
        "colab_type": "code",
        "colab": {
          "base_uri": "https://localhost:8080/",
          "height": 34
        },
        "outputId": "33e7be4c-7436-4951-8229-7c2492569634"
      },
      "source": [
        "print('X_train shape before encoding', X_train.shape)"
      ],
      "execution_count": 36,
      "outputs": [
        {
          "output_type": "stream",
          "text": [
            "X_train shape before encoding (47520, 38)\n"
          ],
          "name": "stdout"
        }
      ]
    },
    {
      "cell_type": "code",
      "metadata": {
        "id": "WKpNJjOrIaB_",
        "colab_type": "code",
        "colab": {
          "base_uri": "https://localhost:8080/",
          "height": 34
        },
        "outputId": "5a1065d4-2f29-43e8-f2a3-cd37a28a6d7a"
      },
      "source": [
        "encoder = pipeline.named_steps['onehotencoder']\n",
        "encoded = encoder.transform(X_train)\n",
        "print('X_train shape after encoding', encoded.shape)"
      ],
      "execution_count": 37,
      "outputs": [
        {
          "output_type": "stream",
          "text": [
            "X_train shape after encoding (47520, 182)\n"
          ],
          "name": "stdout"
        }
      ]
    },
    {
      "cell_type": "code",
      "metadata": {
        "id": "ZEEsAOb4QMRY",
        "colab_type": "code",
        "colab": {
          "base_uri": "https://localhost:8080/",
          "height": 281
        },
        "outputId": "cefe697e-f78d-4556-d9ef-9292b74312fb"
      },
      "source": [
        "%matplotlib inline\n",
        "import matplotlib.pyplot as plt\n",
        "\n",
        "# Get feature importances\n",
        "rf = pipeline.named_steps['randomforestclassifier']\n",
        "importances = pd.Series(rf.feature_importances_, encoded.columns)\n",
        "\n",
        "# Plot top n features\n",
        "n = 20\n",
        "plt.title(f'Top {n} features')\n",
        "importances.sort_values()[-n:].plot.barh();"
      ],
      "execution_count": 38,
      "outputs": [
        {
          "output_type": "display_data",
          "data": {
            "image/png": "[encoded data removed]",
            "text/plain": [
              "<Figure size 432x288 with 1 Axes>"
            ]
          },
          "metadata": {
            "tags": [],
            "needs_background": "light"
          }
        }
      ]
    },
    {
      "cell_type": "markdown",
      "metadata": {
        "colab_type": "text",
        "id": "yfyk_aa5gLVY"
      },
      "source": [
        "# Do ordinal encoding with high-cardinality categoricals"
      ]
    },
    {
      "cell_type": "markdown",
      "metadata": {
        "id": "AUujWYKk_mYX",
        "colab_type": "text"
      },
      "source": [
        "## Overview\n",
        "\n",
        "https://contrib.scikit-learn.org/category_encoders/ordinal.html"
      ]
    },
    {
      "cell_type": "markdown",
      "metadata": {
        "id": "KWmBJ0D8_mYa",
        "colab_type": "text"
      },
      "source": [
        "## Follow Along"
      ]
    },
    {
      "cell_type": "code",
      "metadata": {
        "colab_type": "code",
        "id": "b8d_WJtcgLVZ",
        "colab": {}
      },
      "source": [
        "# Re-arrange data into X features matrix and y target\n",
        "# - we will use ALL features, inc. high cardinality categoricals\n",
        "\n",
        "X_train = train.drop(columns=target)\n",
        "y_train = train[target]\n",
        "X_val = val.drop(columns=target)\n",
        "y_val = val[target]\n",
        "X_test = test"
      ],
      "execution_count": 0,
      "outputs": []
    },
    {
      "cell_type": "code",
      "metadata": {
        "id": "M7ah5Hf_K5s9",
        "colab_type": "code",
        "colab": {
          "base_uri": "https://localhost:8080/",
          "height": 68
        },
        "outputId": "d9a6fcfe-7eb2-42d6-b373-50ee7a14cbe2"
      },
      "source": [
        "%%time\n",
        "\n",
        "# This pipeline same as above but using Ordinal Encoder\n",
        "\n",
        "pipeline = make_pipeline(\n",
        "    ce.OrdinalEncoder(),\n",
        "    SimpleImputer(strategy='median'),\n",
        "    RandomForestClassifier(random_state=0, n_jobs=-1)\n",
        ")\n",
        "\n",
        "# fit on train, score on val\n",
        "pipeline.fit(X_train, y_train)\n",
        "print('Validation Accuracy', pipeline.score(X_val, y_val))"
      ],
      "execution_count": 40,
      "outputs": [
        {
          "output_type": "stream",
          "text": [
            "Validation Accuracy 0.8092592592592592\n",
            "CPU times: user 18.9 s, sys: 99.5 ms, total: 19 s\n",
            "Wall time: 10.5 s\n"
          ],
          "name": "stdout"
        }
      ]
    },
    {
      "cell_type": "code",
      "metadata": {
        "id": "Sq77XI_PK5oT",
        "colab_type": "code",
        "colab": {
          "base_uri": "https://localhost:8080/",
          "height": 34
        },
        "outputId": "c1c7c3e7-9c68-449e-9804-fd4c0d19d75d"
      },
      "source": [
        "print('X_train shape before encoding', X_train.shape)"
      ],
      "execution_count": 41,
      "outputs": [
        {
          "output_type": "stream",
          "text": [
            "X_train shape before encoding (47520, 45)\n"
          ],
          "name": "stdout"
        }
      ]
    },
    {
      "cell_type": "code",
      "metadata": {
        "id": "P_XYccnfK5iS",
        "colab_type": "code",
        "colab": {
          "base_uri": "https://localhost:8080/",
          "height": 34
        },
        "outputId": "9e73f14c-3bc0-4e18-d80f-b435d61ee9bc"
      },
      "source": [
        "encoder = pipeline.named_steps['ordinalencoder']\n",
        "encoded = encoder.transform(X_train)\n",
        "print('X_train shape after encoding', encoded.shape)"
      ],
      "execution_count": 42,
      "outputs": [
        {
          "output_type": "stream",
          "text": [
            "X_train shape after encoding (47520, 45)\n"
          ],
          "name": "stdout"
        }
      ]
    },
    {
      "cell_type": "code",
      "metadata": {
        "id": "0AuAC30BK5Nw",
        "colab_type": "code",
        "colab": {}
      },
      "source": [
        "# ordinal encoder does not add columns\n",
        "# faster and more efficient"
      ],
      "execution_count": 0,
      "outputs": []
    },
    {
      "cell_type": "markdown",
      "metadata": {
        "id": "-wrvuD5lN3ff",
        "colab_type": "text"
      },
      "source": [
        "Coefficients vs. Feature Importances\n",
        "\n",
        "*BOTH tell you the strength of the relationship between a feature and the target in the model\n",
        "\n",
        "*Coefficients can be negative or positive, tell you the direction of the relationship\n",
        "\n",
        "*Feature Importances are always positive and don't tell you the direction"
      ]
    },
    {
      "cell_type": "code",
      "metadata": {
        "id": "4VZk2uKMNZNN",
        "colab_type": "code",
        "colab": {
          "base_uri": "https://localhost:8080/",
          "height": 281
        },
        "outputId": "60fade37-4b96-4f73-9132-0b8ea5350e77"
      },
      "source": [
        "%matplotlib inline\n",
        "import matplotlib.pyplot as plt\n",
        "\n",
        "# Get feature importances\n",
        "rf = pipeline.named_steps['randomforestclassifier']\n",
        "importances = pd.Series(rf.feature_importances_, encoded.columns)\n",
        "\n",
        "# Plot top n features\n",
        "n = 20\n",
        "plt.title(f'Top {n} features with ORDINAL ENCODING')\n",
        "importances.sort_values()[-n:].plot.barh();"
      ],
      "execution_count": 44,
      "outputs": [
        {
          "output_type": "display_data",
          "data": {
            "image/png": "[encoded data removed]",
            "text/plain": [
              "<Figure size 432x288 with 1 Axes>"
            ]
          },
          "metadata": {
            "tags": [],
            "needs_background": "light"
          }
        }
      ]
    },
    {
      "cell_type": "code",
      "metadata": {
        "id": "8kz0XwcIQeU3",
        "colab_type": "code",
        "colab": {}
      },
      "source": [
        "# kept high cardinality categories when plotting by Ordinal Encoding"
      ],
      "execution_count": 0,
      "outputs": []
    },
    {
      "cell_type": "markdown",
      "metadata": {
        "colab_type": "text",
        "id": "xs2UPoVdgLVp"
      },
      "source": [
        "# Understand how categorical encodings affect trees differently compared to linear models"
      ]
    },
    {
      "cell_type": "markdown",
      "metadata": {
        "id": "MBmlryUf_mY3",
        "colab_type": "text"
      },
      "source": [
        "## Follow Along"
      ]
    },
    {
      "cell_type": "markdown",
      "metadata": {
        "colab_type": "text",
        "id": "z8V-A92mgLVp"
      },
      "source": [
        "### Categorical exploration, 1 feature at a time\n",
        "\n",
        "Change `feature`, then re-run these cells!"
      ]
    },
    {
      "cell_type": "code",
      "metadata": {
        "colab_type": "code",
        "id": "G35RAzVdgLVq",
        "colab": {}
      },
      "source": [
        "feature = 'extraction_type_class'"
      ],
      "execution_count": 0,
      "outputs": []
    },
    {
      "cell_type": "code",
      "metadata": {
        "colab_type": "code",
        "id": "OuxHWiH8gLVr",
        "colab": {
          "base_uri": "https://localhost:8080/",
          "height": 153
        },
        "outputId": "71e0a264-3ef8-433d-eb97-fd3a2ffa8326"
      },
      "source": [
        "X_train[feature].value_counts()"
      ],
      "execution_count": 46,
      "outputs": [
        {
          "output_type": "execute_result",
          "data": {
            "text/plain": [
              "gravity         21448\n",
              "handpump        13184\n",
              "other            5193\n",
              "submersible      4894\n",
              "motorpump        2355\n",
              "rope pump         353\n",
              "wind-powered       93\n",
              "Name: extraction_type_class, dtype: int64"
            ]
          },
          "metadata": {
            "tags": []
          },
          "execution_count": 46
        }
      ]
    },
    {
      "cell_type": "code",
      "metadata": {
        "colab_type": "code",
        "id": "pVxoC4NngLVt",
        "colab": {
          "base_uri": "https://localhost:8080/",
          "height": 552
        },
        "outputId": "fc200189-c1f2-41fc-f16c-f8bdb85e5a9e"
      },
      "source": [
        "import seaborn as sns\n",
        "plt.figure(figsize=(16,9))\n",
        "sns.barplot(\n",
        "    x=train[feature], \n",
        "    y=train['status_group']=='functional', \n",
        "    color='grey'\n",
        ");"
      ],
      "execution_count": 47,
      "outputs": [
        {
          "output_type": "display_data",
          "data": {
            "image/png": "[encoded data removed]",
            "text/plain": [
              "<Figure size 1152x648 with 1 Axes>"
            ]
          },
          "metadata": {
            "tags": [],
            "needs_background": "light"
          }
        }
      ]
    },
    {
      "cell_type": "code",
      "metadata": {
        "colab_type": "code",
        "id": "w99mek14gLVv",
        "colab": {
          "base_uri": "https://localhost:8080/",
          "height": 381
        },
        "outputId": "4daab28a-2361-4629-a053-010d32814c64"
      },
      "source": [
        "X_train[feature].head(20)"
      ],
      "execution_count": 48,
      "outputs": [
        {
          "output_type": "execute_result",
          "data": {
            "text/plain": [
              "43360        gravity\n",
              "7263         gravity\n",
              "2486        handpump\n",
              "313            other\n",
              "52726      motorpump\n",
              "8558         gravity\n",
              "2559         gravity\n",
              "54735      motorpump\n",
              "25763       handpump\n",
              "44540    submersible\n",
              "28603          other\n",
              "4372     submersible\n",
              "30666        gravity\n",
              "6431     submersible\n",
              "57420          other\n",
              "1373         gravity\n",
              "2026         gravity\n",
              "58977       handpump\n",
              "41101        gravity\n",
              "10019        gravity\n",
              "Name: extraction_type_class, dtype: object"
            ]
          },
          "metadata": {
            "tags": []
          },
          "execution_count": 48
        }
      ]
    },
    {
      "cell_type": "markdown",
      "metadata": {
        "colab_type": "text",
        "id": "ezzK2IdbgLVx"
      },
      "source": [
        "### [One Hot Encoding](https://contrib.scikit-learn.org/category_encoders/onehot.html)\n",
        "\n",
        "> Onehot (or dummy) coding for categorical features, produces one feature per category, each binary.\n",
        "\n",
        "Warning: May run slow, or run out of memory, with high cardinality categoricals!"
      ]
    },
    {
      "cell_type": "code",
      "metadata": {
        "colab_type": "code",
        "id": "HDQZtV6GgLVy",
        "colab": {
          "base_uri": "https://localhost:8080/",
          "height": 717
        },
        "outputId": "16a026e4-5bd3-4c72-dec2-f2e9d935dbd5"
      },
      "source": [
        "encoder = ce.OneHotEncoder(use_cat_names=True)\n",
        "encoded = encoder.fit_transform(X_train[[feature]])\n",
        "print(f'{len(encoded.columns)} columns')\n",
        "encoded.head(20)"
      ],
      "execution_count": 49,
      "outputs": [
        {
          "output_type": "stream",
          "text": [
            "7 columns\n"
          ],
          "name": "stdout"
        },
        {
          "output_type": "execute_result",
          "data": {
            "text/html": [
              "<div>\n",
              "<style scoped>\n",
              "    .dataframe tbody tr th:only-of-type {\n",
              "        vertical-align: middle;\n",
              "    }\n",
              "\n",
              "    .dataframe tbody tr th {\n",
              "        vertical-align: top;\n",
              "    }\n",
              "\n",
              "    .dataframe thead th {\n",
              "        text-align: right;\n",
              "    }\n",
              "</style>\n",
              "<table border=\"1\" class=\"dataframe\">\n",
              "  <thead>\n",
              "    <tr style=\"text-align: right;\">\n",
              "      <th></th>\n",
              "      <th>extraction_type_class_gravity</th>\n",
              "      <th>extraction_type_class_handpump</th>\n",
              "      <th>extraction_type_class_other</th>\n",
              "      <th>extraction_type_class_motorpump</th>\n",
              "      <th>extraction_type_class_submersible</th>\n",
              "      <th>extraction_type_class_rope pump</th>\n",
              "      <th>extraction_type_class_wind-powered</th>\n",
              "    </tr>\n",
              "  </thead>\n",
              "  <tbody>\n",
              "    <tr>\n",
              "      <th>43360</th>\n",
              "      <td>1</td>\n",
              "      <td>0</td>\n",
              "      <td>0</td>\n",
              "      <td>0</td>\n",
              "      <td>0</td>\n",
              "      <td>0</td>\n",
              "      <td>0</td>\n",
              "    </tr>\n",
              "    <tr>\n",
              "      <th>7263</th>\n",
              "      <td>1</td>\n",
              "      <td>0</td>\n",
              "      <td>0</td>\n",
              "      <td>0</td>\n",
              "      <td>0</td>\n",
              "      <td>0</td>\n",
              "      <td>0</td>\n",
              "    </tr>\n",
              "    <tr>\n",
              "      <th>2486</th>\n",
              "      <td>0</td>\n",
              "      <td>1</td>\n",
              "      <td>0</td>\n",
              "      <td>0</td>\n",
              "      <td>0</td>\n",
              "      <td>0</td>\n",
              "      <td>0</td>\n",
              "    </tr>\n",
              "    <tr>\n",
              "      <th>313</th>\n",
              "      <td>0</td>\n",
              "      <td>0</td>\n",
              "      <td>1</td>\n",
              "      <td>0</td>\n",
              "      <td>0</td>\n",
              "      <td>0</td>\n",
              "      <td>0</td>\n",
              "    </tr>\n",
              "    <tr>\n",
              "      <th>52726</th>\n",
              "      <td>0</td>\n",
              "      <td>0</td>\n",
              "      <td>0</td>\n",
              "      <td>1</td>\n",
              "      <td>0</td>\n",
              "      <td>0</td>\n",
              "      <td>0</td>\n",
              "    </tr>\n",
              "    <tr>\n",
              "      <th>8558</th>\n",
              "      <td>1</td>\n",
              "      <td>0</td>\n",
              "      <td>0</td>\n",
              "      <td>0</td>\n",
              "      <td>0</td>\n",
              "      <td>0</td>\n",
              "      <td>0</td>\n",
              "    </tr>\n",
              "    <tr>\n",
              "      <th>2559</th>\n",
              "      <td>1</td>\n",
              "      <td>0</td>\n",
              "      <td>0</td>\n",
              "      <td>0</td>\n",
              "      <td>0</td>\n",
              "      <td>0</td>\n",
              "      <td>0</td>\n",
              "    </tr>\n",
              "    <tr>\n",
              "      <th>54735</th>\n",
              "      <td>0</td>\n",
              "      <td>0</td>\n",
              "      <td>0</td>\n",
              "      <td>1</td>\n",
              "      <td>0</td>\n",
              "      <td>0</td>\n",
              "      <td>0</td>\n",
              "    </tr>\n",
              "    <tr>\n",
              "      <th>25763</th>\n",
              "      <td>0</td>\n",
              "      <td>1</td>\n",
              "      <td>0</td>\n",
              "      <td>0</td>\n",
              "      <td>0</td>\n",
              "      <td>0</td>\n",
              "      <td>0</td>\n",
              "    </tr>\n",
              "    <tr>\n",
              "      <th>44540</th>\n",
              "      <td>0</td>\n",
              "      <td>0</td>\n",
              "      <td>0</td>\n",
              "      <td>0</td>\n",
              "      <td>1</td>\n",
              "      <td>0</td>\n",
              "      <td>0</td>\n",
              "    </tr>\n",
              "    <tr>\n",
              "      <th>28603</th>\n",
              "      <td>0</td>\n",
              "      <td>0</td>\n",
              "      <td>1</td>\n",
              "      <td>0</td>\n",
              "      <td>0</td>\n",
              "      <td>0</td>\n",
              "      <td>0</td>\n",
              "    </tr>\n",
              "    <tr>\n",
              "      <th>4372</th>\n",
              "      <td>0</td>\n",
              "      <td>0</td>\n",
              "      <td>0</td>\n",
              "      <td>0</td>\n",
              "      <td>1</td>\n",
              "      <td>0</td>\n",
              "      <td>0</td>\n",
              "    </tr>\n",
              "    <tr>\n",
              "      <th>30666</th>\n",
              "      <td>1</td>\n",
              "      <td>0</td>\n",
              "      <td>0</td>\n",
              "      <td>0</td>\n",
              "      <td>0</td>\n",
              "      <td>0</td>\n",
              "      <td>0</td>\n",
              "    </tr>\n",
              "    <tr>\n",
              "      <th>6431</th>\n",
              "      <td>0</td>\n",
              "      <td>0</td>\n",
              "      <td>0</td>\n",
              "      <td>0</td>\n",
              "      <td>1</td>\n",
              "      <td>0</td>\n",
              "      <td>0</td>\n",
              "    </tr>\n",
              "    <tr>\n",
              "      <th>57420</th>\n",
              "      <td>0</td>\n",
              "      <td>0</td>\n",
              "      <td>1</td>\n",
              "      <td>0</td>\n",
              "      <td>0</td>\n",
              "      <td>0</td>\n",
              "      <td>0</td>\n",
              "    </tr>\n",
              "    <tr>\n",
              "      <th>1373</th>\n",
              "      <td>1</td>\n",
              "      <td>0</td>\n",
              "      <td>0</td>\n",
              "      <td>0</td>\n",
              "      <td>0</td>\n",
              "      <td>0</td>\n",
              "      <td>0</td>\n",
              "    </tr>\n",
              "    <tr>\n",
              "      <th>2026</th>\n",
              "      <td>1</td>\n",
              "      <td>0</td>\n",
              "      <td>0</td>\n",
              "      <td>0</td>\n",
              "      <td>0</td>\n",
              "      <td>0</td>\n",
              "      <td>0</td>\n",
              "    </tr>\n",
              "    <tr>\n",
              "      <th>58977</th>\n",
              "      <td>0</td>\n",
              "      <td>1</td>\n",
              "      <td>0</td>\n",
              "      <td>0</td>\n",
              "      <td>0</td>\n",
              "      <td>0</td>\n",
              "      <td>0</td>\n",
              "    </tr>\n",
              "    <tr>\n",
              "      <th>41101</th>\n",
              "      <td>1</td>\n",
              "      <td>0</td>\n",
              "      <td>0</td>\n",
              "      <td>0</td>\n",
              "      <td>0</td>\n",
              "      <td>0</td>\n",
              "      <td>0</td>\n",
              "    </tr>\n",
              "    <tr>\n",
              "      <th>10019</th>\n",
              "      <td>1</td>\n",
              "      <td>0</td>\n",
              "      <td>0</td>\n",
              "      <td>0</td>\n",
              "      <td>0</td>\n",
              "      <td>0</td>\n",
              "      <td>0</td>\n",
              "    </tr>\n",
              "  </tbody>\n",
              "</table>\n",
              "</div>"
            ],
            "text/plain": [
              "       extraction_type_class_gravity  ...  extraction_type_class_wind-powered\n",
              "43360                              1  ...                                   0\n",
              "7263                               1  ...                                   0\n",
              "2486                               0  ...                                   0\n",
              "313                                0  ...                                   0\n",
              "52726                              0  ...                                   0\n",
              "8558                               1  ...                                   0\n",
              "2559                               1  ...                                   0\n",
              "54735                              0  ...                                   0\n",
              "25763                              0  ...                                   0\n",
              "44540                              0  ...                                   0\n",
              "28603                              0  ...                                   0\n",
              "4372                               0  ...                                   0\n",
              "30666                              1  ...                                   0\n",
              "6431                               0  ...                                   0\n",
              "57420                              0  ...                                   0\n",
              "1373                               1  ...                                   0\n",
              "2026                               1  ...                                   0\n",
              "58977                              0  ...                                   0\n",
              "41101                              1  ...                                   0\n",
              "10019                              1  ...                                   0\n",
              "\n",
              "[20 rows x 7 columns]"
            ]
          },
          "metadata": {
            "tags": []
          },
          "execution_count": 49
        }
      ]
    },
    {
      "cell_type": "markdown",
      "metadata": {
        "colab_type": "text",
        "id": "1Ql9Qmw3sNJ7"
      },
      "source": [
        "#### One-Hot Encoding, Logistic Regression, Validation Accuracy"
      ]
    },
    {
      "cell_type": "code",
      "metadata": {
        "colab_type": "code",
        "id": "mT4A-oDGpOss",
        "colab": {
          "base_uri": "https://localhost:8080/",
          "height": 35
        },
        "outputId": "5991c0dc-4429-4437-93d9-9e4f9f5a75b6"
      },
      "source": [
        "from sklearn.linear_model import LogisticRegressionCV\n",
        "from sklearn.preprocessing import StandardScaler\n",
        "\n",
        "lr = make_pipeline(\n",
        "    ce.OneHotEncoder(use_cat_names=True), \n",
        "    SimpleImputer(), \n",
        "    StandardScaler(), \n",
        "    LogisticRegressionCV(multi_class='auto', solver='lbfgs', cv=5, n_jobs=-1)\n",
        ")\n",
        "\n",
        "lr.fit(X_train[[feature]], y_train)\n",
        "score = lr.score(X_val[[feature]], y_val)\n",
        "print('Logistic Regression, Validation Accuracy', score)"
      ],
      "execution_count": 50,
      "outputs": [
        {
          "output_type": "stream",
          "text": [
            "Logistic Regression, Validation Accuracy 0.6202861952861953\n"
          ],
          "name": "stdout"
        }
      ]
    },
    {
      "cell_type": "markdown",
      "metadata": {
        "colab_type": "text",
        "id": "EbH6wivpsRuV"
      },
      "source": [
        "#### One-Hot Encoding, Decision Tree, Validation Accuracy"
      ]
    },
    {
      "cell_type": "code",
      "metadata": {
        "colab_type": "code",
        "id": "b6KUluFOqIdK",
        "colab": {
          "base_uri": "https://localhost:8080/",
          "height": 34
        },
        "outputId": "28ba95ad-9f23-44d7-d22c-9241757c10af"
      },
      "source": [
        "from sklearn.tree import DecisionTreeClassifier\n",
        "\n",
        "dt = make_pipeline(\n",
        "    ce.OneHotEncoder(use_cat_names=True), \n",
        "    SimpleImputer(), \n",
        "    DecisionTreeClassifier(random_state=42)\n",
        ")\n",
        "\n",
        "dt.fit(X_train[[feature]], y_train)\n",
        "score = dt.score(X_val[[feature]], y_val)\n",
        "print('Decision Tree, Validation Accuracy', score)"
      ],
      "execution_count": 51,
      "outputs": [
        {
          "output_type": "stream",
          "text": [
            "Decision Tree, Validation Accuracy 0.6202861952861953\n"
          ],
          "name": "stdout"
        }
      ]
    },
    {
      "cell_type": "code",
      "metadata": {
        "id": "VZbOkMr6XnUa",
        "colab_type": "code",
        "colab": {}
      },
      "source": [
        "#  exact accuracy"
      ],
      "execution_count": 0,
      "outputs": []
    },
    {
      "cell_type": "markdown",
      "metadata": {
        "colab_type": "text",
        "id": "8yg11_gTsUu6"
      },
      "source": [
        "#### One-Hot Encoding, Logistic Regression, Model Interpretation"
      ]
    },
    {
      "cell_type": "code",
      "metadata": {
        "colab_type": "code",
        "id": "IxHwXGRornNI",
        "colab": {
          "base_uri": "https://localhost:8080/",
          "height": 265
        },
        "outputId": "b1aff9c0-eb40-426c-8892-9231cf6cab8d"
      },
      "source": [
        "model = lr.named_steps['logisticregressioncv']\n",
        "encoder = lr.named_steps['onehotencoder']\n",
        "encoded_columns = encoder.transform(X_val[[feature]]).columns\n",
        "coefficients = pd.Series(model.coef_[0], encoded_columns)\n",
        "coefficients.sort_values().plot.barh(color='grey');"
      ],
      "execution_count": 52,
      "outputs": [
        {
          "output_type": "display_data",
          "data": {
            "image/png": "[encoded data removed]",
            "text/plain": [
              "<Figure size 432x288 with 1 Axes>"
            ]
          },
          "metadata": {
            "tags": [],
            "needs_background": "light"
          }
        }
      ]
    },
    {
      "cell_type": "markdown",
      "metadata": {
        "colab_type": "text",
        "id": "0REZ8HdpsccR"
      },
      "source": [
        "#### One-Hot Encoding, Decision Tree, Model Interpretation"
      ]
    },
    {
      "cell_type": "code",
      "metadata": {
        "colab_type": "code",
        "id": "gV-grmYKpDp9",
        "colab": {
          "base_uri": "https://localhost:8080/",
          "height": 955
        },
        "outputId": "12380f16-de4b-4032-9658-bf0b32179727"
      },
      "source": [
        "# Plot tree\n",
        "# https://scikit-learn.org/stable/modules/generated/sklearn.tree.export_graphviz.html\n",
        "import graphviz\n",
        "from sklearn.tree import export_graphviz\n",
        "\n",
        "model = dt.named_steps['decisiontreeclassifier']\n",
        "encoder = dt.named_steps['onehotencoder']\n",
        "encoded_columns = encoder.transform(X_val[[feature]]).columns\n",
        "\n",
        "dot_data = export_graphviz(model, \n",
        "                           out_file=None, \n",
        "                           max_depth=7, \n",
        "                           feature_names=encoded_columns,\n",
        "                           class_names=model.classes_, \n",
        "                           impurity=False, \n",
        "                           filled=True, \n",
        "                           proportion=True, \n",
        "                           rounded=True)   \n",
        "display(graphviz.Source(dot_data))"
      ],
      "execution_count": 53,
      "outputs": [
        {
          "output_type": "display_data",
          "data": {
            "text/plain": [
              "<graphviz.files.Source at 0x7f0dcb3c32b0>"
            ],
            "image/svg+xml": "<?xml version=\"1.0\" encoding=\"UTF-8\" standalone=\"no\"?>\n<!DOCTYPE svg PUBLIC \"-//W3C//DTD SVG 1.1//EN\"\n \"http://www.w3.org/Graphics/SVG/1.1/DTD/svg11.dtd\">\n<!-- Generated by graphviz version 2.40.1 (20161225.0304)\n -->\n<!-- Title: Tree Pages: 1 -->\n<svg width=\"1067pt\" height=\"685pt\"\n viewBox=\"0.00 0.00 1067.00 685.00\" xmlns=\"http://www.w3.org/2000/svg\" xmlns:xlink=\"http://www.w3.org/1999/xlink\">\n<g id=\"graph0\" class=\"graph\" transform=\"scale(1 1) rotate(0) translate(4 681)\">\n<title>Tree</title>\n<polygon fill=\"#ffffff\" stroke=\"transparent\" points=\"-4,4 -4,-681 1063,-681 1063,4 -4,4\"/>\n<!-- 0 -->\n<g id=\"node1\" class=\"node\">\n<title>0</title>\n<path fill=\"#f8decc\" stroke=\"#000000\" d=\"M944.5,-677C944.5,-677 725.5,-677 725.5,-677 719.5,-677 713.5,-671 713.5,-665 713.5,-665 713.5,-621 713.5,-621 713.5,-615 719.5,-609 725.5,-609 725.5,-609 944.5,-609 944.5,-609 950.5,-609 956.5,-615 956.5,-621 956.5,-621 956.5,-665 956.5,-665 956.5,-671 950.5,-677 944.5,-677\"/>\n<text text-anchor=\"middle\" x=\"835\" y=\"-661.8\" font-family=\"Helvetica,sans-Serif\" font-size=\"14.00\" fill=\"#000000\">extraction_type_class_other &lt;= 0.5</text>\n<text text-anchor=\"middle\" x=\"835\" y=\"-646.8\" font-family=\"Helvetica,sans-Serif\" font-size=\"14.00\" fill=\"#000000\">samples = 100.0%</text>\n<text text-anchor=\"middle\" x=\"835\" y=\"-631.8\" font-family=\"Helvetica,sans-Serif\" font-size=\"14.00\" fill=\"#000000\">value = [0.543, 0.073, 0.384]</text>\n<text text-anchor=\"middle\" x=\"835\" y=\"-616.8\" font-family=\"Helvetica,sans-Serif\" font-size=\"14.00\" fill=\"#000000\">class = functional</text>\n</g>\n<!-- 1 -->\n<g id=\"node2\" class=\"node\">\n<title>1</title>\n<path fill=\"#f5ceb2\" stroke=\"#000000\" d=\"M837,-573C837,-573 577,-573 577,-573 571,-573 565,-567 565,-561 565,-561 565,-517 565,-517 565,-511 571,-505 577,-505 577,-505 837,-505 837,-505 843,-505 849,-511 849,-517 849,-517 849,-561 849,-561 849,-567 843,-573 837,-573\"/>\n<text text-anchor=\"middle\" x=\"707\" y=\"-557.8\" font-family=\"Helvetica,sans-Serif\" font-size=\"14.00\" fill=\"#000000\">extraction_type_class_motorpump &lt;= 0.5</text>\n<text text-anchor=\"middle\" x=\"707\" y=\"-542.8\" font-family=\"Helvetica,sans-Serif\" font-size=\"14.00\" fill=\"#000000\">samples = 89.1%</text>\n<text text-anchor=\"middle\" x=\"707\" y=\"-527.8\" font-family=\"Helvetica,sans-Serif\" font-size=\"14.00\" fill=\"#000000\">value = [0.59, 0.078, 0.332]</text>\n<text text-anchor=\"middle\" x=\"707\" y=\"-512.8\" font-family=\"Helvetica,sans-Serif\" font-size=\"14.00\" fill=\"#000000\">class = functional</text>\n</g>\n<!-- 0&#45;&gt;1 -->\n<g id=\"edge1\" class=\"edge\">\n<title>0&#45;&gt;1</title>\n<path fill=\"none\" stroke=\"#000000\" d=\"M793.088,-608.9465C781.485,-599.519 768.7779,-589.1946 756.7741,-579.4415\"/>\n<polygon fill=\"#000000\" stroke=\"#000000\" points=\"758.9744,-576.7196 749.0061,-573.13 754.5602,-582.1524 758.9744,-576.7196\"/>\n<text text-anchor=\"middle\" x=\"751.5786\" y=\"-594.2973\" font-family=\"Helvetica,sans-Serif\" font-size=\"14.00\" fill=\"#000000\">True</text>\n</g>\n<!-- 12 -->\n<g id=\"node13\" class=\"node\">\n<title>12</title>\n<path fill=\"#9d66eb\" stroke=\"#000000\" d=\"M1047,-565.5C1047,-565.5 879,-565.5 879,-565.5 873,-565.5 867,-559.5 867,-553.5 867,-553.5 867,-524.5 867,-524.5 867,-518.5 873,-512.5 879,-512.5 879,-512.5 1047,-512.5 1047,-512.5 1053,-512.5 1059,-518.5 1059,-524.5 1059,-524.5 1059,-553.5 1059,-553.5 1059,-559.5 1053,-565.5 1047,-565.5\"/>\n<text text-anchor=\"middle\" x=\"963\" y=\"-550.3\" font-family=\"Helvetica,sans-Serif\" font-size=\"14.00\" fill=\"#000000\">samples = 10.9%</text>\n<text text-anchor=\"middle\" x=\"963\" y=\"-535.3\" font-family=\"Helvetica,sans-Serif\" font-size=\"14.00\" fill=\"#000000\">value = [0.159, 0.031, 0.81]</text>\n<text text-anchor=\"middle\" x=\"963\" y=\"-520.3\" font-family=\"Helvetica,sans-Serif\" font-size=\"14.00\" fill=\"#000000\">class = non functional</text>\n</g>\n<!-- 0&#45;&gt;12 -->\n<g id=\"edge12\" class=\"edge\">\n<title>0&#45;&gt;12</title>\n<path fill=\"none\" stroke=\"#000000\" d=\"M876.912,-608.9465C891.5533,-597.0504 907.9526,-583.726 922.4785,-571.9237\"/>\n<polygon fill=\"#000000\" stroke=\"#000000\" points=\"924.7786,-574.5645 930.3327,-565.5422 920.3645,-569.1317 924.7786,-574.5645\"/>\n<text text-anchor=\"middle\" x=\"927.7602\" y=\"-586.7095\" font-family=\"Helvetica,sans-Serif\" font-size=\"14.00\" fill=\"#000000\">False</text>\n</g>\n<!-- 2 -->\n<g id=\"node3\" class=\"node\">\n<title>2</title>\n<path fill=\"#f4caac\" stroke=\"#000000\" d=\"M708.5,-469C708.5,-469 443.5,-469 443.5,-469 437.5,-469 431.5,-463 431.5,-457 431.5,-457 431.5,-413 431.5,-413 431.5,-407 437.5,-401 443.5,-401 443.5,-401 708.5,-401 708.5,-401 714.5,-401 720.5,-407 720.5,-413 720.5,-413 720.5,-457 720.5,-457 720.5,-463 714.5,-469 708.5,-469\"/>\n<text text-anchor=\"middle\" x=\"576\" y=\"-453.8\" font-family=\"Helvetica,sans-Serif\" font-size=\"14.00\" fill=\"#000000\">extraction_type_class_submersible &lt;= 0.5</text>\n<text text-anchor=\"middle\" x=\"576\" y=\"-438.8\" font-family=\"Helvetica,sans-Serif\" font-size=\"14.00\" fill=\"#000000\">samples = 84.1%</text>\n<text text-anchor=\"middle\" x=\"576\" y=\"-423.8\" font-family=\"Helvetica,sans-Serif\" font-size=\"14.00\" fill=\"#000000\">value = [0.603, 0.08, 0.318]</text>\n<text text-anchor=\"middle\" x=\"576\" y=\"-408.8\" font-family=\"Helvetica,sans-Serif\" font-size=\"14.00\" fill=\"#000000\">class = functional</text>\n</g>\n<!-- 1&#45;&gt;2 -->\n<g id=\"edge2\" class=\"edge\">\n<title>1&#45;&gt;2</title>\n<path fill=\"none\" stroke=\"#000000\" d=\"M664.1057,-504.9465C652.2307,-495.519 639.2259,-485.1946 626.9407,-475.4415\"/>\n<polygon fill=\"#000000\" stroke=\"#000000\" points=\"628.9989,-472.6066 618.9907,-469.13 624.6464,-478.089 628.9989,-472.6066\"/>\n</g>\n<!-- 11 -->\n<g id=\"node12\" class=\"node\">\n<title>11</title>\n<path fill=\"#d8c1f7\" stroke=\"#000000\" d=\"M927,-461.5C927,-461.5 751,-461.5 751,-461.5 745,-461.5 739,-455.5 739,-449.5 739,-449.5 739,-420.5 739,-420.5 739,-414.5 745,-408.5 751,-408.5 751,-408.5 927,-408.5 927,-408.5 933,-408.5 939,-414.5 939,-420.5 939,-420.5 939,-449.5 939,-449.5 939,-455.5 933,-461.5 927,-461.5\"/>\n<text text-anchor=\"middle\" x=\"839\" y=\"-446.3\" font-family=\"Helvetica,sans-Serif\" font-size=\"14.00\" fill=\"#000000\">samples = 5.0%</text>\n<text text-anchor=\"middle\" x=\"839\" y=\"-431.3\" font-family=\"Helvetica,sans-Serif\" font-size=\"14.00\" fill=\"#000000\">value = [0.381, 0.045, 0.574]</text>\n<text text-anchor=\"middle\" x=\"839\" y=\"-416.3\" font-family=\"Helvetica,sans-Serif\" font-size=\"14.00\" fill=\"#000000\">class = non functional</text>\n</g>\n<!-- 1&#45;&gt;11 -->\n<g id=\"edge11\" class=\"edge\">\n<title>1&#45;&gt;11</title>\n<path fill=\"none\" stroke=\"#000000\" d=\"M750.2217,-504.9465C765.3206,-493.0504 782.2324,-479.726 797.2122,-467.9237\"/>\n<polygon fill=\"#000000\" stroke=\"#000000\" points=\"799.623,-470.4802 805.3119,-461.5422 795.2909,-464.9817 799.623,-470.4802\"/>\n</g>\n<!-- 3 -->\n<g id=\"node4\" class=\"node\">\n<title>3</title>\n<path fill=\"#f4c7a8\" stroke=\"#000000\" d=\"M568.5,-365C568.5,-365 339.5,-365 339.5,-365 333.5,-365 327.5,-359 327.5,-353 327.5,-353 327.5,-309 327.5,-309 327.5,-303 333.5,-297 339.5,-297 339.5,-297 568.5,-297 568.5,-297 574.5,-297 580.5,-303 580.5,-309 580.5,-309 580.5,-353 580.5,-353 580.5,-359 574.5,-365 568.5,-365\"/>\n<text text-anchor=\"middle\" x=\"454\" y=\"-349.8\" font-family=\"Helvetica,sans-Serif\" font-size=\"14.00\" fill=\"#000000\">extraction_type_class_gravity &lt;= 0.5</text>\n<text text-anchor=\"middle\" x=\"454\" y=\"-334.8\" font-family=\"Helvetica,sans-Serif\" font-size=\"14.00\" fill=\"#000000\">samples = 73.8%</text>\n<text text-anchor=\"middle\" x=\"454\" y=\"-319.8\" font-family=\"Helvetica,sans-Serif\" font-size=\"14.00\" fill=\"#000000\">value = [0.611, 0.085, 0.304]</text>\n<text text-anchor=\"middle\" x=\"454\" y=\"-304.8\" font-family=\"Helvetica,sans-Serif\" font-size=\"14.00\" fill=\"#000000\">class = functional</text>\n</g>\n<!-- 2&#45;&gt;3 -->\n<g id=\"edge3\" class=\"edge\">\n<title>2&#45;&gt;3</title>\n<path fill=\"none\" stroke=\"#000000\" d=\"M536.0526,-400.9465C525.0988,-391.6088 513.1127,-381.3911 501.768,-371.7203\"/>\n<polygon fill=\"#000000\" stroke=\"#000000\" points=\"503.9179,-368.9538 494.0371,-365.13 499.3767,-374.2809 503.9179,-368.9538\"/>\n</g>\n<!-- 10 -->\n<g id=\"node11\" class=\"node\">\n<title>10</title>\n<path fill=\"#f9e4d5\" stroke=\"#000000\" d=\"M787,-357.5C787,-357.5 611,-357.5 611,-357.5 605,-357.5 599,-351.5 599,-345.5 599,-345.5 599,-316.5 599,-316.5 599,-310.5 605,-304.5 611,-304.5 611,-304.5 787,-304.5 787,-304.5 793,-304.5 799,-310.5 799,-316.5 799,-316.5 799,-345.5 799,-345.5 799,-351.5 793,-357.5 787,-357.5\"/>\n<text text-anchor=\"middle\" x=\"699\" y=\"-342.3\" font-family=\"Helvetica,sans-Serif\" font-size=\"14.00\" fill=\"#000000\">samples = 10.3%</text>\n<text text-anchor=\"middle\" x=\"699\" y=\"-327.3\" font-family=\"Helvetica,sans-Serif\" font-size=\"14.00\" fill=\"#000000\">value = [0.541, 0.042, 0.416]</text>\n<text text-anchor=\"middle\" x=\"699\" y=\"-312.3\" font-family=\"Helvetica,sans-Serif\" font-size=\"14.00\" fill=\"#000000\">class = functional</text>\n</g>\n<!-- 2&#45;&gt;10 -->\n<g id=\"edge10\" class=\"edge\">\n<title>2&#45;&gt;10</title>\n<path fill=\"none\" stroke=\"#000000\" d=\"M616.2748,-400.9465C630.2139,-389.1606 645.8112,-375.9726 659.6732,-364.2519\"/>\n<polygon fill=\"#000000\" stroke=\"#000000\" points=\"662.2324,-366.6715 667.6088,-357.5422 657.7127,-361.3262 662.2324,-366.6715\"/>\n</g>\n<!-- 4 -->\n<g id=\"node5\" class=\"node\">\n<title>4</title>\n<path fill=\"#f3c5a4\" stroke=\"#000000\" d=\"M458.5,-261C458.5,-261 181.5,-261 181.5,-261 175.5,-261 169.5,-255 169.5,-249 169.5,-249 169.5,-205 169.5,-205 169.5,-199 175.5,-193 181.5,-193 181.5,-193 458.5,-193 458.5,-193 464.5,-193 470.5,-199 470.5,-205 470.5,-205 470.5,-249 470.5,-249 470.5,-255 464.5,-261 458.5,-261\"/>\n<text text-anchor=\"middle\" x=\"320\" y=\"-245.8\" font-family=\"Helvetica,sans-Serif\" font-size=\"14.00\" fill=\"#000000\">extraction_type_class_wind&#45;powered &lt;= 0.5</text>\n<text text-anchor=\"middle\" x=\"320\" y=\"-230.8\" font-family=\"Helvetica,sans-Serif\" font-size=\"14.00\" fill=\"#000000\">samples = 28.7%</text>\n<text text-anchor=\"middle\" x=\"320\" y=\"-215.8\" font-family=\"Helvetica,sans-Serif\" font-size=\"14.00\" fill=\"#000000\">value = [0.629, 0.059, 0.311]</text>\n<text text-anchor=\"middle\" x=\"320\" y=\"-200.8\" font-family=\"Helvetica,sans-Serif\" font-size=\"14.00\" fill=\"#000000\">class = functional</text>\n</g>\n<!-- 3&#45;&gt;4 -->\n<g id=\"edge4\" class=\"edge\">\n<title>3&#45;&gt;4</title>\n<path fill=\"none\" stroke=\"#000000\" d=\"M410.1234,-296.9465C397.9765,-287.519 384.6738,-277.1946 372.1073,-267.4415\"/>\n<polygon fill=\"#000000\" stroke=\"#000000\" points=\"374.021,-264.4963 363.9752,-261.13 369.7291,-270.0262 374.021,-264.4963\"/>\n</g>\n<!-- 9 -->\n<g id=\"node10\" class=\"node\">\n<title>9</title>\n<path fill=\"#f4c9aa\" stroke=\"#000000\" d=\"M677,-253.5C677,-253.5 501,-253.5 501,-253.5 495,-253.5 489,-247.5 489,-241.5 489,-241.5 489,-212.5 489,-212.5 489,-206.5 495,-200.5 501,-200.5 501,-200.5 677,-200.5 677,-200.5 683,-200.5 689,-206.5 689,-212.5 689,-212.5 689,-241.5 689,-241.5 689,-247.5 683,-253.5 677,-253.5\"/>\n<text text-anchor=\"middle\" x=\"589\" y=\"-238.3\" font-family=\"Helvetica,sans-Serif\" font-size=\"14.00\" fill=\"#000000\">samples = 45.1%</text>\n<text text-anchor=\"middle\" x=\"589\" y=\"-223.3\" font-family=\"Helvetica,sans-Serif\" font-size=\"14.00\" fill=\"#000000\">value = [0.599, 0.101, 0.299]</text>\n<text text-anchor=\"middle\" x=\"589\" y=\"-208.3\" font-family=\"Helvetica,sans-Serif\" font-size=\"14.00\" fill=\"#000000\">class = functional</text>\n</g>\n<!-- 3&#45;&gt;9 -->\n<g id=\"edge9\" class=\"edge\">\n<title>3&#45;&gt;9</title>\n<path fill=\"none\" stroke=\"#000000\" d=\"M498.204,-296.9465C513.6461,-285.0504 530.9422,-271.726 546.2625,-259.9237\"/>\n<polygon fill=\"#000000\" stroke=\"#000000\" points=\"548.7603,-262.4176 554.5462,-253.5422 544.4883,-256.8723 548.7603,-262.4176\"/>\n</g>\n<!-- 5 -->\n<g id=\"node6\" class=\"node\">\n<title>5</title>\n<path fill=\"#f3c4a3\" stroke=\"#000000\" d=\"M319,-157C319,-157 63,-157 63,-157 57,-157 51,-151 51,-145 51,-145 51,-101 51,-101 51,-95 57,-89 63,-89 63,-89 319,-89 319,-89 325,-89 331,-95 331,-101 331,-101 331,-145 331,-145 331,-151 325,-157 319,-157\"/>\n<text text-anchor=\"middle\" x=\"191\" y=\"-141.8\" font-family=\"Helvetica,sans-Serif\" font-size=\"14.00\" fill=\"#000000\">extraction_type_class_rope pump &lt;= 0.5</text>\n<text text-anchor=\"middle\" x=\"191\" y=\"-126.8\" font-family=\"Helvetica,sans-Serif\" font-size=\"14.00\" fill=\"#000000\">samples = 28.5%</text>\n<text text-anchor=\"middle\" x=\"191\" y=\"-111.8\" font-family=\"Helvetica,sans-Serif\" font-size=\"14.00\" fill=\"#000000\">value = [0.631, 0.059, 0.31]</text>\n<text text-anchor=\"middle\" x=\"191\" y=\"-96.8\" font-family=\"Helvetica,sans-Serif\" font-size=\"14.00\" fill=\"#000000\">class = functional</text>\n</g>\n<!-- 4&#45;&gt;5 -->\n<g id=\"edge5\" class=\"edge\">\n<title>4&#45;&gt;5</title>\n<path fill=\"none\" stroke=\"#000000\" d=\"M277.7606,-192.9465C266.0669,-183.519 253.2606,-173.1946 241.163,-163.4415\"/>\n<polygon fill=\"#000000\" stroke=\"#000000\" points=\"243.3162,-160.6816 233.3343,-157.13 238.9227,-166.1312 243.3162,-160.6816\"/>\n</g>\n<!-- 8 -->\n<g id=\"node9\" class=\"node\">\n<title>8</title>\n<path fill=\"#f8f3fd\" stroke=\"#000000\" d=\"M537,-149.5C537,-149.5 361,-149.5 361,-149.5 355,-149.5 349,-143.5 349,-137.5 349,-137.5 349,-108.5 349,-108.5 349,-102.5 355,-96.5 361,-96.5 361,-96.5 537,-96.5 537,-96.5 543,-96.5 549,-102.5 549,-108.5 549,-108.5 549,-137.5 549,-137.5 549,-143.5 543,-149.5 537,-149.5\"/>\n<text text-anchor=\"middle\" x=\"449\" y=\"-134.3\" font-family=\"Helvetica,sans-Serif\" font-size=\"14.00\" fill=\"#000000\">samples = 0.2%</text>\n<text text-anchor=\"middle\" x=\"449\" y=\"-119.3\" font-family=\"Helvetica,sans-Serif\" font-size=\"14.00\" fill=\"#000000\">value = [0.452, 0.065, 0.484]</text>\n<text text-anchor=\"middle\" x=\"449\" y=\"-104.3\" font-family=\"Helvetica,sans-Serif\" font-size=\"14.00\" fill=\"#000000\">class = non functional</text>\n</g>\n<!-- 4&#45;&gt;8 -->\n<g id=\"edge8\" class=\"edge\">\n<title>4&#45;&gt;8</title>\n<path fill=\"none\" stroke=\"#000000\" d=\"M362.2394,-192.9465C376.9952,-181.0504 393.5225,-167.726 408.162,-155.9237\"/>\n<polygon fill=\"#000000\" stroke=\"#000000\" points=\"410.4891,-158.5433 416.0775,-149.5422 406.0957,-153.0938 410.4891,-158.5433\"/>\n</g>\n<!-- 6 -->\n<g id=\"node7\" class=\"node\">\n<title>6</title>\n<path fill=\"#f3c5a3\" stroke=\"#000000\" d=\"M164,-53C164,-53 12,-53 12,-53 6,-53 0,-47 0,-41 0,-41 0,-12 0,-12 0,-6 6,0 12,0 12,0 164,0 164,0 170,0 176,-6 176,-12 176,-12 176,-41 176,-41 176,-47 170,-53 164,-53\"/>\n<text text-anchor=\"middle\" x=\"88\" y=\"-37.8\" font-family=\"Helvetica,sans-Serif\" font-size=\"14.00\" fill=\"#000000\">samples = 27.7%</text>\n<text text-anchor=\"middle\" x=\"88\" y=\"-22.8\" font-family=\"Helvetica,sans-Serif\" font-size=\"14.00\" fill=\"#000000\">value = [0.63, 0.06, 0.31]</text>\n<text text-anchor=\"middle\" x=\"88\" y=\"-7.8\" font-family=\"Helvetica,sans-Serif\" font-size=\"14.00\" fill=\"#000000\">class = functional</text>\n</g>\n<!-- 5&#45;&gt;6 -->\n<g id=\"edge6\" class=\"edge\">\n<title>5&#45;&gt;6</title>\n<path fill=\"none\" stroke=\"#000000\" d=\"M154.6861,-88.9777C144.7168,-79.6376 133.9138,-69.5163 123.9643,-60.1947\"/>\n<polygon fill=\"#000000\" stroke=\"#000000\" points=\"126.2408,-57.5314 116.5502,-53.2485 121.4548,-62.6397 126.2408,-57.5314\"/>\n</g>\n<!-- 7 -->\n<g id=\"node8\" class=\"node\">\n<title>7</title>\n<path fill=\"#f2bf9b\" stroke=\"#000000\" d=\"M382,-53C382,-53 206,-53 206,-53 200,-53 194,-47 194,-41 194,-41 194,-12 194,-12 194,-6 200,0 206,0 206,0 382,0 382,0 388,0 394,-6 394,-12 394,-12 394,-41 394,-41 394,-47 388,-53 382,-53\"/>\n<text text-anchor=\"middle\" x=\"294\" y=\"-37.8\" font-family=\"Helvetica,sans-Serif\" font-size=\"14.00\" fill=\"#000000\">samples = 0.7%</text>\n<text text-anchor=\"middle\" x=\"294\" y=\"-22.8\" font-family=\"Helvetica,sans-Serif\" font-size=\"14.00\" fill=\"#000000\">value = [0.657, 0.037, 0.306]</text>\n<text text-anchor=\"middle\" x=\"294\" y=\"-7.8\" font-family=\"Helvetica,sans-Serif\" font-size=\"14.00\" fill=\"#000000\">class = functional</text>\n</g>\n<!-- 5&#45;&gt;7 -->\n<g id=\"edge7\" class=\"edge\">\n<title>5&#45;&gt;7</title>\n<path fill=\"none\" stroke=\"#000000\" d=\"M227.3139,-88.9777C237.2832,-79.6376 248.0862,-69.5163 258.0357,-60.1947\"/>\n<polygon fill=\"#000000\" stroke=\"#000000\" points=\"260.5452,-62.6397 265.4498,-53.2485 255.7592,-57.5314 260.5452,-62.6397\"/>\n</g>\n</g>\n</svg>\n"
          },
          "metadata": {
            "tags": []
          }
        }
      ]
    },
    {
      "cell_type": "markdown",
      "metadata": {
        "colab_type": "text",
        "id": "QUd6gzcZgLVz"
      },
      "source": [
        "### [Ordinal Encoding](https://contrib.scikit-learn.org/category_encoders/ordinal.html)\n",
        "\n",
        "> Ordinal encoding uses a single column of integers to represent the classes. An optional mapping dict can be passed in; in this case, we use the knowledge that there is some true order to the classes themselves. Otherwise, the classes are assumed to have no true order and integers are selected at random."
      ]
    },
    {
      "cell_type": "code",
      "metadata": {
        "colab_type": "code",
        "id": "CnBz2RbwgLVz",
        "colab": {
          "base_uri": "https://localhost:8080/",
          "height": 686
        },
        "outputId": "be31deb3-24ac-4487-add8-be0cf66671bf"
      },
      "source": [
        "encoder = ce.OrdinalEncoder()\n",
        "encoded = encoder.fit_transform(X_train[[feature]])\n",
        "print(f'1 column, {encoded[feature].nunique()} unique values')\n",
        "encoded.head(20)"
      ],
      "execution_count": 64,
      "outputs": [
        {
          "output_type": "stream",
          "text": [
            "1 column, 7 unique values\n"
          ],
          "name": "stdout"
        },
        {
          "output_type": "execute_result",
          "data": {
            "text/html": [
              "<div>\n",
              "<style scoped>\n",
              "    .dataframe tbody tr th:only-of-type {\n",
              "        vertical-align: middle;\n",
              "    }\n",
              "\n",
              "    .dataframe tbody tr th {\n",
              "        vertical-align: top;\n",
              "    }\n",
              "\n",
              "    .dataframe thead th {\n",
              "        text-align: right;\n",
              "    }\n",
              "</style>\n",
              "<table border=\"1\" class=\"dataframe\">\n",
              "  <thead>\n",
              "    <tr style=\"text-align: right;\">\n",
              "      <th></th>\n",
              "      <th>extraction_type_class</th>\n",
              "    </tr>\n",
              "  </thead>\n",
              "  <tbody>\n",
              "    <tr>\n",
              "      <th>43360</th>\n",
              "      <td>1</td>\n",
              "    </tr>\n",
              "    <tr>\n",
              "      <th>7263</th>\n",
              "      <td>1</td>\n",
              "    </tr>\n",
              "    <tr>\n",
              "      <th>2486</th>\n",
              "      <td>2</td>\n",
              "    </tr>\n",
              "    <tr>\n",
              "      <th>313</th>\n",
              "      <td>3</td>\n",
              "    </tr>\n",
              "    <tr>\n",
              "      <th>52726</th>\n",
              "      <td>4</td>\n",
              "    </tr>\n",
              "    <tr>\n",
              "      <th>8558</th>\n",
              "      <td>1</td>\n",
              "    </tr>\n",
              "    <tr>\n",
              "      <th>2559</th>\n",
              "      <td>1</td>\n",
              "    </tr>\n",
              "    <tr>\n",
              "      <th>54735</th>\n",
              "      <td>4</td>\n",
              "    </tr>\n",
              "    <tr>\n",
              "      <th>25763</th>\n",
              "      <td>2</td>\n",
              "    </tr>\n",
              "    <tr>\n",
              "      <th>44540</th>\n",
              "      <td>5</td>\n",
              "    </tr>\n",
              "    <tr>\n",
              "      <th>28603</th>\n",
              "      <td>3</td>\n",
              "    </tr>\n",
              "    <tr>\n",
              "      <th>4372</th>\n",
              "      <td>5</td>\n",
              "    </tr>\n",
              "    <tr>\n",
              "      <th>30666</th>\n",
              "      <td>1</td>\n",
              "    </tr>\n",
              "    <tr>\n",
              "      <th>6431</th>\n",
              "      <td>5</td>\n",
              "    </tr>\n",
              "    <tr>\n",
              "      <th>57420</th>\n",
              "      <td>3</td>\n",
              "    </tr>\n",
              "    <tr>\n",
              "      <th>1373</th>\n",
              "      <td>1</td>\n",
              "    </tr>\n",
              "    <tr>\n",
              "      <th>2026</th>\n",
              "      <td>1</td>\n",
              "    </tr>\n",
              "    <tr>\n",
              "      <th>58977</th>\n",
              "      <td>2</td>\n",
              "    </tr>\n",
              "    <tr>\n",
              "      <th>41101</th>\n",
              "      <td>1</td>\n",
              "    </tr>\n",
              "    <tr>\n",
              "      <th>10019</th>\n",
              "      <td>1</td>\n",
              "    </tr>\n",
              "  </tbody>\n",
              "</table>\n",
              "</div>"
            ],
            "text/plain": [
              "       extraction_type_class\n",
              "43360                      1\n",
              "7263                       1\n",
              "2486                       2\n",
              "313                        3\n",
              "52726                      4\n",
              "8558                       1\n",
              "2559                       1\n",
              "54735                      4\n",
              "25763                      2\n",
              "44540                      5\n",
              "28603                      3\n",
              "4372                       5\n",
              "30666                      1\n",
              "6431                       5\n",
              "57420                      3\n",
              "1373                       1\n",
              "2026                       1\n",
              "58977                      2\n",
              "41101                      1\n",
              "10019                      1"
            ]
          },
          "metadata": {
            "tags": []
          },
          "execution_count": 64
        }
      ]
    },
    {
      "cell_type": "code",
      "metadata": {
        "id": "U9Hq2N1aX7Cg",
        "colab_type": "code",
        "colab": {}
      },
      "source": [
        "# replacing strings with integers, for extraction type class\n",
        "# 0-5 represent the different types"
      ],
      "execution_count": 0,
      "outputs": []
    },
    {
      "cell_type": "markdown",
      "metadata": {
        "colab_type": "text",
        "id": "Nd-ZWprasqUM"
      },
      "source": [
        "#### Ordinal Encoding, Logistic Regression, Validation Accuracy"
      ]
    },
    {
      "cell_type": "code",
      "metadata": {
        "colab_type": "code",
        "id": "GJ1YpwjvrhfL",
        "colab": {
          "base_uri": "https://localhost:8080/",
          "height": 35
        },
        "outputId": "50f10bdd-9921-4798-9a77-33ca9ae3e6a9"
      },
      "source": [
        "lr = make_pipeline(\n",
        "    ce.OrdinalEncoder(), \n",
        "    SimpleImputer(), \n",
        "    StandardScaler(), \n",
        "    LogisticRegressionCV(multi_class='auto', solver='lbfgs', cv=5, n_jobs=-1)\n",
        ")\n",
        "\n",
        "lr.fit(X_train[[feature]], y_train)\n",
        "score = lr.score(X_val[[feature]], y_val)\n",
        "print('Logistic Regression, Validation Accuracy', score)"
      ],
      "execution_count": 55,
      "outputs": [
        {
          "output_type": "stream",
          "text": [
            "Logistic Regression, Validation Accuracy 0.5417508417508418\n"
          ],
          "name": "stdout"
        }
      ]
    },
    {
      "cell_type": "markdown",
      "metadata": {
        "colab_type": "text",
        "id": "9lO_R3SksuHs"
      },
      "source": [
        "#### Ordinal Encoding, Decision Tree, Validation Accuracy"
      ]
    },
    {
      "cell_type": "code",
      "metadata": {
        "colab_type": "code",
        "id": "aOELD_roriVI",
        "colab": {
          "base_uri": "https://localhost:8080/",
          "height": 35
        },
        "outputId": "3fd74fff-4c36-4bb4-8b0b-c27aab0f4e23"
      },
      "source": [
        "dt = make_pipeline(\n",
        "    ce.OrdinalEncoder(), \n",
        "    SimpleImputer(), \n",
        "    DecisionTreeClassifier(random_state=42)\n",
        ")\n",
        "\n",
        "dt.fit(X_train[[feature]], y_train)\n",
        "score = dt.score(X_val[[feature]], y_val)\n",
        "print('Decision Tree, Validation Accuracy', score)"
      ],
      "execution_count": 56,
      "outputs": [
        {
          "output_type": "stream",
          "text": [
            "Decision Tree, Validation Accuracy 0.6202861952861953\n"
          ],
          "name": "stdout"
        }
      ]
    },
    {
      "cell_type": "markdown",
      "metadata": {
        "colab_type": "text",
        "id": "7V2zHjiwswTg"
      },
      "source": [
        "#### Ordinal Encoding, Logistic Regression, Model Interpretation"
      ]
    },
    {
      "cell_type": "code",
      "metadata": {
        "colab_type": "code",
        "id": "S9UPYPois8QR",
        "colab": {
          "base_uri": "https://localhost:8080/",
          "height": 265
        },
        "outputId": "ce96c778-bd21-4883-d82c-46730c7736b9"
      },
      "source": [
        "model = lr.named_steps['logisticregressioncv']\n",
        "encoder = lr.named_steps['ordinalencoder']\n",
        "encoded_columns = encoder.transform(X_val[[feature]]).columns\n",
        "coefficients = pd.Series(model.coef_[0], encoded_columns)\n",
        "coefficients.sort_values().plot.barh(color='grey');"
      ],
      "execution_count": 57,
      "outputs": [
        {
          "output_type": "display_data",
          "data": {
            "image/png": "[encoded data removed]",
            "text/plain": [
              "<Figure size 432x288 with 1 Axes>"
            ]
          },
          "metadata": {
            "tags": [],
            "needs_background": "light"
          }
        }
      ]
    },
    {
      "cell_type": "markdown",
      "metadata": {
        "colab_type": "text",
        "id": "MvmmvE8fsymh"
      },
      "source": [
        "#### Ordinal Encoding, Decision Tree, Model Interpretation"
      ]
    },
    {
      "cell_type": "code",
      "metadata": {
        "colab_type": "code",
        "id": "jCvUu4Oms88b",
        "colab": {
          "base_uri": "https://localhost:8080/",
          "height": 816
        },
        "outputId": "94df8767-f320-49e7-bb22-7162e1161adf"
      },
      "source": [
        "model = dt.named_steps['decisiontreeclassifier']\n",
        "encoder = dt.named_steps['ordinalencoder']\n",
        "encoded_columns = encoder.transform(X_val[[feature]]).columns\n",
        "\n",
        "dot_data = export_graphviz(model, \n",
        "                           out_file=None, \n",
        "                           max_depth=5, \n",
        "                           feature_names=encoded_columns,\n",
        "                           class_names=model.classes_, \n",
        "                           impurity=False, \n",
        "                           filled=True, \n",
        "                           proportion=True, \n",
        "                           rounded=True)   \n",
        "display(graphviz.Source(dot_data))"
      ],
      "execution_count": 58,
      "outputs": [
        {
          "output_type": "display_data",
          "data": {
            "text/plain": [
              "<graphviz.files.Source at 0x7f0dbfbac4a8>"
            ],
            "image/svg+xml": "<?xml version=\"1.0\" encoding=\"UTF-8\" standalone=\"no\"?>\n<!DOCTYPE svg PUBLIC \"-//W3C//DTD SVG 1.1//EN\"\n \"http://www.w3.org/Graphics/SVG/1.1/DTD/svg11.dtd\">\n<!-- Generated by graphviz version 2.40.1 (20161225.0304)\n -->\n<!-- Title: Tree Pages: 1 -->\n<svg width=\"1167pt\" height=\"581pt\"\n viewBox=\"0.00 0.00 1167.00 581.00\" xmlns=\"http://www.w3.org/2000/svg\" xmlns:xlink=\"http://www.w3.org/1999/xlink\">\n<g id=\"graph0\" class=\"graph\" transform=\"scale(1 1) rotate(0) translate(4 577)\">\n<title>Tree</title>\n<polygon fill=\"#ffffff\" stroke=\"transparent\" points=\"-4,4 -4,-577 1163,-577 1163,4 -4,4\"/>\n<!-- 0 -->\n<g id=\"node1\" class=\"node\">\n<title>0</title>\n<path fill=\"#f8decc\" stroke=\"#000000\" d=\"M500,-573C500,-573 322,-573 322,-573 316,-573 310,-567 310,-561 310,-561 310,-517 310,-517 310,-511 316,-505 322,-505 322,-505 500,-505 500,-505 506,-505 512,-511 512,-517 512,-517 512,-561 512,-561 512,-567 506,-573 500,-573\"/>\n<text text-anchor=\"middle\" x=\"411\" y=\"-557.8\" font-family=\"Helvetica,sans-Serif\" font-size=\"14.00\" fill=\"#000000\">extraction_type_class &lt;= 2.5</text>\n<text text-anchor=\"middle\" x=\"411\" y=\"-542.8\" font-family=\"Helvetica,sans-Serif\" font-size=\"14.00\" fill=\"#000000\">samples = 100.0%</text>\n<text text-anchor=\"middle\" x=\"411\" y=\"-527.8\" font-family=\"Helvetica,sans-Serif\" font-size=\"14.00\" fill=\"#000000\">value = [0.543, 0.073, 0.384]</text>\n<text text-anchor=\"middle\" x=\"411\" y=\"-512.8\" font-family=\"Helvetica,sans-Serif\" font-size=\"14.00\" fill=\"#000000\">class = functional</text>\n</g>\n<!-- 1 -->\n<g id=\"node2\" class=\"node\">\n<title>1</title>\n<path fill=\"#f4c7a8\" stroke=\"#000000\" d=\"M390,-469C390,-469 212,-469 212,-469 206,-469 200,-463 200,-457 200,-457 200,-413 200,-413 200,-407 206,-401 212,-401 212,-401 390,-401 390,-401 396,-401 402,-407 402,-413 402,-413 402,-457 402,-457 402,-463 396,-469 390,-469\"/>\n<text text-anchor=\"middle\" x=\"301\" y=\"-453.8\" font-family=\"Helvetica,sans-Serif\" font-size=\"14.00\" fill=\"#000000\">extraction_type_class &lt;= 1.5</text>\n<text text-anchor=\"middle\" x=\"301\" y=\"-438.8\" font-family=\"Helvetica,sans-Serif\" font-size=\"14.00\" fill=\"#000000\">samples = 72.9%</text>\n<text text-anchor=\"middle\" x=\"301\" y=\"-423.8\" font-family=\"Helvetica,sans-Serif\" font-size=\"14.00\" fill=\"#000000\">value = [0.611, 0.085, 0.304]</text>\n<text text-anchor=\"middle\" x=\"301\" y=\"-408.8\" font-family=\"Helvetica,sans-Serif\" font-size=\"14.00\" fill=\"#000000\">class = functional</text>\n</g>\n<!-- 0&#45;&gt;1 -->\n<g id=\"edge1\" class=\"edge\">\n<title>0&#45;&gt;1</title>\n<path fill=\"none\" stroke=\"#000000\" d=\"M374.9819,-504.9465C365.2954,-495.7884 354.7136,-485.7838 344.6603,-476.2788\"/>\n<polygon fill=\"#000000\" stroke=\"#000000\" points=\"346.7701,-473.4569 337.099,-469.13 341.961,-478.5434 346.7701,-473.4569\"/>\n<text text-anchor=\"middle\" x=\"337.7997\" y=\"-490.4202\" font-family=\"Helvetica,sans-Serif\" font-size=\"14.00\" fill=\"#000000\">True</text>\n</g>\n<!-- 4 -->\n<g id=\"node5\" class=\"node\">\n<title>4</title>\n<path fill=\"#d0b4f5\" stroke=\"#000000\" d=\"M610,-469C610,-469 432,-469 432,-469 426,-469 420,-463 420,-457 420,-457 420,-413 420,-413 420,-407 426,-401 432,-401 432,-401 610,-401 610,-401 616,-401 622,-407 622,-413 622,-413 622,-457 622,-457 622,-463 616,-469 610,-469\"/>\n<text text-anchor=\"middle\" x=\"521\" y=\"-453.8\" font-family=\"Helvetica,sans-Serif\" font-size=\"14.00\" fill=\"#000000\">extraction_type_class &lt;= 3.5</text>\n<text text-anchor=\"middle\" x=\"521\" y=\"-438.8\" font-family=\"Helvetica,sans-Serif\" font-size=\"14.00\" fill=\"#000000\">samples = 27.1%</text>\n<text text-anchor=\"middle\" x=\"521\" y=\"-423.8\" font-family=\"Helvetica,sans-Serif\" font-size=\"14.00\" fill=\"#000000\">value = [0.361, 0.038, 0.601]</text>\n<text text-anchor=\"middle\" x=\"521\" y=\"-408.8\" font-family=\"Helvetica,sans-Serif\" font-size=\"14.00\" fill=\"#000000\">class = non functional</text>\n</g>\n<!-- 0&#45;&gt;4 -->\n<g id=\"edge4\" class=\"edge\">\n<title>0&#45;&gt;4</title>\n<path fill=\"none\" stroke=\"#000000\" d=\"M447.0181,-504.9465C456.7046,-495.7884 467.2864,-485.7838 477.3397,-476.2788\"/>\n<polygon fill=\"#000000\" stroke=\"#000000\" points=\"480.039,-478.5434 484.901,-469.13 475.2299,-473.4569 480.039,-478.5434\"/>\n<text text-anchor=\"middle\" x=\"484.2003\" y=\"-490.4202\" font-family=\"Helvetica,sans-Serif\" font-size=\"14.00\" fill=\"#000000\">False</text>\n</g>\n<!-- 2 -->\n<g id=\"node3\" class=\"node\">\n<title>2</title>\n<path fill=\"#f4c9aa\" stroke=\"#000000\" d=\"M188,-357.5C188,-357.5 12,-357.5 12,-357.5 6,-357.5 0,-351.5 0,-345.5 0,-345.5 0,-316.5 0,-316.5 0,-310.5 6,-304.5 12,-304.5 12,-304.5 188,-304.5 188,-304.5 194,-304.5 200,-310.5 200,-316.5 200,-316.5 200,-345.5 200,-345.5 200,-351.5 194,-357.5 188,-357.5\"/>\n<text text-anchor=\"middle\" x=\"100\" y=\"-342.3\" font-family=\"Helvetica,sans-Serif\" font-size=\"14.00\" fill=\"#000000\">samples = 45.1%</text>\n<text text-anchor=\"middle\" x=\"100\" y=\"-327.3\" font-family=\"Helvetica,sans-Serif\" font-size=\"14.00\" fill=\"#000000\">value = [0.599, 0.101, 0.299]</text>\n<text text-anchor=\"middle\" x=\"100\" y=\"-312.3\" font-family=\"Helvetica,sans-Serif\" font-size=\"14.00\" fill=\"#000000\">class = functional</text>\n</g>\n<!-- 1&#45;&gt;2 -->\n<g id=\"edge2\" class=\"edge\">\n<title>1&#45;&gt;2</title>\n<path fill=\"none\" stroke=\"#000000\" d=\"M235.1851,-400.9465C211.1292,-388.4997 184.0513,-374.4892 160.4827,-362.2946\"/>\n<polygon fill=\"#000000\" stroke=\"#000000\" points=\"161.7878,-359.0291 151.2978,-357.5422 158.571,-365.2462 161.7878,-359.0291\"/>\n</g>\n<!-- 3 -->\n<g id=\"node4\" class=\"node\">\n<title>3</title>\n<path fill=\"#f3c5a3\" stroke=\"#000000\" d=\"M382,-357.5C382,-357.5 230,-357.5 230,-357.5 224,-357.5 218,-351.5 218,-345.5 218,-345.5 218,-316.5 218,-316.5 218,-310.5 224,-304.5 230,-304.5 230,-304.5 382,-304.5 382,-304.5 388,-304.5 394,-310.5 394,-316.5 394,-316.5 394,-345.5 394,-345.5 394,-351.5 388,-357.5 382,-357.5\"/>\n<text text-anchor=\"middle\" x=\"306\" y=\"-342.3\" font-family=\"Helvetica,sans-Serif\" font-size=\"14.00\" fill=\"#000000\">samples = 27.7%</text>\n<text text-anchor=\"middle\" x=\"306\" y=\"-327.3\" font-family=\"Helvetica,sans-Serif\" font-size=\"14.00\" fill=\"#000000\">value = [0.63, 0.06, 0.31]</text>\n<text text-anchor=\"middle\" x=\"306\" y=\"-312.3\" font-family=\"Helvetica,sans-Serif\" font-size=\"14.00\" fill=\"#000000\">class = functional</text>\n</g>\n<!-- 1&#45;&gt;3 -->\n<g id=\"edge3\" class=\"edge\">\n<title>1&#45;&gt;3</title>\n<path fill=\"none\" stroke=\"#000000\" d=\"M302.6372,-400.9465C303.1509,-390.2621 303.7199,-378.4254 304.2416,-367.5742\"/>\n<polygon fill=\"#000000\" stroke=\"#000000\" points=\"307.7396,-367.6987 304.7239,-357.5422 300.7477,-367.3625 307.7396,-367.6987\"/>\n</g>\n<!-- 5 -->\n<g id=\"node6\" class=\"node\">\n<title>5</title>\n<path fill=\"#9d66eb\" stroke=\"#000000\" d=\"M601,-357.5C601,-357.5 433,-357.5 433,-357.5 427,-357.5 421,-351.5 421,-345.5 421,-345.5 421,-316.5 421,-316.5 421,-310.5 427,-304.5 433,-304.5 433,-304.5 601,-304.5 601,-304.5 607,-304.5 613,-310.5 613,-316.5 613,-316.5 613,-345.5 613,-345.5 613,-351.5 607,-357.5 601,-357.5\"/>\n<text text-anchor=\"middle\" x=\"517\" y=\"-342.3\" font-family=\"Helvetica,sans-Serif\" font-size=\"14.00\" fill=\"#000000\">samples = 10.9%</text>\n<text text-anchor=\"middle\" x=\"517\" y=\"-327.3\" font-family=\"Helvetica,sans-Serif\" font-size=\"14.00\" fill=\"#000000\">value = [0.159, 0.031, 0.81]</text>\n<text text-anchor=\"middle\" x=\"517\" y=\"-312.3\" font-family=\"Helvetica,sans-Serif\" font-size=\"14.00\" fill=\"#000000\">class = non functional</text>\n</g>\n<!-- 4&#45;&gt;5 -->\n<g id=\"edge5\" class=\"edge\">\n<title>4&#45;&gt;5</title>\n<path fill=\"none\" stroke=\"#000000\" d=\"M519.6903,-400.9465C519.2793,-390.2621 518.8241,-378.4254 518.4067,-367.5742\"/>\n<polygon fill=\"#000000\" stroke=\"#000000\" points=\"521.9027,-367.4002 518.0209,-357.5422 514.9079,-367.6693 521.9027,-367.4002\"/>\n</g>\n<!-- 6 -->\n<g id=\"node7\" class=\"node\">\n<title>6</title>\n<path fill=\"#fdf7f2\" stroke=\"#000000\" d=\"M821,-365C821,-365 643,-365 643,-365 637,-365 631,-359 631,-353 631,-353 631,-309 631,-309 631,-303 637,-297 643,-297 643,-297 821,-297 821,-297 827,-297 833,-303 833,-309 833,-309 833,-353 833,-353 833,-359 827,-365 821,-365\"/>\n<text text-anchor=\"middle\" x=\"732\" y=\"-349.8\" font-family=\"Helvetica,sans-Serif\" font-size=\"14.00\" fill=\"#000000\">extraction_type_class &lt;= 4.5</text>\n<text text-anchor=\"middle\" x=\"732\" y=\"-334.8\" font-family=\"Helvetica,sans-Serif\" font-size=\"14.00\" fill=\"#000000\">samples = 16.2%</text>\n<text text-anchor=\"middle\" x=\"732\" y=\"-319.8\" font-family=\"Helvetica,sans-Serif\" font-size=\"14.00\" fill=\"#000000\">value = [0.497, 0.043, 0.46]</text>\n<text text-anchor=\"middle\" x=\"732\" y=\"-304.8\" font-family=\"Helvetica,sans-Serif\" font-size=\"14.00\" fill=\"#000000\">class = functional</text>\n</g>\n<!-- 4&#45;&gt;6 -->\n<g id=\"edge6\" class=\"edge\">\n<title>4&#45;&gt;6</title>\n<path fill=\"none\" stroke=\"#000000\" d=\"M590.0893,-400.9465C610.4002,-390.9354 632.7633,-379.9129 653.6112,-369.6371\"/>\n<polygon fill=\"#000000\" stroke=\"#000000\" points=\"655.3332,-372.6905 662.7555,-365.13 652.2385,-366.4117 655.3332,-372.6905\"/>\n</g>\n<!-- 7 -->\n<g id=\"node8\" class=\"node\">\n<title>7</title>\n<path fill=\"#d8c1f7\" stroke=\"#000000\" d=\"M710,-253.5C710,-253.5 534,-253.5 534,-253.5 528,-253.5 522,-247.5 522,-241.5 522,-241.5 522,-212.5 522,-212.5 522,-206.5 528,-200.5 534,-200.5 534,-200.5 710,-200.5 710,-200.5 716,-200.5 722,-206.5 722,-212.5 722,-212.5 722,-241.5 722,-241.5 722,-247.5 716,-253.5 710,-253.5\"/>\n<text text-anchor=\"middle\" x=\"622\" y=\"-238.3\" font-family=\"Helvetica,sans-Serif\" font-size=\"14.00\" fill=\"#000000\">samples = 5.0%</text>\n<text text-anchor=\"middle\" x=\"622\" y=\"-223.3\" font-family=\"Helvetica,sans-Serif\" font-size=\"14.00\" fill=\"#000000\">value = [0.381, 0.045, 0.574]</text>\n<text text-anchor=\"middle\" x=\"622\" y=\"-208.3\" font-family=\"Helvetica,sans-Serif\" font-size=\"14.00\" fill=\"#000000\">class = non functional</text>\n</g>\n<!-- 6&#45;&gt;7 -->\n<g id=\"edge7\" class=\"edge\">\n<title>6&#45;&gt;7</title>\n<path fill=\"none\" stroke=\"#000000\" d=\"M695.9819,-296.9465C683.6325,-285.2707 669.8278,-272.219 657.5183,-260.5809\"/>\n<polygon fill=\"#000000\" stroke=\"#000000\" points=\"659.7445,-257.869 650.0734,-253.5422 654.9354,-262.9556 659.7445,-257.869\"/>\n</g>\n<!-- 8 -->\n<g id=\"node9\" class=\"node\">\n<title>8</title>\n<path fill=\"#f9e2d1\" stroke=\"#000000\" d=\"M930,-261C930,-261 752,-261 752,-261 746,-261 740,-255 740,-249 740,-249 740,-205 740,-205 740,-199 746,-193 752,-193 752,-193 930,-193 930,-193 936,-193 942,-199 942,-205 942,-205 942,-249 942,-249 942,-255 936,-261 930,-261\"/>\n<text text-anchor=\"middle\" x=\"841\" y=\"-245.8\" font-family=\"Helvetica,sans-Serif\" font-size=\"14.00\" fill=\"#000000\">extraction_type_class &lt;= 5.5</text>\n<text text-anchor=\"middle\" x=\"841\" y=\"-230.8\" font-family=\"Helvetica,sans-Serif\" font-size=\"14.00\" fill=\"#000000\">samples = 11.2%</text>\n<text text-anchor=\"middle\" x=\"841\" y=\"-215.8\" font-family=\"Helvetica,sans-Serif\" font-size=\"14.00\" fill=\"#000000\">value = [0.548, 0.042, 0.41]</text>\n<text text-anchor=\"middle\" x=\"841\" y=\"-200.8\" font-family=\"Helvetica,sans-Serif\" font-size=\"14.00\" fill=\"#000000\">class = functional</text>\n</g>\n<!-- 6&#45;&gt;8 -->\n<g id=\"edge8\" class=\"edge\">\n<title>6&#45;&gt;8</title>\n<path fill=\"none\" stroke=\"#000000\" d=\"M767.6907,-296.9465C777.2891,-287.7884 787.7747,-277.7838 797.7366,-268.2788\"/>\n<polygon fill=\"#000000\" stroke=\"#000000\" points=\"800.4102,-270.5655 805.2291,-261.13 795.5779,-265.5009 800.4102,-270.5655\"/>\n</g>\n<!-- 9 -->\n<g id=\"node10\" class=\"node\">\n<title>9</title>\n<path fill=\"#f9e4d5\" stroke=\"#000000\" d=\"M819,-149.5C819,-149.5 643,-149.5 643,-149.5 637,-149.5 631,-143.5 631,-137.5 631,-137.5 631,-108.5 631,-108.5 631,-102.5 637,-96.5 643,-96.5 643,-96.5 819,-96.5 819,-96.5 825,-96.5 831,-102.5 831,-108.5 831,-108.5 831,-137.5 831,-137.5 831,-143.5 825,-149.5 819,-149.5\"/>\n<text text-anchor=\"middle\" x=\"731\" y=\"-134.3\" font-family=\"Helvetica,sans-Serif\" font-size=\"14.00\" fill=\"#000000\">samples = 10.3%</text>\n<text text-anchor=\"middle\" x=\"731\" y=\"-119.3\" font-family=\"Helvetica,sans-Serif\" font-size=\"14.00\" fill=\"#000000\">value = [0.541, 0.042, 0.416]</text>\n<text text-anchor=\"middle\" x=\"731\" y=\"-104.3\" font-family=\"Helvetica,sans-Serif\" font-size=\"14.00\" fill=\"#000000\">class = functional</text>\n</g>\n<!-- 8&#45;&gt;9 -->\n<g id=\"edge9\" class=\"edge\">\n<title>8&#45;&gt;9</title>\n<path fill=\"none\" stroke=\"#000000\" d=\"M804.9819,-192.9465C792.6325,-181.2707 778.8278,-168.219 766.5183,-156.5809\"/>\n<polygon fill=\"#000000\" stroke=\"#000000\" points=\"768.7445,-153.869 759.0734,-149.5422 763.9354,-158.9556 768.7445,-153.869\"/>\n</g>\n<!-- 10 -->\n<g id=\"node11\" class=\"node\">\n<title>10</title>\n<path fill=\"#f4cbad\" stroke=\"#000000\" d=\"M1039,-157C1039,-157 861,-157 861,-157 855,-157 849,-151 849,-145 849,-145 849,-101 849,-101 849,-95 855,-89 861,-89 861,-89 1039,-89 1039,-89 1045,-89 1051,-95 1051,-101 1051,-101 1051,-145 1051,-145 1051,-151 1045,-157 1039,-157\"/>\n<text text-anchor=\"middle\" x=\"950\" y=\"-141.8\" font-family=\"Helvetica,sans-Serif\" font-size=\"14.00\" fill=\"#000000\">extraction_type_class &lt;= 6.5</text>\n<text text-anchor=\"middle\" x=\"950\" y=\"-126.8\" font-family=\"Helvetica,sans-Serif\" font-size=\"14.00\" fill=\"#000000\">samples = 0.9%</text>\n<text text-anchor=\"middle\" x=\"950\" y=\"-111.8\" font-family=\"Helvetica,sans-Serif\" font-size=\"14.00\" fill=\"#000000\">value = [0.614, 0.043, 0.343]</text>\n<text text-anchor=\"middle\" x=\"950\" y=\"-96.8\" font-family=\"Helvetica,sans-Serif\" font-size=\"14.00\" fill=\"#000000\">class = functional</text>\n</g>\n<!-- 8&#45;&gt;10 -->\n<g id=\"edge10\" class=\"edge\">\n<title>8&#45;&gt;10</title>\n<path fill=\"none\" stroke=\"#000000\" d=\"M876.6907,-192.9465C886.2891,-183.7884 896.7747,-173.7838 906.7366,-164.2788\"/>\n<polygon fill=\"#000000\" stroke=\"#000000\" points=\"909.4102,-166.5655 914.2291,-157.13 904.5779,-161.5009 909.4102,-166.5655\"/>\n</g>\n<!-- 11 -->\n<g id=\"node12\" class=\"node\">\n<title>11</title>\n<path fill=\"#f2bf9b\" stroke=\"#000000\" d=\"M929,-53C929,-53 753,-53 753,-53 747,-53 741,-47 741,-41 741,-41 741,-12 741,-12 741,-6 747,0 753,0 753,0 929,0 929,0 935,0 941,-6 941,-12 941,-12 941,-41 941,-41 941,-47 935,-53 929,-53\"/>\n<text text-anchor=\"middle\" x=\"841\" y=\"-37.8\" font-family=\"Helvetica,sans-Serif\" font-size=\"14.00\" fill=\"#000000\">samples = 0.7%</text>\n<text text-anchor=\"middle\" x=\"841\" y=\"-22.8\" font-family=\"Helvetica,sans-Serif\" font-size=\"14.00\" fill=\"#000000\">value = [0.657, 0.037, 0.306]</text>\n<text text-anchor=\"middle\" x=\"841\" y=\"-7.8\" font-family=\"Helvetica,sans-Serif\" font-size=\"14.00\" fill=\"#000000\">class = functional</text>\n</g>\n<!-- 10&#45;&gt;11 -->\n<g id=\"edge11\" class=\"edge\">\n<title>10&#45;&gt;11</title>\n<path fill=\"none\" stroke=\"#000000\" d=\"M911.5707,-88.9777C900.9173,-79.546 889.3641,-69.3178 878.7499,-59.9208\"/>\n<polygon fill=\"#000000\" stroke=\"#000000\" points=\"881.0207,-57.2566 871.2133,-53.2485 876.3806,-62.4978 881.0207,-57.2566\"/>\n</g>\n<!-- 12 -->\n<g id=\"node13\" class=\"node\">\n<title>12</title>\n<path fill=\"#f8f3fd\" stroke=\"#000000\" d=\"M1147,-53C1147,-53 971,-53 971,-53 965,-53 959,-47 959,-41 959,-41 959,-12 959,-12 959,-6 965,0 971,0 971,0 1147,0 1147,0 1153,0 1159,-6 1159,-12 1159,-12 1159,-41 1159,-41 1159,-47 1153,-53 1147,-53\"/>\n<text text-anchor=\"middle\" x=\"1059\" y=\"-37.8\" font-family=\"Helvetica,sans-Serif\" font-size=\"14.00\" fill=\"#000000\">samples = 0.2%</text>\n<text text-anchor=\"middle\" x=\"1059\" y=\"-22.8\" font-family=\"Helvetica,sans-Serif\" font-size=\"14.00\" fill=\"#000000\">value = [0.452, 0.065, 0.484]</text>\n<text text-anchor=\"middle\" x=\"1059\" y=\"-7.8\" font-family=\"Helvetica,sans-Serif\" font-size=\"14.00\" fill=\"#000000\">class = non functional</text>\n</g>\n<!-- 10&#45;&gt;12 -->\n<g id=\"edge12\" class=\"edge\">\n<title>10&#45;&gt;12</title>\n<path fill=\"none\" stroke=\"#000000\" d=\"M988.4293,-88.9777C999.0827,-79.546 1010.6359,-69.3178 1021.2501,-59.9208\"/>\n<polygon fill=\"#000000\" stroke=\"#000000\" points=\"1023.6194,-62.4978 1028.7867,-53.2485 1018.9793,-57.2566 1023.6194,-62.4978\"/>\n</g>\n</g>\n</svg>\n"
          },
          "metadata": {
            "tags": []
          }
        }
      ]
    },
    {
      "cell_type": "markdown",
      "metadata": {
        "colab_type": "text",
        "id": "P4EJi2GvgLVa"
      },
      "source": [
        "# Understand how tree ensembles reduce overfitting compared to a single decision tree with unlimited depth"
      ]
    },
    {
      "cell_type": "markdown",
      "metadata": {
        "id": "dYwypi13_mgF",
        "colab_type": "text"
      },
      "source": [
        "## Overview"
      ]
    },
    {
      "cell_type": "markdown",
      "metadata": {
        "colab_type": "text",
        "id": "0nNABF3HgLVg"
      },
      "source": [
        "### What's \"random\" about random forests?\n",
        "1. Each tree trains on a random bootstrap sample of the data. (In scikit-learn, for `RandomForestRegressor` and `RandomForestClassifier`, the `bootstrap` parameter's default is `True`.) This type of ensembling is called Bagging. (Bootstrap AGGregatING.)\n",
        "2. Each split considers a random subset of the features. (In scikit-learn, when the `max_features` parameter is not `None`.) \n",
        "\n",
        "For extra randomness, you can try [\"extremely randomized trees\"](https://scikit-learn.org/stable/modules/ensemble.html#extremely-randomized-trees)!\n",
        "\n",
        ">In extremely randomized trees (see [ExtraTreesClassifier](https://scikit-learn.org/stable/modules/generated/sklearn.ensemble.ExtraTreesClassifier.html) and [ExtraTreesRegressor](https://scikit-learn.org/stable/modules/generated/sklearn.ensemble.ExtraTreesRegressor.html) classes), randomness goes one step further in the way splits are computed. As in random forests, a random subset of candidate features is used, but instead of looking for the most discriminative thresholds, thresholds are drawn at random for each candidate feature and the best of these randomly-generated thresholds is picked as the splitting rule. This usually allows to reduce the variance of the model a bit more, at the expense of a slightly greater increase in bias"
      ]
    },
    {
      "cell_type": "markdown",
      "metadata": {
        "id": "i3M8oN4J_mgK",
        "colab_type": "text"
      },
      "source": [
        "## Follow Along"
      ]
    },
    {
      "cell_type": "markdown",
      "metadata": {
        "colab_type": "text",
        "id": "pUYP619CgLVb"
      },
      "source": [
        "### Example: [predicting golf putts](https://statmodeling.stat.columbia.edu/2008/12/04/the_golf_puttin/)\n",
        "(1 feature, non-linear, regression)"
      ]
    },
    {
      "cell_type": "code",
      "metadata": {
        "colab_type": "code",
        "id": "b4640ukxgLVc",
        "colab": {}
      },
      "source": [
        "putts = pd.DataFrame(\n",
        "    columns=['distance', 'tries', 'successes'], \n",
        "    data = [[2, 1443, 1346],\n",
        "            [3, 694, 577],\n",
        "            [4, 455, 337],\n",
        "            [5, 353, 208],\n",
        "            [6, 272, 149],\n",
        "            [7, 256, 136],\n",
        "            [8, 240, 111],\n",
        "            [9, 217, 69],\n",
        "            [10, 200, 67],\n",
        "            [11, 237, 75],\n",
        "            [12, 202, 52],\n",
        "            [13, 192, 46],\n",
        "            [14, 174, 54],\n",
        "            [15, 167, 28],\n",
        "            [16, 201, 27],\n",
        "            [17, 195, 31],\n",
        "            [18, 191, 33],\n",
        "            [19, 147, 20],\n",
        "            [20, 152, 24]]\n",
        ")\n",
        "\n",
        "putts['rate of success'] = putts['successes'] / putts['tries']\n",
        "putts_X = putts[['distance']]\n",
        "putts_y = putts['rate of success']"
      ],
      "execution_count": 0,
      "outputs": []
    },
    {
      "cell_type": "code",
      "metadata": {
        "colab_type": "code",
        "id": "T0IpCcKggLVd",
        "colab": {
          "base_uri": "https://localhost:8080/",
          "height": 637,
          "referenced_widgets": [
            "bc10ade5cf0f4896aaa4c73d80b7071f",
            "f4425246338d42619a61e48c7a311763",
            "94ee6b68436245bf8ae8b75a744b5185",
            "a2d2356352474a8291b0ef92e9a1bf37",
            "d34cbdd537b54ec6b928daca3bf7f172",
            "b3c1606face3432585e14de84b218c29",
            "5faa1da1c1d8423b9c5fe79baa443b7c",
            "5703f2bdf8264233a7d8340fded819c0",
            "d624233b2cfc468e8750e13cfa018608",
            "7af02813e40246949af9bbc01b3eb14c"
          ]
        },
        "outputId": "af947a8b-4aed-417c-fc44-425aaeafe14b"
      },
      "source": [
        "%matplotlib inline\n",
        "import matplotlib.pyplot as plt\n",
        "from ipywidgets import interact\n",
        "from sklearn.ensemble import RandomForestRegressor\n",
        "from sklearn.tree import DecisionTreeRegressor\n",
        "\n",
        "def putt_trees(max_depth=1, n_estimators=1):\n",
        "    models = [DecisionTreeRegressor(max_depth=max_depth), \n",
        "              RandomForestRegressor(max_depth=max_depth, n_estimators=n_estimators)]\n",
        "    \n",
        "    for model in models:\n",
        "        name = model.__class__.__name__\n",
        "        model.fit(putts_X, putts_y)\n",
        "        ax = putts.plot('distance', 'rate of success', kind='scatter', title=name)\n",
        "        ax.step(putts_X, model.predict(putts_X), where='mid')\n",
        "        plt.show()\n",
        "        \n",
        "interact(putt_trees, max_depth=(1,6,1), n_estimators=(10,40,10));"
      ],
      "execution_count": 60,
      "outputs": [
        {
          "output_type": "display_data",
          "data": {
            "application/vnd.jupyter.widget-view+json": {
              "model_id": "bc10ade5cf0f4896aaa4c73d80b7071f",
              "version_minor": 0,
              "version_major": 2
            },
            "text/plain": [
              "interactive(children=(IntSlider(value=1, description='max_depth', max=6, min=1), IntSlider(value=10, descripti…"
            ]
          },
          "metadata": {
            "tags": []
          }
        }
      ]
    },
    {
      "cell_type": "markdown",
      "metadata": {
        "colab_type": "text",
        "id": "rq4Z_wQ_gLVj"
      },
      "source": [
        "### Go back to Tanzania Waterpumps ..."
      ]
    },
    {
      "cell_type": "markdown",
      "metadata": {
        "colab_type": "text",
        "id": "FoSE9iT6YXQz"
      },
      "source": [
        "#### Helper function to visualize predicted probabilities\n",
        "\n"
      ]
    },
    {
      "cell_type": "code",
      "metadata": {
        "colab_type": "code",
        "id": "HzIAjGpJgLVj",
        "colab": {}
      },
      "source": [
        "import itertools\n",
        "import seaborn as sns\n",
        "\n",
        "def pred_heatmap(model, X, features, class_index=-1, title='', num=100):\n",
        "    \"\"\"\n",
        "    Visualize predicted probabilities, for classifier fit on 2 numeric features\n",
        "    \n",
        "    Parameters\n",
        "    ----------\n",
        "    model : scikit-learn classifier, already fit\n",
        "    X : pandas dataframe, which was used to fit model\n",
        "    features : list of strings, column names of the 2 numeric features\n",
        "    class_index : integer, index of class label\n",
        "    title : string, title of plot\n",
        "    num : int, number of grid points for each feature\n",
        "    \n",
        "    Returns\n",
        "    -------\n",
        "    y_pred_proba : numpy array, predicted probabilities for class_index\n",
        "    \"\"\"\n",
        "    feature1, feature2 = features\n",
        "    min1, max1 = X[feature1].min(), X[feature1].max()\n",
        "    min2, max2 = X[feature2].min(), X[feature2].max()\n",
        "    x1 = np.linspace(min1, max1, num)\n",
        "    x2 = np.linspace(max2, min2, num)\n",
        "    combos = list(itertools.product(x1, x2))\n",
        "    y_pred_proba = model.predict_proba(combos)[:, class_index]\n",
        "    pred_grid = y_pred_proba.reshape(num, num).T\n",
        "    table = pd.DataFrame(pred_grid, columns=x1, index=x2)\n",
        "    sns.heatmap(table, vmin=0, vmax=1)\n",
        "    plt.xticks([])\n",
        "    plt.yticks([])\n",
        "    plt.xlabel(feature1)\n",
        "    plt.ylabel(feature2)\n",
        "    plt.title(title)\n",
        "    plt.show()\n",
        "    return y_pred_proba\n"
      ],
      "execution_count": 0,
      "outputs": []
    },
    {
      "cell_type": "markdown",
      "metadata": {
        "colab_type": "text",
        "id": "DiRfPqHjgLVl"
      },
      "source": [
        "### Compare Decision Tree, Random Forest, Logistic Regression"
      ]
    },
    {
      "cell_type": "code",
      "metadata": {
        "colab_type": "code",
        "id": "HKkMLXhMgLVl",
        "colab": {
          "base_uri": "https://localhost:8080/",
          "height": 865,
          "referenced_widgets": [
            "41f6bcfed6fc43668e141a7a52d6cb4a",
            "8f6ccdb80faf4633afa46b224aa4425a",
            "6c1cfe52a3854c348abebfa7d2aa70b3",
            "d88dab70f97f4ad799342152c76ac7e8",
            "977e6c0e81ed4f248d3e9ab5a225c8ca",
            "8c95e6adfdc8438789563c21692abb62",
            "a0401ff8cf584912aba887e3bf0033ea",
            "41e0ec13e114495dbf60cb4dc04b72b2",
            "adfb0eade3f74359818691e3bdb63c73",
            "c7164df19733448790749146cecfa908"
          ]
        },
        "outputId": "230b4fa0-869b-4d05-e374-35d64a71cd3d"
      },
      "source": [
        "# Instructions\n",
        "# 1. Choose two features\n",
        "# 2. Run this code cell\n",
        "# 3. Interact with the widget sliders\n",
        "feature1 = 'longitude'\n",
        "feature2 = 'quantity'\n",
        "\n",
        "from sklearn.linear_model import LogisticRegression\n",
        "from sklearn.tree import DecisionTreeClassifier\n",
        "\n",
        "def get_X_y(df, feature1, feature2, target):\n",
        "    features = [feature1, feature2]\n",
        "    X = df[features]\n",
        "    y = df[target]\n",
        "    X = X.fillna(X.median())\n",
        "    X = ce.OrdinalEncoder().fit_transform(X)\n",
        "    return X, y\n",
        "\n",
        "def compare_models(max_depth=1, n_estimators=1):\n",
        "    models = [DecisionTreeClassifier(max_depth=max_depth), \n",
        "              RandomForestClassifier(max_depth=max_depth, n_estimators=n_estimators), \n",
        "              LogisticRegression(solver='lbfgs', multi_class='auto')]\n",
        "    \n",
        "    for model in models:\n",
        "        name = model.__class__.__name__\n",
        "        model.fit(X, y)\n",
        "        pred_heatmap(model, X, [feature1, feature2], class_index=0, title=name)\n",
        "\n",
        "X, y = get_X_y(train, feature1, feature2, target='status_group')\n",
        "interact(compare_models, max_depth=(1,6,1), n_estimators=(10,40,10));"
      ],
      "execution_count": 62,
      "outputs": [
        {
          "output_type": "display_data",
          "data": {
            "application/vnd.jupyter.widget-view+json": {
              "model_id": "41f6bcfed6fc43668e141a7a52d6cb4a",
              "version_minor": 0,
              "version_major": 2
            },
            "text/plain": [
              "interactive(children=(IntSlider(value=1, description='max_depth', max=6, min=1), IntSlider(value=10, descripti…"
            ]
          },
          "metadata": {
            "tags": []
          }
        }
      ]
    },
    {
      "cell_type": "markdown",
      "metadata": {
        "colab_type": "text",
        "id": "hOQqjLEDgLVn"
      },
      "source": [
        "### Bagging"
      ]
    },
    {
      "cell_type": "code",
      "metadata": {
        "colab_type": "code",
        "id": "Hm4aPgs2gLVn",
        "colab": {
          "base_uri": "https://localhost:8080/",
          "height": 865,
          "referenced_widgets": [
            "044b91cbadfb48bf84a55a5159257434",
            "7af0bc1314b04750aae3dd3c4fce3209",
            "3bfbf43b67814ad1aa4ce73040d31bbe",
            "0b5313ab98214e3bab76f1c7a62093f5",
            "1d1541102b5f483b97720492930a4e5f",
            "af9087621eb5409d8884e3f30cb0d741",
            "1524435f685d443e9d381751d8968f7e",
            "6d6bb240fbe84ce2bd514a3db271b456",
            "9822fef67ee440eb98f54ba13b5d72d7",
            "d1fa3b02825a4c22a0bfbfe20dd123f9"
          ]
        },
        "outputId": "8bb1587a-72d5-4bd5-8fae-36dc9a0f2e81"
      },
      "source": [
        "# Do-it-yourself Bagging Ensemble of Decision Trees (like a Random Forest)\n",
        "\n",
        "# Instructions\n",
        "# 1. Choose two features\n",
        "# 2. Run this code cell\n",
        "# 3. Interact with the widget sliders\n",
        "\n",
        "feature1 = 'longitude'\n",
        "feature2 = 'latitude'\n",
        "\n",
        "def waterpumps_bagging(max_depth=1, n_estimators=1):\n",
        "    predicteds = []\n",
        "    for i in range(n_estimators):\n",
        "        title = f'Tree {i+1}'\n",
        "        bootstrap_sample = train.sample(n=len(train), replace=True)\n",
        "        X, y = get_X_y(bootstrap_sample, feature1, feature2, target='status_group')\n",
        "        tree = DecisionTreeClassifier(max_depth=max_depth)\n",
        "        tree.fit(X, y)\n",
        "        predicted = pred_heatmap(tree, X, [feature1, feature2], class_index=0, title=title)\n",
        "        predicteds.append(predicted)\n",
        "    \n",
        "    ensembled = np.vstack(predicteds).mean(axis=0)\n",
        "    title = f'Ensemble of {n_estimators} trees, with max_depth={max_depth}'\n",
        "    sns.heatmap(ensembled.reshape(100, 100).T, vmin=0, vmax=1)\n",
        "    plt.title(title)\n",
        "    plt.xlabel(feature1)\n",
        "    plt.ylabel(feature2)\n",
        "    plt.xticks([])\n",
        "    plt.yticks([])\n",
        "    plt.show()\n",
        "        \n",
        "interact(waterpumps_bagging, max_depth=(1,6,1), n_estimators=(2,5,1));"
      ],
      "execution_count": 63,
      "outputs": [
        {
          "output_type": "display_data",
          "data": {
            "application/vnd.jupyter.widget-view+json": {
              "model_id": "044b91cbadfb48bf84a55a5159257434",
              "version_minor": 0,
              "version_major": 2
            },
            "text/plain": [
              "interactive(children=(IntSlider(value=1, description='max_depth', max=6, min=1), IntSlider(value=2, descriptio…"
            ]
          },
          "metadata": {
            "tags": []
          }
        }
      ]
    },
    {
      "cell_type": "markdown",
      "metadata": {
        "colab_type": "text",
        "id": "wYoSBi15akWP"
      },
      "source": [
        "# Review\n",
        "\n",
        "#### Try Tree Ensembles when you do machine learning with labeled, tabular data\n",
        "- \"Tree Ensembles\" means Random Forest or Gradient Boosting models. \n",
        "- [Tree Ensembles often have the best predictive accuracy](https://arxiv.org/abs/1708.05070) with labeled, tabular data.\n",
        "- Why? Because trees can fit non-linear, non-[monotonic](https://en.wikipedia.org/wiki/Monotonic_function) relationships, and [interactions](https://christophm.github.io/interpretable-ml-book/interaction.html) between features.\n",
        "- A single decision tree, grown to unlimited depth, will [overfit](http://www.r2d3.us/visual-intro-to-machine-learning-part-1/). We solve this problem by ensembling trees, with bagging (Random Forest) or boosting (Gradient Boosting).\n",
        "- Random Forest's advantage: may be less sensitive to hyperparameters. Gradient Boosting's advantage: may get better predictive accuracy.\n",
        "\n",
        "#### One-hot encoding isn’t the only way, and may not be the best way, of categorical encoding for tree ensembles.\n",
        "- For example, tree ensembles can work with arbitrary \"ordinal\" encoding! (Randomly assigning an integer to each category.) Compared to one-hot encoding, the dimensionality will be lower, and the predictive accuracy may be just as good or even better.\n"
      ]
    }
  ]
}